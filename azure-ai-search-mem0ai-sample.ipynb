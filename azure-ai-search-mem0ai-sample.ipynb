{
 "cells": [
  {
   "cell_type": "markdown",
   "metadata": {},
   "source": [
    "# Azure AI Search as Agent Memory Demo (Vinod traveling to Seattle)\n",
    "\n",
    "This notebook shows how **Mem0** can use **Azure AI Search** for storing agent memory, combined with **Azure OpenAI** to generate answers. Our user **Vinod** wants to travel from **San Francisco** to **Seattle**, is vegetarian, and has a peanut allergy.\n",
    "\n",
    "We’ll demonstrate:\n",
    "1. **User/Semantic Memory** (long-term, semantic) with access control\n",
    "2. **Session/Episodic Memory** (short-term, run-based)\n",
    "3. **Agent/Procedural Memory** (procedural instructions)\n",
    "4. **Multi-Agent** usage (travel & dining assistants)\n",
    "5. **Summarization** of a large transcript\n",
    "6. **Retrieving Agent Memory for Agentic Grounding** for final output"
   ]
  },
  {
   "cell_type": "markdown",
   "metadata": {},
   "source": [
    "## 1) Installation\n",
    "\n",
    "```bash\n",
    "pip install openai mem0ai azure-search-documents==11.5.2 python-dotenv"
   ]
  },
  {
   "cell_type": "code",
   "execution_count": null,
   "metadata": {},
   "outputs": [],
   "source": [
    "!pip install openai \n",
    "!pip install azure-search-documents==11.5.2\n",
    "!pip install mem0ai --pre\n",
    "!pip install python-dotenv"
   ]
  },
  {
   "cell_type": "markdown",
   "metadata": {},
   "source": [
    "## 2) Imports & Environment Setup"
   ]
  },
  {
   "cell_type": "code",
   "execution_count": null,
   "metadata": {},
   "outputs": [
    {
     "name": "stdout",
     "output_type": "stream",
     "text": [
      "Environment loaded.\n"
     ]
    }
   ],
   "source": [
    "import os\n",
    "import openai\n",
    "from dotenv import load_dotenv\n",
    "from mem0 import Memory, MemoryClient\n",
    "from openai import AzureOpenAI\n",
    "\n",
    "# Load environment from .env or system\n",
    "load_dotenv()\n",
    "\n",
    "# Azure OpenAI configuration\n",
    "AZURE_OPENAI_ENDPOINT = os.getenv(\"AZURE_OPENAI_ENDPOINT\")\n",
    "AZURE_OPENAI_API_KEY = os.getenv(\"AZURE_OPENAI_API_KEY\")\n",
    "AZURE_OPENAI_CHAT_COMPLETION_DEPLOYED_MODEL_NAME = os.getenv(\"AZURE_OPENAI_CHAT_COMPLETION_DEPLOYED_MODEL_NAME\")\n",
    "AZURE_OPENAI_EMBEDDING_DEPLOYED_MODEL_NAME = os.getenv(\"AZURE_OPENAI_EMBEDDING_DEPLOYED_MODEL_NAME\")\n",
    "\n",
    "# Azure AI Search\n",
    "SEARCH_SERVICE_ENDPOINT = os.getenv(\"AZURE_SEARCH_SERVICE_ENDPOINT\")\n",
    "SEARCH_SERVICE_API_KEY = os.getenv(\"AZURE_SEARCH_ADMIN_KEY\")\n",
    "\n",
    "# Mem0\n",
    "MEM0AI_API_KEY = os.getenv(\"MEM0AI_API_KEY\")\n",
    "\n",
    "# Configure OpenAI for Azure\n",
    "client = AzureOpenAI(\n",
    "    azure_endpoint=AZURE_OPENAI_ENDPOINT,\n",
    "    api_key=AZURE_OPENAI_API_KEY,\n",
    "    api_version=\"2024-12-01-preview\",\n",
    ")\n",
    "\n",
    "print(\"Environment loaded.\")\n"
   ]
  },
  {
   "cell_type": "markdown",
   "metadata": {},
   "source": [
    "## 3) Configure Mem0 with Azure AI Search"
   ]
  },
  {
   "cell_type": "code",
   "execution_count": 36,
   "metadata": {},
   "outputs": [],
   "source": [
    "# Initialize Mem0 with Azure OpenAI and Azure AI Search integration\n",
    "config = {\n",
    "    \"llm\": {\n",
    "        \"provider\": \"azure_openai\",\n",
    "        \"config\": {\n",
    "            \"model\": AZURE_OPENAI_CHAT_COMPLETION_DEPLOYED_MODEL_NAME,\n",
    "            \"temperature\": 0.1,\n",
    "            \"max_tokens\": 2000,\n",
    "            \"azure_kwargs\": {\n",
    "                \"azure_deployment\": AZURE_OPENAI_CHAT_COMPLETION_DEPLOYED_MODEL_NAME,\n",
    "                \"api_version\": \"2024-10-21\",\n",
    "                \"azure_endpoint\": AZURE_OPENAI_ENDPOINT,\n",
    "                \"api_key\": AZURE_OPENAI_API_KEY,\n",
    "            },\n",
    "        },\n",
    "    },\n",
    "    \"embedder\": {\n",
    "        \"provider\": \"azure_openai\",\n",
    "        \"config\": {\n",
    "            \"model\": AZURE_OPENAI_EMBEDDING_DEPLOYED_MODEL_NAME,\n",
    "            \"embedding_dims\": 1536,\n",
    "            \"azure_kwargs\": {\n",
    "                \"api_version\": \"2024-10-21\",\n",
    "                \"azure_deployment\": AZURE_OPENAI_EMBEDDING_DEPLOYED_MODEL_NAME,\n",
    "                \"azure_endpoint\": AZURE_OPENAI_ENDPOINT,\n",
    "                \"api_key\": AZURE_OPENAI_API_KEY,\n",
    "            },\n",
    "        },\n",
    "    },\n",
    "    \"vector_store\": {\n",
    "        \"provider\": \"azure_ai_search\",\n",
    "        \"config\": {\n",
    "            \"service_name\": \"fsunavala-performance-test\",\n",
    "            \"api_key\": SEARCH_SERVICE_API_KEY,\n",
    "            \"collection_name\": \"aisearch-agent-memory-poc\",\n",
    "            \"embedding_model_dims\": 1536,\n",
    "            \"use_compression\": True,\n",
    "        },\n",
    "    },\n",
    "    \"version\": \"v1.1\",  \n",
    "}\n",
    "\n",
    "memory = Memory.from_config(config)\n",
    "mem0_client = MemoryClient(api_key=MEM0AI_API_KEY)"
   ]
  },
  {
   "cell_type": "markdown",
   "metadata": {},
   "source": [
    "## 4) Simple GPT-4o Chat Helper"
   ]
  },
  {
   "cell_type": "code",
   "execution_count": 46,
   "metadata": {},
   "outputs": [
    {
     "name": "stdout",
     "output_type": "stream",
     "text": [
      "ask_gpt function created.\n"
     ]
    }
   ],
   "source": [
    "import openai\n",
    "\n",
    "# We'll maintain a conversation log to simulate a small chat\n",
    "conversation_log = [\n",
    "    {\"role\": \"system\", \"content\": \"You are a friendly travel planning assistant for Seattle trips.\"},\n",
    "]\n",
    "\n",
    "def ask_gpt(user_message, temperature=0.7):\n",
    "    conversation_log.append({\"role\": \"user\", \"content\": user_message})\n",
    "    response = client.chat.completions.create(\n",
    "        model=AZURE_OPENAI_CHAT_COMPLETION_DEPLOYED_MODEL_NAME,\n",
    "        messages=conversation_log,\n",
    "        temperature=temperature\n",
    "    )\n",
    "    reply = response.choices[0].message.content\n",
    "    conversation_log.append({\"role\": \"assistant\", \"content\": reply})\n",
    "    return reply\n",
    "\n",
    "print(\"ask_gpt function created.\")\n"
   ]
  },
  {
   "cell_type": "markdown",
   "metadata": {},
   "source": [
    "## 5) Scenario A: User Memory + Access Control\n",
    "Vinod is our user. He’s traveling from SF to Seattle, is vegetarian, and has a peanut allergy."
   ]
  },
  {
   "cell_type": "code",
   "execution_count": 38,
   "metadata": {},
   "outputs": [
    {
     "name": "stdout",
     "output_type": "stream",
     "text": [
      "Scenario A user memory (Vinod) stored. Searching...\n",
      "- ID: 03abb7cb-c2c3-4cd1-8d07-8754422b418c | Memory: Prefers vegetarian meals | Score: 0.61694175\n",
      "- ID: 86db5147-9178-4984-8424-c055fc108358 | Memory: Prefers to keep the procedure private | Score: 0.58864707\n",
      "- ID: 5721d8d5-5ae6-4ad1-b1e9-7d6fdc4854bb | Memory: Allergic to peanuts | Score: 0.54264903\n",
      "- ID: 66e75c20-a332-461e-9004-683258cebc81 | Memory: Upcoming medical procedure on March 1st | Score: 0.5184054\n"
     ]
    }
   ],
   "source": [
    "user_id = \"vinod\"\n",
    "\n",
    "# Public preference\n",
    "memory.add(\n",
    "    \"I am allergic to peanuts and prefer vegetarian meals.\",\n",
    "    user_id=user_id,\n",
    "    metadata={\"access_level\": \"public\"}\n",
    ")\n",
    "\n",
    "# Private note\n",
    "memory.add(\n",
    "    \"I have an upcoming medical procedure on March 1st, prefer to keep it private.\",\n",
    "    user_id=user_id,\n",
    "    metadata={\"access_level\": \"private\"}\n",
    ")\n",
    "\n",
    "print(\"Scenario A user memory (Vinod) stored. Searching...\")\n",
    "\n",
    "query = \"What do we know about Vinod's preferences?\"\n",
    "results_user = memory.search(query, user_id=user_id)\n",
    "for r in results_user.get(\"results\", []):\n",
    "    print(f\"- ID: {r['id']} | Memory: {r['memory']} | Score: {r.get('score')}\")\n"
   ]
  },
  {
   "cell_type": "markdown",
   "metadata": {},
   "source": [
    "## 6) Scenario B: Session Memory (Episodic)\n",
    "Vinod is planning a Seattle trip (flying from SF). We store ephemeral details under run_id=vinod-seattle-2024."
   ]
  },
  {
   "cell_type": "code",
   "execution_count": 39,
   "metadata": {},
   "outputs": [
    {
     "name": "stdout",
     "output_type": "stream",
     "text": [
      "Session memory stored for Seattle trip.\n",
      "Session Memory Search:\n",
      "- ID: a46c4eb8-b7ca-45f6-8448-4fc1d8dfb60f | Memory: Wants a 3-star or better hotel in downtown Seattle\n",
      "- ID: 03abb7cb-c2c3-4cd1-8d07-8754422b418c | Memory: Prefers vegetarian meals\n",
      "- ID: 86db5147-9178-4984-8424-c055fc108358 | Memory: Prefers to keep the procedure private\n",
      "- ID: e3b1ce5e-d365-43c4-bb55-15e5181f5563 | Memory: Budget is moderate\n",
      "- ID: f024b4e5-53f8-499c-89cc-8c738d40812b | Memory: Wants to explore the Space Needle\n",
      "- ID: 5721d8d5-5ae6-4ad1-b1e9-7d6fdc4854bb | Memory: Allergic to peanuts\n",
      "- ID: 66e75c20-a332-461e-9004-683258cebc81 | Memory: Upcoming medical procedure on March 1st\n"
     ]
    }
   ],
   "source": [
    "session_id = \"vinod-seattle-2024\"\n",
    "\n",
    "memory.add(\n",
    "    \"Vinod wants a 3-star or better hotel in downtown Seattle. Budget is moderate.\",\n",
    "    user_id=user_id,\n",
    "    run_id=session_id\n",
    ")\n",
    "\n",
    "memory.add(\n",
    "    \"Vinod also wants to explore the Space Needle, Pike Place Market, and vegetarian restaurants near them.\",\n",
    "    user_id=user_id,\n",
    "    run_id=session_id\n",
    ")\n",
    "\n",
    "print(\"Session memory stored for Seattle trip.\")\n",
    "\n",
    "search_query = \"What do we know about the hotel rating preference?\"\n",
    "session_results = memory.search(search_query, user_id=user_id, run_id=session_id)\n",
    "print(\"Session Memory Search:\")\n",
    "for r in session_results.get(\"results\", []):\n",
    "    print(f\"- ID: {r['id']} | Memory: {r['memory']}\")\n"
   ]
  },
  {
   "cell_type": "markdown",
   "metadata": {},
   "source": [
    "## 7) Scenario C: Agent (Procedural) Memory + Multi-Agent\n",
    "We have two agents:\n",
    "\n",
    "- **travel-assistant**\n",
    "- **dining-assistant**\n",
    "\n",
    "We store their procedural instructions. Then we store a multi-agent memory indicating peanut-free constraints."
   ]
  },
  {
   "cell_type": "code",
   "execution_count": 41,
   "metadata": {},
   "outputs": [
    {
     "name": "stdout",
     "output_type": "stream",
     "text": [
      "Agent memory stored for both travel/dining assistants.\n",
      "Multi-agent memory added for travel & dining.\n"
     ]
    }
   ],
   "source": [
    "agent_travel = \"travel-assistant\"\n",
    "agent_dining = \"dining-assistant\"\n",
    "\n",
    "# Travel agent rules\n",
    "memory.add(\n",
    "    \"Always greet Vinod politely and consider flights from SF to Seattle + hotel rating.\",\n",
    "    agent_id=agent_travel,\n",
    "    metadata={\"priority\": \"high\"}\n",
    ")\n",
    "\n",
    "# Dining agent rules\n",
    "memory.add(\n",
    "    \"Offer at least 3 vegetarian recommendations if user wants restaurants. Avoid peanuts.\",\n",
    "    agent_id=agent_dining,\n",
    "    metadata={\"priority\": \"high\"}\n",
    ")\n",
    "\n",
    "print(\"Agent memory stored for both travel/dining assistants.\")\n",
    "\n",
    "# Multi-agent memory\n",
    "multi_text = \"Both travel and dining must exclude peanuts for Vinod, who is severely allergic.\"\n",
    "memory.add(\n",
    "    multi_text,\n",
    "    agent_id=[agent_travel, agent_dining],\n",
    "    metadata={\"category\": \"safety\"}\n",
    ")\n",
    "print(\"Multi-agent memory added for travel & dining.\")\n"
   ]
  },
  {
   "cell_type": "markdown",
   "metadata": {},
   "source": [
    "### Check multi-agent memory"
   ]
  },
  {
   "cell_type": "code",
   "execution_count": 44,
   "metadata": {},
   "outputs": [
    {
     "name": "stdout",
     "output_type": "stream",
     "text": [
      "Dining sees:\n",
      " {'results': [{'id': '8766bfb8-7cc6-4230-8da4-fac4be331d9c', 'memory': 'User wants to avoid peanuts', 'hash': '316eb3df8ec9cd1aa31a00f1c0ef1a8a', 'metadata': {'priority': 'high'}, 'score': 0.6816331, 'created_at': '2025-01-25T16:02:23.501853-08:00', 'updated_at': None, 'agent_id': 'dining-assistant'}, {'id': '5721d8d5-5ae6-4ad1-b1e9-7d6fdc4854bb', 'memory': 'Travel and dining must exclude peanuts for Vinod, who is severely allergic', 'hash': 'f82247f101377141406c71223aec2897', 'metadata': {'category': 'safety'}, 'score': 0.5984967, 'created_at': '2025-01-25T15:59:38.554638-08:00', 'updated_at': '2025-01-25T16:02:00.605947-08:00', 'user_id': 'vinod', 'agent_id': ['travel-assistant', 'dining-assistant']}, {'id': '49b7bfa7-a2ae-4f2e-a9bc-ceefa40cddf0', 'memory': 'Wants to explore Pike Place Market', 'hash': 'b4c37a1834d69dc35c908ae93cf080c6', 'metadata': None, 'score': 0.5632208, 'created_at': '2025-01-25T16:01:13.988585-08:00', 'updated_at': None, 'user_id': 'vinod', 'run_id': 'vinod-seattle-2024'}]}\n",
      "\n",
      "Travel sees:\n",
      " {'results': [{'id': '8766bfb8-7cc6-4230-8da4-fac4be331d9c', 'memory': 'User wants to avoid peanuts', 'hash': '316eb3df8ec9cd1aa31a00f1c0ef1a8a', 'metadata': {'priority': 'high'}, 'score': 0.6816331, 'created_at': '2025-01-25T16:02:23.501853-08:00', 'updated_at': None, 'agent_id': 'dining-assistant'}, {'id': '5721d8d5-5ae6-4ad1-b1e9-7d6fdc4854bb', 'memory': 'Travel and dining must exclude peanuts for Vinod, who is severely allergic', 'hash': 'f82247f101377141406c71223aec2897', 'metadata': {'category': 'safety'}, 'score': 0.5984967, 'created_at': '2025-01-25T15:59:38.554638-08:00', 'updated_at': '2025-01-25T16:02:00.605947-08:00', 'user_id': 'vinod', 'agent_id': ['travel-assistant', 'dining-assistant']}, {'id': '49b7bfa7-a2ae-4f2e-a9bc-ceefa40cddf0', 'memory': 'Wants to explore Pike Place Market', 'hash': 'b4c37a1834d69dc35c908ae93cf080c6', 'metadata': None, 'score': 0.5632208, 'created_at': '2025-01-25T16:01:13.988585-08:00', 'updated_at': None, 'user_id': 'vinod', 'run_id': 'vinod-seattle-2024'}]}\n"
     ]
    }
   ],
   "source": [
    "peanut_query = \"peanuts\"\n",
    "dining_search = memory.search(peanut_query, agent_id=agent_dining, limit=3) # adding limit=3 (fyi - same as top=3 in AZS request body) here for demo but not required\n",
    "print(\"Dining sees:\\n\", dining_search)\n",
    "\n",
    "travel_search = memory.search(peanut_query, agent_id=agent_travel, limit=3)\n",
    "print(\"\\nTravel sees:\\n\", travel_search)\n"
   ]
  },
  {
   "cell_type": "markdown",
   "metadata": {},
   "source": [
    "## 8) Summarization Example\n",
    "We’ll define a large conversation about traveling to Seattle, ask GPT to summarize, then store that summary in Mem0."
   ]
  },
  {
   "cell_type": "code",
   "execution_count": 47,
   "metadata": {},
   "outputs": [
    {
     "name": "stdout",
     "output_type": "stream",
     "text": [
      "Summary stored in Mem0:\n",
      " Vinod is planning a well-rounded trip to Seattle, focusing on vegetarian dining options that accommodate his peanut allergy, while also ensuring comfortable accommodations in downtown near key attractions like the Space Needle and Pike Place Market. He aims to balance memorable experiences with budget considerations, exploring scenic parks and waterfront areas to connect with nature and enjoy the local culture.\n"
     ]
    }
   ],
   "source": [
    "large_convo = \"\"\"\n",
    "User: Vinod, an avid traveler with a passion for exploring new cities, is gearing up for his journey from San Francisco to Seattle. As a dedicated vegetarian who also contends with a peanut allergy, Vinod carefully plans his meals to ensure both safety and satisfaction throughout his trip. Understanding the importance of comfortable accommodations, he is specifically looking for a 3-star or higher-rated hotel situated in the bustling downtown area of Seattle, where he can easily access his points of interest and immerse himself in the city's vibrant atmosphere.\n",
    "Assistant: Thanks for providing such detailed information about Vinod’s preferences! To ensure his trip is well-planned, I’ll help him find a suitable hotel in downtown Seattle that meets his criteria. Given that Vinod is looking for vegetarian-friendly dining options and has a peanut allergy, I'll make sure to focus on areas with restaurants that cater to these needs. I’ll also look into ensuring the hotel offers comfortable amenities for a smooth stay. I'll check for options that are near his must-visit landmarks: the Space Needle and Pike Place Market.\n",
    "User: During his stay, Vinod is excited to visit some of Seattle's most renowned attractions, including the iconic Space Needle and the lively Pike Place Market. These landmarks not only offer stunning views and unique experiences but also provide ample opportunities for Vinod to engage with the local culture and community. In addition to sightseeing, he is keen on discovering a variety of vegetarian-friendly restaurants that cater to his dietary needs without compromising on flavor or quality. Vinod values places that prioritize fresh, wholesome ingredients and offer creative vegetarian dishes, ensuring that his dining experiences are both enjoyable and safe.\n",
    "Assistant: Excellent! The Space Needle and Pike Place Market are definitely must-see spots for Vinod, and they’re both located in prime areas of downtown Seattle, so we’ll focus on hotels nearby for easy access. As for vegetarian dining, Seattle is well-known for its diverse and inclusive food scene, so there will be no shortage of places catering to his dietary needs. Some great options include Plum Bistro, Araya's Place, and Cafe Flora—all known for their fresh, creative vegetarian menus. I’ll cross-reference these with the hotels we’re considering to ensure both convenience and culinary satisfaction for Vinod.\n",
    "User: Beyond his culinary and sightseeing plans, Vinod has a deep appreciation for scenic views and nature. He intends to spend time exploring Seattle's picturesque parks, waterfront areas, and perhaps even take a leisurely stroll along the waterfront to soak in the natural beauty of the region. Whether it's watching the sunset over Elliott Bay or enjoying the serene ambiance of Kerry Park, Vinod seeks out moments that allow him to relax and connect with the environment around him.\n",
    "Assistant: What a beautiful vision for his trip! Seattle offers some incredible scenic spots that align perfectly with Vinod’s love for nature. Kerry Park, in particular, is famous for its panoramic views of the Seattle skyline, the Space Needle, and Mount Rainier in the background—perfect for a relaxing moment. Discovery Park, with its trails and coastal views, is also a great option for Vinod to connect with nature. I’d suggest including some time for a waterfront stroll along Elliott Bay as well, with a visit to Olympic Sculpture Park, which combines art and nature in a very tranquil setting. These will provide great opportunities for scenic relaxation throughout his stay.\n",
    "User: Balancing his desire for memorable experiences with budget considerations, Vinod is strategic in his spending, aiming to make the most of his trip without overshooting his financial plans. He meticulously researches affordable yet high-quality dining options, seeks out deals on attractions, and prioritizes activities that offer the best value for his investment. This thoughtful approach ensures that Vinod can enjoy a fulfilling and enriching visit to Seattle, experiencing the city's highlights while maintaining a comfortable and manageable budget.\n",
    "Assistant: It’s great that Vinod is keeping a balanced approach when it comes to budgeting for his trip! Seattle offers many activities and dining options that won’t break the bank. For example, Pike Place Market itself is free to explore, and it offers plenty of food stalls where he can find affordable vegetarian-friendly options. The Seattle Center is home to the Space Needle and Museum of Pop Culture (MoPOP), but the nearby Chihuly Garden and Glass and the Seattle Center grounds can be visited for free. I’ll make sure to recommend a range of dining options that fit within a moderate budget—many of Seattle's best vegetarian-friendly restaurants offer great value for their quality. We’ll also find some great deals on tickets for the Space Needle, and if he’s looking for additional activities, Seattle Art Museum and Ferry rides to Bainbridge Island are excellent low-cost options.\n",
    "User: In summary, Vinod's trip to Seattle is thoughtfully curated to align with his vegetarian lifestyle, allergy requirements, and love for scenic and cultural experiences. By selecting the right accommodations, planning visits to key landmarks, exploring diverse dining options, and managing his budget wisely, Vinod is set to have a rewarding and enjoyable adventure in one of the Pacific Northwest's most dynamic cities.\n",
    "Assistant: Absolutely, Vinod’s trip is shaping up to be a wonderfully balanced experience. With his dietary restrictions and allergy needs taken into consideration, combined with his love for nature and scenic views, Seattle will provide plenty of opportunities for both relaxation and adventure. I’ll finalize the hotel recommendations in the downtown area, ensuring they’re close to his points of interest and offer safe dining options. Once we have the accommodations sorted, we’ll also map out a tailored itinerary with a mix of iconic attractions, nature spots, and great restaurants. This approach will ensure a fulfilling and budget-friendly adventure in Seattle.\n",
    "\"\"\"\n",
    "\n",
    "summary_prompt = f\"Summarize this conversation in 2 sentences:\\n\\n{large_convo}\"\n",
    "summary_result = ask_gpt(summary_prompt)\n",
    "\n",
    "memory.add(\n",
    "    messages=summary_result,\n",
    "    user_id=user_id,\n",
    "    run_id=\"vinod-long-seattle\",\n",
    "    metadata={\"type\": \"conversation_summary\"}\n",
    ")\n",
    "\n",
    "print(\"Summary stored in Mem0:\\n\", summary_result)\n"
   ]
  },
  {
   "cell_type": "markdown",
   "metadata": {},
   "source": [
    "## 9) Combine Mem0 Search + GPT for Final Prompt"
   ]
  },
  {
   "cell_type": "code",
   "execution_count": 48,
   "metadata": {},
   "outputs": [
    {
     "name": "stdout",
     "output_type": "stream",
     "text": [
      "\n",
      "Final Agent Answer:\n",
      " Hello Vinod! I’m excited to help you find some great dining options during your trip to Seattle. One excellent vegetarian restaurant that is also peanut-free and located near the downtown area is **Plum Bistro**. \n",
      "\n",
      "Plum Bistro offers a creative menu featuring delicious vegetarian dishes made with fresh ingredients. It’s located not too far from both the Space Needle and Pike Place Market, making it a convenient choice for your dining experience.\n",
      "\n",
      "For your stay, I recommend looking into **The Paramount Hotel**. It is a 3-star hotel situated in downtown Seattle, close to major attractions, and would provide comfortable accommodations during your visit. \n",
      "\n",
      "Let me know if you need more recommendations or assistance with your trip planning!\n"
     ]
    }
   ],
   "source": [
    "search_query = \"peanut AND vegetarian\"\n",
    "search_results = memory.search(search_query, user_id=user_id)\n",
    "\n",
    "bullets = []\n",
    "for r in search_results.get(\"results\", []):\n",
    "    bullets.append(\"- \" + r[\"memory\"])\n",
    "\n",
    "ctx = \"\\n\".join(bullets) if bullets else \"(No memory found).\"\n",
    "\n",
    "final_prompt = f\"\"\"\n",
    "Vinod wants dinner recommendations in Seattle. \n",
    "Mem0 reveals:\n",
    "{ctx}\n",
    "\n",
    "Suggest a vegetarian, peanut-free restaurant near a 3-star hotel downtown.\n",
    "\"\"\"\n",
    "\n",
    "final_answer = ask_gpt(final_prompt)\n",
    "print(\"\\nFinal Agent Answer:\\n\", final_answer)\n"
   ]
  }
 ],
 "metadata": {
  "kernelspec": {
   "display_name": ".venv",
   "language": "python",
   "name": "python3"
  },
  "language_info": {
   "codemirror_mode": {
    "name": "ipython",
    "version": 3
   },
   "file_extension": ".py",
   "mimetype": "text/x-python",
   "name": "python",
   "nbconvert_exporter": "python",
   "pygments_lexer": "ipython3",
   "version": "3.11.9"
  }
 },
 "nbformat": 4,
 "nbformat_minor": 2
}
