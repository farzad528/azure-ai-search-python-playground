{
 "cells": [
  {
   "cell_type": "markdown",
   "metadata": {},
   "source": [
    "## Using Document Boosting in Azure AI Search for enhanced retreival quality"
   ]
  },
  {
   "cell_type": "code",
   "execution_count": null,
   "metadata": {},
   "outputs": [],
   "source": [
    "!pip install azure-identity\n",
    "!pip install kaggle\n",
    "!pip install python-dotenv\n",
    "!pip install rich\n",
    "!pip install azure-search-documents --pre "
   ]
  },
  {
   "cell_type": "markdown",
   "metadata": {},
   "source": [
    "## Download Data from Kaggle\n",
    "\n",
    "This dataset is sourced from [Rishabh Misra's publications](https://rishabhmisra.github.io/publications).\n",
    "\n",
    "If you're using this dataset for your work, please cite the following articles:\n",
    "\n",
    "**Citation in text format:**\n",
    "\n",
    "1. Misra, Rishabh. \"News Category Dataset.\" arXiv preprint arXiv:2209.11429 (2022).\n",
    "2. Misra, Rishabh and Jigyasa Grover. \"Sculpting Data for ML: The first act of Machine Learning.\" ISBN 9798585463570 (2021).\n",
    "\n",
    "**Citation in BibTex format:**\n",
    "\n",
    "```bibtex\n",
    "@article{misra2022news,\n",
    "  title={News Category Dataset},\n",
    "  author={Misra, Rishabh},\n",
    "  journal={arXiv preprint arXiv:2209.11429},\n",
    "  year={2022}\n",
    "}\n",
    "@book{misra2021sculpting,\n",
    "  author = {Misra, Rishabh and Grover, Jigyasa},\n",
    "  year = {2021},\n",
    "  month = {01},\n",
    "  pages = {},\n",
    "  title = {Sculpting Data for ML: The first act of Machine Learning},\n",
    "  isbn = {9798585463570}\n",
    "}"
   ]
  },
  {
   "cell_type": "code",
   "execution_count": 2,
   "metadata": {},
   "outputs": [
    {
     "name": "stdout",
     "output_type": "stream",
     "text": [
      "Dataset URL: https://www.kaggle.com/datasets/rmisra/news-category-dataset\n",
      "License(s): Attribution 4.0 International (CC BY 4.0)\n",
      "news-category-dataset.zip: Skipping, found more recently modified local copy (use --force to force download)\n"
     ]
    }
   ],
   "source": [
    "! kaggle datasets download -d rmisra/news-category-dataset"
   ]
  },
  {
   "cell_type": "code",
   "execution_count": 3,
   "metadata": {},
   "outputs": [
    {
     "data": {
      "text/html": [
       "<div>\n",
       "<style scoped>\n",
       "    .dataframe tbody tr th:only-of-type {\n",
       "        vertical-align: middle;\n",
       "    }\n",
       "\n",
       "    .dataframe tbody tr th {\n",
       "        vertical-align: top;\n",
       "    }\n",
       "\n",
       "    .dataframe thead th {\n",
       "        text-align: right;\n",
       "    }\n",
       "</style>\n",
       "<table border=\"1\" class=\"dataframe\">\n",
       "  <thead>\n",
       "    <tr style=\"text-align: right;\">\n",
       "      <th></th>\n",
       "      <th>link</th>\n",
       "      <th>headline</th>\n",
       "      <th>category</th>\n",
       "      <th>short_description</th>\n",
       "      <th>authors</th>\n",
       "      <th>date</th>\n",
       "    </tr>\n",
       "  </thead>\n",
       "  <tbody>\n",
       "    <tr>\n",
       "      <th>0</th>\n",
       "      <td>https://www.huffpost.com/entry/covid-boosters-...</td>\n",
       "      <td>Over 4 Million Americans Roll Up Sleeves For O...</td>\n",
       "      <td>U.S. NEWS</td>\n",
       "      <td>Health experts said it is too early to predict...</td>\n",
       "      <td>Carla K. Johnson, AP</td>\n",
       "      <td>2022-09-23</td>\n",
       "    </tr>\n",
       "    <tr>\n",
       "      <th>1</th>\n",
       "      <td>https://www.huffpost.com/entry/american-airlin...</td>\n",
       "      <td>American Airlines Flyer Charged, Banned For Li...</td>\n",
       "      <td>U.S. NEWS</td>\n",
       "      <td>He was subdued by passengers and crew when he ...</td>\n",
       "      <td>Mary Papenfuss</td>\n",
       "      <td>2022-09-23</td>\n",
       "    </tr>\n",
       "    <tr>\n",
       "      <th>2</th>\n",
       "      <td>https://www.huffpost.com/entry/funniest-tweets...</td>\n",
       "      <td>23 Of The Funniest Tweets About Cats And Dogs ...</td>\n",
       "      <td>COMEDY</td>\n",
       "      <td>\"Until you have a dog you don't understand wha...</td>\n",
       "      <td>Elyse Wanshel</td>\n",
       "      <td>2022-09-23</td>\n",
       "    </tr>\n",
       "    <tr>\n",
       "      <th>3</th>\n",
       "      <td>https://www.huffpost.com/entry/funniest-parent...</td>\n",
       "      <td>The Funniest Tweets From Parents This Week (Se...</td>\n",
       "      <td>PARENTING</td>\n",
       "      <td>\"Accidentally put grown-up toothpaste on my to...</td>\n",
       "      <td>Caroline Bologna</td>\n",
       "      <td>2022-09-23</td>\n",
       "    </tr>\n",
       "    <tr>\n",
       "      <th>4</th>\n",
       "      <td>https://www.huffpost.com/entry/amy-cooper-lose...</td>\n",
       "      <td>Woman Who Called Cops On Black Bird-Watcher Lo...</td>\n",
       "      <td>U.S. NEWS</td>\n",
       "      <td>Amy Cooper accused investment firm Franklin Te...</td>\n",
       "      <td>Nina Golgowski</td>\n",
       "      <td>2022-09-22</td>\n",
       "    </tr>\n",
       "  </tbody>\n",
       "</table>\n",
       "</div>"
      ],
      "text/plain": [
       "                                                link  \\\n",
       "0  https://www.huffpost.com/entry/covid-boosters-...   \n",
       "1  https://www.huffpost.com/entry/american-airlin...   \n",
       "2  https://www.huffpost.com/entry/funniest-tweets...   \n",
       "3  https://www.huffpost.com/entry/funniest-parent...   \n",
       "4  https://www.huffpost.com/entry/amy-cooper-lose...   \n",
       "\n",
       "                                            headline   category  \\\n",
       "0  Over 4 Million Americans Roll Up Sleeves For O...  U.S. NEWS   \n",
       "1  American Airlines Flyer Charged, Banned For Li...  U.S. NEWS   \n",
       "2  23 Of The Funniest Tweets About Cats And Dogs ...     COMEDY   \n",
       "3  The Funniest Tweets From Parents This Week (Se...  PARENTING   \n",
       "4  Woman Who Called Cops On Black Bird-Watcher Lo...  U.S. NEWS   \n",
       "\n",
       "                                   short_description               authors  \\\n",
       "0  Health experts said it is too early to predict...  Carla K. Johnson, AP   \n",
       "1  He was subdued by passengers and crew when he ...        Mary Papenfuss   \n",
       "2  \"Until you have a dog you don't understand wha...         Elyse Wanshel   \n",
       "3  \"Accidentally put grown-up toothpaste on my to...      Caroline Bologna   \n",
       "4  Amy Cooper accused investment firm Franklin Te...        Nina Golgowski   \n",
       "\n",
       "        date  \n",
       "0 2022-09-23  \n",
       "1 2022-09-23  \n",
       "2 2022-09-23  \n",
       "3 2022-09-23  \n",
       "4 2022-09-22  "
      ]
     },
     "execution_count": 3,
     "metadata": {},
     "output_type": "execute_result"
    }
   ],
   "source": [
    "import pandas as pd\n",
    "import zipfile\n",
    "\n",
    "# Unzip the downloaded file\n",
    "with zipfile.ZipFile('news-category-dataset.zip', 'r') as zip_ref:\n",
    "    zip_ref.extractall()\n",
    "\n",
    "# Load the dataset into a pandas DataFrame\n",
    "df = pd.read_json('News_Category_Dataset_v3.json', lines=True)\n",
    "\n",
    "# Display the first few rows of the DataFrame\n",
    "df.head()"
   ]
  },
  {
   "cell_type": "markdown",
   "metadata": {},
   "source": [
    "## Dataset Overview\n",
    "\n",
    "The dataset contains news articles with their corresponding categories. Each record in the dataset has a `headline`, `short_description`, and `category`. \n",
    "\n",
    "The `headline` and `short_description` fields contain textual data that can be vectorized for further analysis or machine learning tasks. The `category` field can be used as a label for supervised learning tasks.\n",
    "\n",
    "Before proceeding with vectorization, it's a good idea to check the maximum length of characters in the `headline` and `short_description` fields. This will help us understand the size of the vectors we'll be working with and can inform decisions about preprocessing steps, such as chunking."
   ]
  },
  {
   "cell_type": "code",
   "execution_count": 4,
   "metadata": {},
   "outputs": [
    {
     "name": "stdout",
     "output_type": "stream",
     "text": [
      "320\n",
      "1472\n"
     ]
    }
   ],
   "source": [
    "max_headline_length = df['headline'].str.len().max()\n",
    "max_short_description_length = df['short_description'].str.len().max()\n",
    "\n",
    "print(max_headline_length)\n",
    "print(max_short_description_length)"
   ]
  },
  {
   "cell_type": "markdown",
   "metadata": {},
   "source": [
    "Let's plan to use OpenAI `text-embedding-3-large` with takes 8192 input tokens or ~32K characters of text. We are good to go to vectorizing! "
   ]
  },
  {
   "cell_type": "markdown",
   "metadata": {},
   "source": [
    "## Vectorize Headline and Short_Description"
   ]
  },
  {
   "cell_type": "code",
   "execution_count": 110,
   "metadata": {},
   "outputs": [
    {
     "data": {
      "text/html": [
       "<div>\n",
       "<style scoped>\n",
       "    .dataframe tbody tr th:only-of-type {\n",
       "        vertical-align: middle;\n",
       "    }\n",
       "\n",
       "    .dataframe tbody tr th {\n",
       "        vertical-align: top;\n",
       "    }\n",
       "\n",
       "    .dataframe thead th {\n",
       "        text-align: right;\n",
       "    }\n",
       "</style>\n",
       "<table border=\"1\" class=\"dataframe\">\n",
       "  <thead>\n",
       "    <tr style=\"text-align: right;\">\n",
       "      <th></th>\n",
       "      <th>link</th>\n",
       "      <th>headline</th>\n",
       "      <th>category</th>\n",
       "      <th>short_description</th>\n",
       "      <th>authors</th>\n",
       "      <th>date</th>\n",
       "      <th>id</th>\n",
       "      <th>view_count</th>\n",
       "      <th>text_to_vectorize</th>\n",
       "    </tr>\n",
       "  </thead>\n",
       "  <tbody>\n",
       "    <tr>\n",
       "      <th>0</th>\n",
       "      <td>https://www.huffpost.com/entry/covid-boosters-...</td>\n",
       "      <td>Over 4 Million Americans Roll Up Sleeves For O...</td>\n",
       "      <td>U.S. NEWS</td>\n",
       "      <td>Health experts said it is too early to predict...</td>\n",
       "      <td>Carla K. Johnson, AP</td>\n",
       "      <td>2022-09-23T00:00:00.000000Z</td>\n",
       "      <td>0</td>\n",
       "      <td>87529</td>\n",
       "      <td>Over 4 Million Americans Roll Up Sleeves For O...</td>\n",
       "    </tr>\n",
       "    <tr>\n",
       "      <th>1</th>\n",
       "      <td>https://www.huffpost.com/entry/american-airlin...</td>\n",
       "      <td>American Airlines Flyer Charged, Banned For Li...</td>\n",
       "      <td>U.S. NEWS</td>\n",
       "      <td>He was subdued by passengers and crew when he ...</td>\n",
       "      <td>Mary Papenfuss</td>\n",
       "      <td>2022-09-23T00:00:00.000000Z</td>\n",
       "      <td>1</td>\n",
       "      <td>61166</td>\n",
       "      <td>American Airlines Flyer Charged, Banned For Li...</td>\n",
       "    </tr>\n",
       "    <tr>\n",
       "      <th>2</th>\n",
       "      <td>https://www.huffpost.com/entry/funniest-tweets...</td>\n",
       "      <td>23 Of The Funniest Tweets About Cats And Dogs ...</td>\n",
       "      <td>COMEDY</td>\n",
       "      <td>\"Until you have a dog you don't understand wha...</td>\n",
       "      <td>Elyse Wanshel</td>\n",
       "      <td>2022-09-23T00:00:00.000000Z</td>\n",
       "      <td>2</td>\n",
       "      <td>62216</td>\n",
       "      <td>23 Of The Funniest Tweets About Cats And Dogs ...</td>\n",
       "    </tr>\n",
       "    <tr>\n",
       "      <th>3</th>\n",
       "      <td>https://www.huffpost.com/entry/funniest-parent...</td>\n",
       "      <td>The Funniest Tweets From Parents This Week (Se...</td>\n",
       "      <td>PARENTING</td>\n",
       "      <td>\"Accidentally put grown-up toothpaste on my to...</td>\n",
       "      <td>Caroline Bologna</td>\n",
       "      <td>2022-09-23T00:00:00.000000Z</td>\n",
       "      <td>3</td>\n",
       "      <td>67162</td>\n",
       "      <td>The Funniest Tweets From Parents This Week (Se...</td>\n",
       "    </tr>\n",
       "    <tr>\n",
       "      <th>4</th>\n",
       "      <td>https://www.huffpost.com/entry/amy-cooper-lose...</td>\n",
       "      <td>Woman Who Called Cops On Black Bird-Watcher Lo...</td>\n",
       "      <td>U.S. NEWS</td>\n",
       "      <td>Amy Cooper accused investment firm Franklin Te...</td>\n",
       "      <td>Nina Golgowski</td>\n",
       "      <td>2022-09-22T00:00:00.000000Z</td>\n",
       "      <td>4</td>\n",
       "      <td>52370</td>\n",
       "      <td>Woman Who Called Cops On Black Bird-Watcher Lo...</td>\n",
       "    </tr>\n",
       "  </tbody>\n",
       "</table>\n",
       "</div>"
      ],
      "text/plain": [
       "                                                link  \\\n",
       "0  https://www.huffpost.com/entry/covid-boosters-...   \n",
       "1  https://www.huffpost.com/entry/american-airlin...   \n",
       "2  https://www.huffpost.com/entry/funniest-tweets...   \n",
       "3  https://www.huffpost.com/entry/funniest-parent...   \n",
       "4  https://www.huffpost.com/entry/amy-cooper-lose...   \n",
       "\n",
       "                                            headline   category  \\\n",
       "0  Over 4 Million Americans Roll Up Sleeves For O...  U.S. NEWS   \n",
       "1  American Airlines Flyer Charged, Banned For Li...  U.S. NEWS   \n",
       "2  23 Of The Funniest Tweets About Cats And Dogs ...     COMEDY   \n",
       "3  The Funniest Tweets From Parents This Week (Se...  PARENTING   \n",
       "4  Woman Who Called Cops On Black Bird-Watcher Lo...  U.S. NEWS   \n",
       "\n",
       "                                   short_description               authors  \\\n",
       "0  Health experts said it is too early to predict...  Carla K. Johnson, AP   \n",
       "1  He was subdued by passengers and crew when he ...        Mary Papenfuss   \n",
       "2  \"Until you have a dog you don't understand wha...         Elyse Wanshel   \n",
       "3  \"Accidentally put grown-up toothpaste on my to...      Caroline Bologna   \n",
       "4  Amy Cooper accused investment firm Franklin Te...        Nina Golgowski   \n",
       "\n",
       "                          date id  view_count  \\\n",
       "0  2022-09-23T00:00:00.000000Z  0       87529   \n",
       "1  2022-09-23T00:00:00.000000Z  1       61166   \n",
       "2  2022-09-23T00:00:00.000000Z  2       62216   \n",
       "3  2022-09-23T00:00:00.000000Z  3       67162   \n",
       "4  2022-09-22T00:00:00.000000Z  4       52370   \n",
       "\n",
       "                                   text_to_vectorize  \n",
       "0  Over 4 Million Americans Roll Up Sleeves For O...  \n",
       "1  American Airlines Flyer Charged, Banned For Li...  \n",
       "2  23 Of The Funniest Tweets About Cats And Dogs ...  \n",
       "3  The Funniest Tweets From Parents This Week (Se...  \n",
       "4  Woman Who Called Cops On Black Bird-Watcher Lo...  "
      ]
     },
     "execution_count": 110,
     "metadata": {},
     "output_type": "execute_result"
    }
   ],
   "source": [
    "df['text_to_vectorize'] = df['headline'] + ' ' + df['short_description']\n",
    "\n",
    "df.head()"
   ]
  },
  {
   "cell_type": "markdown",
   "metadata": {},
   "source": [
    "Now, we can use text_to_vectorize as the input to OpenAI Embedding Models and project that to a new column called \"vector\""
   ]
  },
  {
   "cell_type": "code",
   "execution_count": 111,
   "metadata": {},
   "outputs": [
    {
     "data": {
      "text/html": [
       "<div>\n",
       "<style scoped>\n",
       "    .dataframe tbody tr th:only-of-type {\n",
       "        vertical-align: middle;\n",
       "    }\n",
       "\n",
       "    .dataframe tbody tr th {\n",
       "        vertical-align: top;\n",
       "    }\n",
       "\n",
       "    .dataframe thead th {\n",
       "        text-align: right;\n",
       "    }\n",
       "</style>\n",
       "<table border=\"1\" class=\"dataframe\">\n",
       "  <thead>\n",
       "    <tr style=\"text-align: right;\">\n",
       "      <th></th>\n",
       "      <th>link</th>\n",
       "      <th>headline</th>\n",
       "      <th>category</th>\n",
       "      <th>short_description</th>\n",
       "      <th>authors</th>\n",
       "      <th>date</th>\n",
       "      <th>id</th>\n",
       "      <th>view_count</th>\n",
       "      <th>text_to_vectorize</th>\n",
       "    </tr>\n",
       "  </thead>\n",
       "  <tbody>\n",
       "    <tr>\n",
       "      <th>0</th>\n",
       "      <td>https://www.huffpost.com/entry/covid-boosters-...</td>\n",
       "      <td>Over 4 Million Americans Roll Up Sleeves For O...</td>\n",
       "      <td>U.S. NEWS</td>\n",
       "      <td>Health experts said it is too early to predict...</td>\n",
       "      <td>Carla K. Johnson, AP</td>\n",
       "      <td>2022-09-23T00:00:00.000000Z</td>\n",
       "      <td>0</td>\n",
       "      <td>87529</td>\n",
       "      <td>Over 4 Million Americans Roll Up Sleeves For O...</td>\n",
       "    </tr>\n",
       "    <tr>\n",
       "      <th>1</th>\n",
       "      <td>https://www.huffpost.com/entry/american-airlin...</td>\n",
       "      <td>American Airlines Flyer Charged, Banned For Li...</td>\n",
       "      <td>U.S. NEWS</td>\n",
       "      <td>He was subdued by passengers and crew when he ...</td>\n",
       "      <td>Mary Papenfuss</td>\n",
       "      <td>2022-09-23T00:00:00.000000Z</td>\n",
       "      <td>1</td>\n",
       "      <td>61166</td>\n",
       "      <td>American Airlines Flyer Charged, Banned For Li...</td>\n",
       "    </tr>\n",
       "    <tr>\n",
       "      <th>2</th>\n",
       "      <td>https://www.huffpost.com/entry/funniest-tweets...</td>\n",
       "      <td>23 Of The Funniest Tweets About Cats And Dogs ...</td>\n",
       "      <td>COMEDY</td>\n",
       "      <td>\"Until you have a dog you don't understand wha...</td>\n",
       "      <td>Elyse Wanshel</td>\n",
       "      <td>2022-09-23T00:00:00.000000Z</td>\n",
       "      <td>2</td>\n",
       "      <td>62216</td>\n",
       "      <td>23 Of The Funniest Tweets About Cats And Dogs ...</td>\n",
       "    </tr>\n",
       "    <tr>\n",
       "      <th>3</th>\n",
       "      <td>https://www.huffpost.com/entry/funniest-parent...</td>\n",
       "      <td>The Funniest Tweets From Parents This Week (Se...</td>\n",
       "      <td>PARENTING</td>\n",
       "      <td>\"Accidentally put grown-up toothpaste on my to...</td>\n",
       "      <td>Caroline Bologna</td>\n",
       "      <td>2022-09-23T00:00:00.000000Z</td>\n",
       "      <td>3</td>\n",
       "      <td>67162</td>\n",
       "      <td>The Funniest Tweets From Parents This Week (Se...</td>\n",
       "    </tr>\n",
       "    <tr>\n",
       "      <th>4</th>\n",
       "      <td>https://www.huffpost.com/entry/amy-cooper-lose...</td>\n",
       "      <td>Woman Who Called Cops On Black Bird-Watcher Lo...</td>\n",
       "      <td>U.S. NEWS</td>\n",
       "      <td>Amy Cooper accused investment firm Franklin Te...</td>\n",
       "      <td>Nina Golgowski</td>\n",
       "      <td>2022-09-22T00:00:00.000000Z</td>\n",
       "      <td>4</td>\n",
       "      <td>52370</td>\n",
       "      <td>Woman Who Called Cops On Black Bird-Watcher Lo...</td>\n",
       "    </tr>\n",
       "  </tbody>\n",
       "</table>\n",
       "</div>"
      ],
      "text/plain": [
       "                                                link  \\\n",
       "0  https://www.huffpost.com/entry/covid-boosters-...   \n",
       "1  https://www.huffpost.com/entry/american-airlin...   \n",
       "2  https://www.huffpost.com/entry/funniest-tweets...   \n",
       "3  https://www.huffpost.com/entry/funniest-parent...   \n",
       "4  https://www.huffpost.com/entry/amy-cooper-lose...   \n",
       "\n",
       "                                            headline   category  \\\n",
       "0  Over 4 Million Americans Roll Up Sleeves For O...  U.S. NEWS   \n",
       "1  American Airlines Flyer Charged, Banned For Li...  U.S. NEWS   \n",
       "2  23 Of The Funniest Tweets About Cats And Dogs ...     COMEDY   \n",
       "3  The Funniest Tweets From Parents This Week (Se...  PARENTING   \n",
       "4  Woman Who Called Cops On Black Bird-Watcher Lo...  U.S. NEWS   \n",
       "\n",
       "                                   short_description               authors  \\\n",
       "0  Health experts said it is too early to predict...  Carla K. Johnson, AP   \n",
       "1  He was subdued by passengers and crew when he ...        Mary Papenfuss   \n",
       "2  \"Until you have a dog you don't understand wha...         Elyse Wanshel   \n",
       "3  \"Accidentally put grown-up toothpaste on my to...      Caroline Bologna   \n",
       "4  Amy Cooper accused investment firm Franklin Te...        Nina Golgowski   \n",
       "\n",
       "                          date id  view_count  \\\n",
       "0  2022-09-23T00:00:00.000000Z  0       87529   \n",
       "1  2022-09-23T00:00:00.000000Z  1       61166   \n",
       "2  2022-09-23T00:00:00.000000Z  2       62216   \n",
       "3  2022-09-23T00:00:00.000000Z  3       67162   \n",
       "4  2022-09-22T00:00:00.000000Z  4       52370   \n",
       "\n",
       "                                   text_to_vectorize  \n",
       "0  Over 4 Million Americans Roll Up Sleeves For O...  \n",
       "1  American Airlines Flyer Charged, Banned For Li...  \n",
       "2  23 Of The Funniest Tweets About Cats And Dogs ...  \n",
       "3  The Funniest Tweets From Parents This Week (Se...  \n",
       "4  Woman Who Called Cops On Black Bird-Watcher Lo...  "
      ]
     },
     "execution_count": 111,
     "metadata": {},
     "output_type": "execute_result"
    }
   ],
   "source": [
    "# Ensure the id field is a string or create it if it doesn't exist\n",
    "if 'id' in df.columns:\n",
    "    df[\"id\"] = df[\"id\"].astype(str)\n",
    "else:\n",
    "    df[\"id\"] = df.index.astype(str)\n",
    "\n",
    "# Convert the 'date' field to the correct format\n",
    "df[\"date\"] = pd.to_datetime(df[\"date\"]).dt.strftime('%Y-%m-%dT%H:%M:%S.%f')[:-3] + 'Z'\n",
    "df.head()"
   ]
  },
  {
   "cell_type": "markdown",
   "metadata": {},
   "source": [
    "Let's also create an artifical column called 'view_count' so we can demo mangnitude document boosting later"
   ]
  },
  {
   "cell_type": "code",
   "execution_count": 113,
   "metadata": {},
   "outputs": [],
   "source": [
    "import numpy as np\n",
    "\n",
    "df['view_count'] = np.random.randint(0, 100001, size=len(df), dtype=np.int32)"
   ]
  },
  {
   "cell_type": "markdown",
   "metadata": {},
   "source": [
    "## Generate Embeddings "
   ]
  },
  {
   "cell_type": "markdown",
   "metadata": {},
   "source": [
    "### Authenticate Azure OpenAI"
   ]
  },
  {
   "cell_type": "code",
   "execution_count": 114,
   "metadata": {},
   "outputs": [
    {
     "name": "stdout",
     "output_type": "stream",
     "text": [
      "Using AAD for authentication.\n"
     ]
    }
   ],
   "source": [
    "from openai import AzureOpenAI\n",
    "from azure.identity import DefaultAzureCredential, get_bearer_token_provider\n",
    "import json\n",
    "import os\n",
    "\n",
    "# User-specified parameter\n",
    "USE_AAD_FOR_AOAI = True\n",
    "\n",
    "def authenticate_openai(api_key=None, use_aad_for_aoai=False):\n",
    "    from azure.identity import get_bearer_token_provider\n",
    "    from openai import AzureOpenAI\n",
    "\n",
    "    if use_aad_for_aoai:\n",
    "        print(\"Using AAD for authentication.\")\n",
    "        credential = DefaultAzureCredential()\n",
    "        token_provider = get_bearer_token_provider(credential, \"https://cognitiveservices.azure.com/.default\")\n",
    "        client = AzureOpenAI(\n",
    "            azure_endpoint=os.getenv(\"AZURE_OPENAI_ENDPOINT\"),\n",
    "            api_version=os.getenv(\"AZURE_OPENAI_API_VERSION\"),\n",
    "            azure_ad_token_provider=token_provider,\n",
    "        )\n",
    "    else:\n",
    "        print(\"Using API keys for authentication.\")\n",
    "        if api_key is None:\n",
    "            raise ValueError(\"API key must be provided if not using AAD for authentication.\")\n",
    "        client = AzureOpenAI(\n",
    "            api_key=api_key,\n",
    "            azure_endpoint=os.getenv(\"AZURE_OPENAI_ENDPOINT\"),\n",
    "            api_version=os.getenv(\"AZURE_OPENAI_API_VERSION\"),\n",
    "        )\n",
    "    return client\n",
    "\n",
    "openai_client = authenticate_openai(api_key=os.getenv(\"AZURE_OPENAI_API_KEY\"), use_aad_for_aoai=USE_AAD_FOR_AOAI)"
   ]
  },
  {
   "cell_type": "code",
   "execution_count": 8,
   "metadata": {},
   "outputs": [
    {
     "name": "stderr",
     "output_type": "stream",
     "text": [
      "100%|██████████| 210/210 [45:02<00:00, 12.87s/it]"
     ]
    },
    {
     "name": "stdout",
     "output_type": "stream",
     "text": [
      "                                                link  \\\n",
      "0  https://www.huffpost.com/entry/covid-boosters-...   \n",
      "1  https://www.huffpost.com/entry/american-airlin...   \n",
      "2  https://www.huffpost.com/entry/funniest-tweets...   \n",
      "3  https://www.huffpost.com/entry/funniest-parent...   \n",
      "4  https://www.huffpost.com/entry/amy-cooper-lose...   \n",
      "\n",
      "                                            headline   category  \\\n",
      "0  Over 4 Million Americans Roll Up Sleeves For O...  U.S. NEWS   \n",
      "1  American Airlines Flyer Charged, Banned For Li...  U.S. NEWS   \n",
      "2  23 Of The Funniest Tweets About Cats And Dogs ...     COMEDY   \n",
      "3  The Funniest Tweets From Parents This Week (Se...  PARENTING   \n",
      "4  Woman Who Called Cops On Black Bird-Watcher Lo...  U.S. NEWS   \n",
      "\n",
      "                                   short_description               authors  \\\n",
      "0  Health experts said it is too early to predict...  Carla K. Johnson, AP   \n",
      "1  He was subdued by passengers and crew when he ...        Mary Papenfuss   \n",
      "2  \"Until you have a dog you don't understand wha...         Elyse Wanshel   \n",
      "3  \"Accidentally put grown-up toothpaste on my to...      Caroline Bologna   \n",
      "4  Amy Cooper accused investment firm Franklin Te...        Nina Golgowski   \n",
      "\n",
      "                          date  \\\n",
      "0  2022-09-23T00:00:00.000000Z   \n",
      "1  2022-09-23T00:00:00.000000Z   \n",
      "2  2022-09-23T00:00:00.000000Z   \n",
      "3  2022-09-23T00:00:00.000000Z   \n",
      "4  2022-09-22T00:00:00.000000Z   \n",
      "\n",
      "                                   text_to_vectorize id  \\\n",
      "0  Over 4 Million Americans Roll Up Sleeves For O...  0   \n",
      "1  American Airlines Flyer Charged, Banned For Li...  1   \n",
      "2  23 Of The Funniest Tweets About Cats And Dogs ...  2   \n",
      "3  The Funniest Tweets From Parents This Week (Se...  3   \n",
      "4  Woman Who Called Cops On Black Bird-Watcher Lo...  4   \n",
      "\n",
      "                                              vector  \n",
      "0  [-0.01077375840395689, -0.0082676000893116, -0...  \n",
      "1  [-0.01944911479949951, 0.005383468233048916, -...  \n",
      "2  [-0.010009807534515858, -0.0009281394886784256...  \n",
      "3  [0.015532996505498886, -0.02711624838411808, -...  \n",
      "4  [0.0019336913246661425, -0.022273797541856766,...  \n"
     ]
    },
    {
     "name": "stderr",
     "output_type": "stream",
     "text": [
      "\n"
     ]
    }
   ],
   "source": [
    "from tqdm import tqdm\n",
    "from tenacity import retry, stop_after_attempt, wait_exponential\n",
    "import json\n",
    "\n",
    "@retry(stop=stop_after_attempt(5), wait=wait_exponential(multiplier=1, min=4, max=60))\n",
    "def get_embeddings(openai_client, texts):\n",
    "    response = openai_client.embeddings.create(\n",
    "        input=texts,\n",
    "        model=os.getenv(\"AZURE_OPENAI_EMBEDDING_DEPLOYED_MODEL_NAME\")\n",
    "    )\n",
    "    response_json = json.loads(response.model_dump_json(indent=2))\n",
    "    return [data['embedding'] for data in response_json['data']]\n",
    "\n",
    "def add_embeddings_to_df(df, text_column, vector_column, batch_size=1000):\n",
    "    embeddings = []\n",
    "    for i in tqdm(range(0, len(df[text_column]), batch_size)):\n",
    "        batch_texts = df[text_column][i:i+batch_size].tolist()\n",
    "        batch_embeddings = get_embeddings(openai_client, batch_texts)\n",
    "        embeddings.extend(batch_embeddings)\n",
    "    df[vector_column] = embeddings\n",
    "    return df\n",
    "\n",
    "df_vectors = add_embeddings_to_df(df, \"text_to_vectorize\", \"vector\")\n",
    "print(df_vectors.head())\n"
   ]
  },
  {
   "cell_type": "markdown",
   "metadata": {},
   "source": [
    "Let's drop the `text_to_vectorize` column from the data frame since we no longer need this since the vectors are already created from the concatenation of the `headline` and `short_description` fields."
   ]
  },
  {
   "cell_type": "code",
   "execution_count": null,
   "metadata": {},
   "outputs": [],
   "source": [
    "df_vectors.to_json('df_vectors.json', orient='records')"
   ]
  },
  {
   "cell_type": "code",
   "execution_count": null,
   "metadata": {},
   "outputs": [],
   "source": [
    "df_vectors.drop(columns=['text_to_vectorize'], inplace=True)"
   ]
  },
  {
   "cell_type": "markdown",
   "metadata": {},
   "source": [
    "## Create Azure AI Search index"
   ]
  },
  {
   "cell_type": "markdown",
   "metadata": {},
   "source": [
    "### Authenticate to Azure AI Search"
   ]
  },
  {
   "cell_type": "code",
   "execution_count": 123,
   "metadata": {},
   "outputs": [
    {
     "name": "stdout",
     "output_type": "stream",
     "text": [
      "Using AAD for authentication.\n"
     ]
    }
   ],
   "source": [
    "from azure.search.documents import SearchClient\n",
    "from azure.identity import DefaultAzureCredential, get_bearer_token_provider\n",
    "from azure.core.credentials import AzureKeyCredential  \n",
    "import os\n",
    "\n",
    "INDEX_NAME=\"news-category\"\n",
    "\n",
    "# User-specified parameter\n",
    "USE_AAD_FOR_SEARCH = True  \n",
    "\n",
    "def authenticate_azure_search(api_key=None, use_aad_for_search=False):\n",
    "    if use_aad_for_search:\n",
    "        print(\"Using AAD for authentication.\")\n",
    "        credential = DefaultAzureCredential()\n",
    "    else:\n",
    "        print(\"Using API keys for authentication.\")\n",
    "        if api_key is None:\n",
    "            raise ValueError(\"API key must be provided if not using AAD for authentication.\")\n",
    "        credential = AzureKeyCredential(api_key)\n",
    "    return credential\n",
    "\n",
    "azure_search_credential = authenticate_azure_search(api_key=os.getenv(\"AZURE_SEARCH_ADMIN_KEY\"), use_aad_for_search=USE_AAD_FOR_SEARCH)\n"
   ]
  },
  {
   "cell_type": "code",
   "execution_count": 129,
   "metadata": {},
   "outputs": [
    {
     "name": "stdout",
     "output_type": "stream",
     "text": [
      "news-category created\n"
     ]
    }
   ],
   "source": [
    "import os\n",
    "from azure.identity import DefaultAzureCredential\n",
    "from azure.search.documents.indexes import SearchIndexClient\n",
    "from azure.search.documents.indexes.models import (\n",
    "    HnswAlgorithmConfiguration,\n",
    "    HnswParameters,\n",
    "    SearchField,\n",
    "    SearchableField,\n",
    "    SearchFieldDataType,\n",
    "    SearchIndex,\n",
    "    SemanticConfiguration,\n",
    "    SemanticField,\n",
    "    SemanticPrioritizedFields,\n",
    "    SemanticSearch,\n",
    "    SimpleField,\n",
    "    VectorSearch,\n",
    "    VectorSearchAlgorithmKind,\n",
    "    VectorSearchAlgorithmMetric,\n",
    "    VectorSearchProfile,\n",
    "    AzureOpenAIModelName,\n",
    "    AzureOpenAIParameters,\n",
    "    AzureOpenAIVectorizer,\n",
    "    ScoringProfile,\n",
    "    MagnitudeScoringFunction,\n",
    "    MagnitudeScoringParameters,\n",
    "    FreshnessScoringFunction,\n",
    "    FreshnessScoringParameters,\n",
    "    DistanceScoringFunction,\n",
    "    TagScoringFunction,\n",
    "    TagScoringParameters,\n",
    "    ScoringFunctionInterpolation,\n",
    "    ScoringFunctionAggregation,\n",
    "    TextWeights,\n",
    ")\n",
    "\n",
    "# Initialize the SearchIndexClient\n",
    "index_client = SearchIndexClient(\n",
    "    endpoint=os.getenv(\"AZURE_SEARCH_SERVICE_ENDPOINT\"),\n",
    "    credential=DefaultAzureCredential(),\n",
    ")\n",
    "\n",
    "# Define the fields\n",
    "fields = [\n",
    "    SimpleField(name=\"id\", type=SearchFieldDataType.String, key=True),\n",
    "    SimpleField(name=\"link\", type=SearchFieldDataType.String),\n",
    "    SearchableField(name=\"headline\", type=SearchFieldDataType.String),\n",
    "    SearchableField(\n",
    "        name=\"category\",\n",
    "        type=SearchFieldDataType.String,\n",
    "        filterable=True,\n",
    "        facetable=True,\n",
    "    ),\n",
    "    SearchableField(\n",
    "        name=\"short_description\",\n",
    "        type=SearchFieldDataType.String,\n",
    "    ),\n",
    "    SearchableField(name=\"authors\", type=SearchFieldDataType.String),\n",
    "    SearchField(\n",
    "        name=\"date\",\n",
    "        type=SearchFieldDataType.DateTimeOffset,\n",
    "        filterable=True,\n",
    "        sortable=True,\n",
    "    ),\n",
    "    SimpleField(name=\"view_count\", type=SearchFieldDataType.Int32, filterable=True, sortable=True),  \n",
    "    SearchField(\n",
    "        name=\"vector\",\n",
    "        type=\"Collection(Edm.Single)\",\n",
    "        vector_search_dimensions=3072,\n",
    "        vector_search_profile_name=\"my-vector-config\",\n",
    "    )\n",
    "]\n",
    "\n",
    "# Define the vector search\n",
    "vector_search = VectorSearch(\n",
    "    profiles=[\n",
    "        VectorSearchProfile(\n",
    "            name=\"my-vector-config\",\n",
    "            algorithm_configuration_name=\"my-hnsw\",\n",
    "            vectorizer=\"my-vectorizer\",\n",
    "        )\n",
    "    ],\n",
    "    algorithms=[\n",
    "        HnswAlgorithmConfiguration(\n",
    "            name=\"my-hnsw\",\n",
    "            kind=VectorSearchAlgorithmKind.HNSW,\n",
    "            parameters=HnswParameters(metric=VectorSearchAlgorithmMetric.COSINE),\n",
    "        )\n",
    "    ],\n",
    "    vectorizers=[\n",
    "        AzureOpenAIVectorizer(\n",
    "            name=\"my-vectorizer\",\n",
    "            azure_open_ai_parameters=AzureOpenAIParameters(\n",
    "                resource_uri=os.getenv(\"AZURE_OPENAI_ENDPOINT\"),\n",
    "                deployment_id=os.getenv(\"AZURE_OPENAI_EMBEDDING_DEPLOYED_MODEL_NAME\"),\n",
    "                model_name=AzureOpenAIModelName.TEXT_EMBEDDING3_LARGE,\n",
    "            ),\n",
    "        )\n",
    "    ],\n",
    ")\n",
    "\n",
    "# Configure the semantic search configuration\n",
    "semantic_search = SemanticSearch(\n",
    "    configurations=[\n",
    "        SemanticConfiguration(\n",
    "            name=\"my-semantic-config\",\n",
    "            prioritized_fields=SemanticPrioritizedFields(\n",
    "                title_field=SemanticField(field_name=\"headline\"),\n",
    "                keywords_fields=[SemanticField(field_name=\"category\")],\n",
    "                content_fields=[SemanticField(field_name=\"short_description\")],\n",
    "            ),\n",
    "        )\n",
    "    ]\n",
    ")\n",
    "\n",
    "# Define scoring profiles\n",
    "scoring_profiles = [\n",
    "    ScoringProfile(\n",
    "        name=\"boostCategory\",\n",
    "        text_weights=TextWeights(\n",
    "            weights={\n",
    "                \"category\": 10.0,\n",
    "            }\n",
    "        ),\n",
    "    ),\n",
    "    ScoringProfile(\n",
    "        name=\"boostRecency\",\n",
    "        functions=[\n",
    "            FreshnessScoringFunction(\n",
    "                field_name=\"date\",\n",
    "                boost=2.0,\n",
    "                parameters=FreshnessScoringParameters(\n",
    "                    boosting_duration=\"P1095D\",\n",
    "                ),\n",
    "                interpolation=ScoringFunctionInterpolation.LINEAR,\n",
    "            )\n",
    "        ],\n",
    "    ),\n",
    "    ScoringProfile(\n",
    "        name=\"boostByTag\",\n",
    "        functions=[\n",
    "            TagScoringFunction(\n",
    "                field_name=\"category\",\n",
    "                boost=2.0,\n",
    "                parameters=TagScoringParameters(\n",
    "                    tags_parameter=\"tags\",\n",
    "                ),\n",
    "            )\n",
    "        ],\n",
    "    ),\n",
    "    ScoringProfile(\n",
    "        name=\"boostViewCount\",\n",
    "        functions=[\n",
    "            MagnitudeScoringFunction(\n",
    "                field_name=\"view_count\",\n",
    "                boost=10.0,\n",
    "                parameters=MagnitudeScoringParameters(\n",
    "                    boosting_range_start=0,\n",
    "                    boosting_range_end=10000,\n",
    "                ),\n",
    "                interpolation=ScoringFunctionInterpolation.LINEAR,\n",
    "            )\n",
    "        ],\n",
    "    ),\n",
    "]\n",
    "\n",
    "# Define the index\n",
    "index = SearchIndex(\n",
    "    name=INDEX_NAME,\n",
    "    fields=fields,\n",
    "    scoring_profiles=scoring_profiles,\n",
    "    vector_search=vector_search,\n",
    "    semantic_search=semantic_search,\n",
    ")\n",
    "\n",
    "# Create or update the index\n",
    "result = index_client.create_or_update_index(index)\n",
    "print(f\"{result.name} created\")"
   ]
  },
  {
   "cell_type": "markdown",
   "metadata": {},
   "source": [
    "## Upload documents"
   ]
  },
  {
   "cell_type": "markdown",
   "metadata": {},
   "source": [
    "Prior to uploading to AI Search, we need to convert the pandas data frame to a list of dictionaries. "
   ]
  },
  {
   "cell_type": "code",
   "execution_count": 13,
   "metadata": {},
   "outputs": [],
   "source": [
    "# Convert the DataFrame to a list of dictionaries\n",
    "documents = df_vectors.to_dict(orient=\"records\")"
   ]
  },
  {
   "cell_type": "code",
   "execution_count": 8,
   "metadata": {},
   "outputs": [],
   "source": [
    "import json\n",
    "\n",
    "# Load the JSON file\n",
    "with open('df_vectors.json', 'r') as file:\n",
    "    documents = json.load(file)"
   ]
  },
  {
   "cell_type": "code",
   "execution_count": 9,
   "metadata": {},
   "outputs": [
    {
     "name": "stdout",
     "output_type": "stream",
     "text": [
      "Fields in the first document after removal: ['link', 'headline', 'category', 'short_description', 'authors', 'date', 'id', 'vector']\n"
     ]
    }
   ],
   "source": [
    "# Remove the 'text_to_vectorize' field from each document\n",
    "documents = [{key: value for key, value in doc.items() if key != 'text_to_vectorize'} for doc in documents]\n",
    "\n",
    "if documents:  # Ensure there are documents to inspect after modification\n",
    "    first_document = documents[0]\n",
    "    fields = list(first_document.keys())\n",
    "    print(\"Fields in the first document after removal:\", fields)\n",
    "else:\n",
    "    print(\"No documents found.\")"
   ]
  },
  {
   "cell_type": "markdown",
   "metadata": {},
   "source": [
    "To optimize performance of uploading, we will batch upload in increments of 1000 documents. "
   ]
  },
  {
   "cell_type": "code",
   "execution_count": null,
   "metadata": {},
   "outputs": [],
   "source": [
    "import os\n",
    "from azure.search.documents import SearchClient\n",
    "from azure.core.credentials import AzureKeyCredential\n",
    "from azure.core.exceptions import HttpResponseError\n",
    "\n",
    "# Check if documents are loaded\n",
    "if not documents:\n",
    "    print(\"No documents found to upload.\")\n",
    "else:\n",
    "    print(f\"Loaded {len(documents)} documents to upload.\")\n",
    "\n",
    "def create_search_client(index_name):\n",
    "    return SearchClient(\n",
    "        endpoint=os.getenv(\"AZURE_SEARCH_SERVICE_ENDPOINT\"),\n",
    "        index_name=index_name,\n",
    "        credential=azure_search_credential\n",
    "    )\n",
    "\n",
    "def upload_documents_to_index(client, documents):\n",
    "    BATCH_SIZE = 250\n",
    "    for start_idx in range(0, len(documents), BATCH_SIZE):\n",
    "        end_idx = start_idx + BATCH_SIZE\n",
    "        documents_to_upload = documents[start_idx:end_idx]\n",
    "        try:\n",
    "            client.merge_or_upload_documents(documents=documents_to_upload)\n",
    "            print(f\"Uploaded documents {start_idx} to {end_idx}\")\n",
    "        except HttpResponseError as e:\n",
    "            print(f\"Failed to upload documents {start_idx} to {end_idx}: {e}\")\n",
    "\n",
    "# Create the search client\n",
    "search_client = create_search_client(INDEX_NAME)\n",
    "\n",
    "# Upload documents to the index\n",
    "upload_documents_to_index(search_client, documents)"
   ]
  },
  {
   "cell_type": "markdown",
   "metadata": {},
   "source": [
    "## Perform a vector search \n",
    "\n",
    "Let's perform a vector search with no scoring profile attached and evaluate the relevance."
   ]
  },
  {
   "cell_type": "code",
   "execution_count": 135,
   "metadata": {},
   "outputs": [
    {
     "name": "stdout",
     "output_type": "stream",
     "text": [
      "\n",
      "Results for boostViewCount Scoring Profile:\n",
      "headline: My Top 10 Predictions for 2013\n",
      "score: 6.119715213775635\n",
      "description: Those are my predictions, and I'm sticking to them.         Photo credit: vestman Since then, I've continued to predict trends\n",
      "views: 9720\n",
      "category: WELLNESS\n",
      "date: 2013-01-09T00:00:00Z\n",
      "link: https://www.huffingtonpost.com/entry/my-top-10-predictions-for_us_5b9cb3f0e4b03a1dcc81057e\n",
      "\n",
      "headline: 10 Food Trends to Watch\n",
      "score: 5.499270915985107\n",
      "description: We're going to live in a world with Coke robots, apparently.\n",
      "views: 8419\n",
      "category: FOOD & DRINK\n",
      "date: 2013-12-04T00:00:00Z\n",
      "link: https://www.huffingtonpost.com/entry/10-food-trends-to-watch_us_5b9dabb8e4b03a1dcc8b2d1d\n",
      "\n",
      "headline: The Biggest Food Trends Of 2015\n",
      "score: 4.834758281707764\n",
      "description: \n",
      "views: 7338\n",
      "category: TASTE\n",
      "date: 2014-12-01T00:00:00Z\n",
      "link: https://www.huffingtonpost.com/entry/2014-food-trends_n_5792598.html\n",
      "\n",
      "\n",
      "Results for Vanilla (No Scoring Profile) Scoring Profile:\n",
      "headline: Disrupt Yourself First: Top 10 Game Changing Tech Trends\n",
      "score: 0.6575217\n",
      "description: Here are the Top 10 Game Changing Tech Trends that I think deserve special mention. Every business must embrace mobility as a new business model. Mobile transactions, content, offerings, business processes, customer engagement and security will create a more agile mobile enterprise.\n",
      "views: 54732\n",
      "category: BUSINESS\n",
      "date: 2015-06-17T00:00:00Z\n",
      "link: https://www.huffingtonpost.com/entry/disrupt-yourself-first-to_b_7606312.html\n",
      "\n",
      "headline: The Grocery Trends To Look Forward To In 2021\n",
      "score: 0.65311867\n",
      "description: Instacart released its \"New Year, New Cart\" forecast of food-buying trends and attitudes.\n",
      "views: 28972\n",
      "category: FOOD & DRINK\n",
      "date: 2020-12-10T00:00:00Z\n",
      "link: https://www.huffpost.com/entry/grocery-trends-2021-instacart_l_5fd0797ec5b652dce58445da\n",
      "\n",
      "headline: 4 Technology Trends for Small Business\n",
      "score: 0.65099347\n",
      "description: While simple tools such as spreadsheets may have been enough to get your business rolling in the beginning, it fails in manipulating information that allows small businesses to see the \"big picture.\" Implementing a proper BI tool can help small businesses analyze high volumes of data across multiple sources, and more easily identify how they're all connected.\n",
      "views: 40161\n",
      "category: BUSINESS\n",
      "date: 2015-06-05T00:00:00Z\n",
      "link: https://www.huffingtonpost.com/entry/4-technology-trends-for-small-business_b_7519382.html\n",
      "\n"
     ]
    }
   ],
   "source": [
    "import os\n",
    "from azure.search.documents import SearchClient\n",
    "from azure.core.credentials import AzureKeyCredential\n",
    "from azure.search.documents.models import VectorizableTextQuery\n",
    "\n",
    "# Initialize the search client\n",
    "search_client = SearchClient(\n",
    "    endpoint=os.getenv(\"AZURE_SEARCH_SERVICE_ENDPOINT\"),\n",
    "    index_name=INDEX_NAME,\n",
    "    credential=azure_search_credential,\n",
    ")\n",
    "\n",
    "def search_and_print_results(scoring_profile=None):\n",
    "    query = \"top business trends 2022\"\n",
    "    vector_query = VectorizableTextQuery(\n",
    "        text=query, k_nearest_neighbors=50, fields=\"vector\", exhaustive=True\n",
    "    )\n",
    "    results = search_client.search(\n",
    "        search_text=None,\n",
    "        vector_queries=[vector_query],\n",
    "        scoring_profile=scoring_profile,\n",
    "        # scoring_parameters={\"tags-BUSINESS\": tags},\n",
    "        # filter=\"category eq 'TRAVEL' or category eq 'BUSINESS'\",  # Adjust category filter as needed\n",
    "        top=3,\n",
    "    )\n",
    "\n",
    "    profile_name = scoring_profile if scoring_profile else 'Vanilla (No Scoring Profile)'\n",
    "    print(f\"\\nResults for {profile_name} Scoring Profile:\")\n",
    "    for result in results:\n",
    "        print(f\"headline: {result['headline']}\")\n",
    "        print(f\"score: {result['@search.score']}\")\n",
    "        print(f\"description: {result['short_description']}\")\n",
    "        print(f\"views: {result['view_count']}\")\n",
    "        print(f\"category: {result['category']}\")\n",
    "        print(f\"date: {result['date']}\")\n",
    "        print(f\"link: {result['link']}\\n\")\n",
    "\n",
    "# Perform searches with and without the freshness scoring profile\n",
    "search_and_print_results(\"boostViewCount\")\n",
    "search_and_print_results()  # Vanilla query without any scoring profile\n"
   ]
  },
  {
   "cell_type": "markdown",
   "metadata": {},
   "source": [
    "### Freshness Boosting"
   ]
  },
  {
   "cell_type": "code",
   "execution_count": 99,
   "metadata": {},
   "outputs": [
    {
     "data": {
      "text/html": [
       "<pre style=\"white-space:pre;overflow-x:auto;line-height:normal;font-family:Menlo,'DejaVu Sans Mono',consolas,'Courier New',monospace\">\n",
       "<span style=\"color: #000080; text-decoration-color: #000080; font-weight: bold\">Results for Vanilla (No Scoring Profile) Scoring Profile:</span>\n",
       "</pre>\n"
      ],
      "text/plain": [
       "\n",
       "\u001b[1;34mResults for Vanilla \u001b[0m\u001b[1;34m(\u001b[0m\u001b[1;34mNo Scoring Profile\u001b[0m\u001b[1;34m)\u001b[0m\u001b[1;34m Scoring Profile:\u001b[0m\n"
      ]
     },
     "metadata": {},
     "output_type": "display_data"
    },
    {
     "data": {
      "text/html": [
       "<pre style=\"white-space:pre;overflow-x:auto;line-height:normal;font-family:Menlo,'DejaVu Sans Mono',consolas,'Courier New',monospace\">┏━━━━━━━━━━━━━━━━━━━━━━┳━━━━━━━━━━━┳━━━━━━━━━━━━━━━━━━━━━━━━━━━━━━━━━━━━━━━━━━┳━━━━━━━━━━┳━━━━━━━━━━━━┳━━━━━━━━━━━┓\n",
       "┃<span style=\"color: #800080; text-decoration-color: #800080; font-weight: bold\"> Headline             </span>┃<span style=\"color: #800080; text-decoration-color: #800080; font-weight: bold\"> Score     </span>┃<span style=\"color: #800080; text-decoration-color: #800080; font-weight: bold\"> Description                              </span>┃<span style=\"color: #800080; text-decoration-color: #800080; font-weight: bold\"> Category </span>┃<span style=\"color: #800080; text-decoration-color: #800080; font-weight: bold\"> Date       </span>┃<span style=\"color: #800080; text-decoration-color: #800080; font-weight: bold\"> Link      </span>┃\n",
       "┡━━━━━━━━━━━━━━━━━━━━━━╇━━━━━━━━━━━╇━━━━━━━━━━━━━━━━━━━━━━━━━━━━━━━━━━━━━━━━━━╇━━━━━━━━━━╇━━━━━━━━━━━━╇━━━━━━━━━━━┩\n",
       "│<span style=\"color: #7f7f7f; text-decoration-color: #7f7f7f\"> Airfares Higher, But </span>│ 0.6553243 │ Airfares are higher than they've been in │ TRAVEL   │ 2013-07-1… │ <a href=\"https://www.huffingtonpost.com/entry/airfares-higher-but-new-p_us_5b9d5b7ee4b03a1dcc87097a\" target=\"_blank\">https://…</a> │\n",
       "│<span style=\"color: #7f7f7f; text-decoration-color: #7f7f7f\"> New Planes Take Out  </span>│           │ years, but there's some good news:       │          │            │           │\n",
       "│<span style=\"color: #7f7f7f; text-decoration-color: #7f7f7f\"> Some Sting           </span>│           │ airlines are at least putting your money │          │            │           │\n",
       "│<span style=\"color: #7f7f7f; text-decoration-color: #7f7f7f\">                      </span>│           │ to good use, buying new planes with the  │          │            │           │\n",
       "│<span style=\"color: #7f7f7f; text-decoration-color: #7f7f7f\">                      </span>│           │ latest in-flight entertainment systems,  │          │            │           │\n",
       "│<span style=\"color: #7f7f7f; text-decoration-color: #7f7f7f\">                      </span>│           │ seats that maximize knee-room if not hip │          │            │           │\n",
       "│<span style=\"color: #7f7f7f; text-decoration-color: #7f7f7f\">                      </span>│           │ room, and inflight connectivity.         │          │            │           │\n",
       "│<span style=\"color: #7f7f7f; text-decoration-color: #7f7f7f\"> Bad Airline Service: </span>│ 0.653908… │ Whether you want to congratulate or      │ TRAVEL   │ 2012-12-1… │ <a href=\"https://www.huffingtonpost.com/entry/bad-airline-service-when_us_5b9c9c68e4b03a1dcc804801\" target=\"_blank\">https://…</a> │\n",
       "│<span style=\"color: #7f7f7f; text-decoration-color: #7f7f7f\"> When Is Enough       </span>│           │ lambast an airline you've recently       │          │            │           │\n",
       "│<span style=\"color: #7f7f7f; text-decoration-color: #7f7f7f\"> Enough?              </span>│           │ flown, head on over to BadAirline and    │          │            │           │\n",
       "│<span style=\"color: #7f7f7f; text-decoration-color: #7f7f7f\">                      </span>│           │ make an airline complaint on the         │          │            │           │\n",
       "│<span style=\"color: #7f7f7f; text-decoration-color: #7f7f7f\">                      </span>│           │ airline's report card. Or, subscribe to  │          │            │           │\n",
       "│<span style=\"color: #7f7f7f; text-decoration-color: #7f7f7f\">                      </span>│           │ our airline news blog and keep abreast   │          │            │           │\n",
       "│<span style=\"color: #7f7f7f; text-decoration-color: #7f7f7f\">                      </span>│           │ of the latest airline developments.      │          │            │           │\n",
       "│<span style=\"color: #7f7f7f; text-decoration-color: #7f7f7f\"> America's Meanest    </span>│ 0.649797… │ American Airlines's regional carrier saw │ TRAVEL   │ 2013-04-0… │ <a href=\"https://www.huffingtonpost.com/entry/americas-meanest-airlines_us_5b9d05d1e4b03a1dcc83d127\" target=\"_blank\">https://…</a> │\n",
       "│<span style=\"color: #7f7f7f; text-decoration-color: #7f7f7f\"> Airlines: 2013       </span>│           │ improvement across all four of the       │          │            │           │\n",
       "│<span style=\"color: #7f7f7f; text-decoration-color: #7f7f7f\">                      </span>│           │ categories evaluated for the 2013 AQR    │          │            │           │\n",
       "│<span style=\"color: #7f7f7f; text-decoration-color: #7f7f7f\">                      </span>│           │ report                                   │          │            │           │\n",
       "└──────────────────────┴───────────┴──────────────────────────────────────────┴──────────┴────────────┴───────────┘\n",
       "</pre>\n"
      ],
      "text/plain": [
       "┏━━━━━━━━━━━━━━━━━━━━━━┳━━━━━━━━━━━┳━━━━━━━━━━━━━━━━━━━━━━━━━━━━━━━━━━━━━━━━━━┳━━━━━━━━━━┳━━━━━━━━━━━━┳━━━━━━━━━━━┓\n",
       "┃\u001b[1;35m \u001b[0m\u001b[1;35mHeadline            \u001b[0m\u001b[1;35m \u001b[0m┃\u001b[1;35m \u001b[0m\u001b[1;35mScore    \u001b[0m\u001b[1;35m \u001b[0m┃\u001b[1;35m \u001b[0m\u001b[1;35mDescription                             \u001b[0m\u001b[1;35m \u001b[0m┃\u001b[1;35m \u001b[0m\u001b[1;35mCategory\u001b[0m\u001b[1;35m \u001b[0m┃\u001b[1;35m \u001b[0m\u001b[1;35mDate      \u001b[0m\u001b[1;35m \u001b[0m┃\u001b[1;35m \u001b[0m\u001b[1;35mLink     \u001b[0m\u001b[1;35m \u001b[0m┃\n",
       "┡━━━━━━━━━━━━━━━━━━━━━━╇━━━━━━━━━━━╇━━━━━━━━━━━━━━━━━━━━━━━━━━━━━━━━━━━━━━━━━━╇━━━━━━━━━━╇━━━━━━━━━━━━╇━━━━━━━━━━━┩\n",
       "│\u001b[2m \u001b[0m\u001b[2mAirfares Higher, But\u001b[0m\u001b[2m \u001b[0m│ 0.6553243 │ Airfares are higher than they've been in │ TRAVEL   │ 2013-07-1… │ \u001b]8;id=850124;https://www.huffingtonpost.com/entry/airfares-higher-but-new-p_us_5b9d5b7ee4b03a1dcc87097a\u001b\\https://…\u001b]8;;\u001b\\ │\n",
       "│\u001b[2m \u001b[0m\u001b[2mNew Planes Take Out \u001b[0m\u001b[2m \u001b[0m│           │ years, but there's some good news:       │          │            │           │\n",
       "│\u001b[2m \u001b[0m\u001b[2mSome Sting          \u001b[0m\u001b[2m \u001b[0m│           │ airlines are at least putting your money │          │            │           │\n",
       "│\u001b[2m                      \u001b[0m│           │ to good use, buying new planes with the  │          │            │           │\n",
       "│\u001b[2m                      \u001b[0m│           │ latest in-flight entertainment systems,  │          │            │           │\n",
       "│\u001b[2m                      \u001b[0m│           │ seats that maximize knee-room if not hip │          │            │           │\n",
       "│\u001b[2m                      \u001b[0m│           │ room, and inflight connectivity.         │          │            │           │\n",
       "│\u001b[2m \u001b[0m\u001b[2mBad Airline Service:\u001b[0m\u001b[2m \u001b[0m│ 0.653908… │ Whether you want to congratulate or      │ TRAVEL   │ 2012-12-1… │ \u001b]8;id=66791;https://www.huffingtonpost.com/entry/bad-airline-service-when_us_5b9c9c68e4b03a1dcc804801\u001b\\https://…\u001b]8;;\u001b\\ │\n",
       "│\u001b[2m \u001b[0m\u001b[2mWhen Is Enough      \u001b[0m\u001b[2m \u001b[0m│           │ lambast an airline you've recently       │          │            │           │\n",
       "│\u001b[2m \u001b[0m\u001b[2mEnough?             \u001b[0m\u001b[2m \u001b[0m│           │ flown, head on over to BadAirline and    │          │            │           │\n",
       "│\u001b[2m                      \u001b[0m│           │ make an airline complaint on the         │          │            │           │\n",
       "│\u001b[2m                      \u001b[0m│           │ airline's report card. Or, subscribe to  │          │            │           │\n",
       "│\u001b[2m                      \u001b[0m│           │ our airline news blog and keep abreast   │          │            │           │\n",
       "│\u001b[2m                      \u001b[0m│           │ of the latest airline developments.      │          │            │           │\n",
       "│\u001b[2m \u001b[0m\u001b[2mAmerica's Meanest   \u001b[0m\u001b[2m \u001b[0m│ 0.649797… │ American Airlines's regional carrier saw │ TRAVEL   │ 2013-04-0… │ \u001b]8;id=499710;https://www.huffingtonpost.com/entry/americas-meanest-airlines_us_5b9d05d1e4b03a1dcc83d127\u001b\\https://…\u001b]8;;\u001b\\ │\n",
       "│\u001b[2m \u001b[0m\u001b[2mAirlines: 2013      \u001b[0m\u001b[2m \u001b[0m│           │ improvement across all four of the       │          │            │           │\n",
       "│\u001b[2m                      \u001b[0m│           │ categories evaluated for the 2013 AQR    │          │            │           │\n",
       "│\u001b[2m                      \u001b[0m│           │ report                                   │          │            │           │\n",
       "└──────────────────────┴───────────┴──────────────────────────────────────────┴──────────┴────────────┴───────────┘\n"
      ]
     },
     "metadata": {},
     "output_type": "display_data"
    },
    {
     "data": {
      "text/html": [
       "<pre style=\"white-space:pre;overflow-x:auto;line-height:normal;font-family:Menlo,'DejaVu Sans Mono',consolas,'Courier New',monospace\">\n",
       "<span style=\"color: #000080; text-decoration-color: #000080; font-weight: bold\">Results for boostRecency Scoring Profile:</span>\n",
       "</pre>\n"
      ],
      "text/plain": [
       "\n",
       "\u001b[1;34mResults for boostRecency Scoring Profile:\u001b[0m\n"
      ]
     },
     "metadata": {},
     "output_type": "display_data"
    },
    {
     "data": {
      "text/html": [
       "<pre style=\"white-space:pre;overflow-x:auto;line-height:normal;font-family:Menlo,'DejaVu Sans Mono',consolas,'Courier New',monospace\">┏━━━━━━━━━━━━━━━━━━━━━━┳━━━━━━━━━━━┳━━━━━━━━━━━━━━━━━━━━━━━━━━━━━━━━━━━━━━━━━━┳━━━━━━━━━━┳━━━━━━━━━━━━┳━━━━━━━━━━━┓\n",
       "┃<span style=\"color: #800080; text-decoration-color: #800080; font-weight: bold\"> Headline             </span>┃<span style=\"color: #800080; text-decoration-color: #800080; font-weight: bold\"> Score     </span>┃<span style=\"color: #800080; text-decoration-color: #800080; font-weight: bold\"> Description                              </span>┃<span style=\"color: #800080; text-decoration-color: #800080; font-weight: bold\"> Category </span>┃<span style=\"color: #800080; text-decoration-color: #800080; font-weight: bold\"> Date       </span>┃<span style=\"color: #800080; text-decoration-color: #800080; font-weight: bold\"> Link      </span>┃\n",
       "┡━━━━━━━━━━━━━━━━━━━━━━╇━━━━━━━━━━━╇━━━━━━━━━━━━━━━━━━━━━━━━━━━━━━━━━━━━━━━━━━╇━━━━━━━━━━╇━━━━━━━━━━━━╇━━━━━━━━━━━┩\n",
       "│<span style=\"color: #7f7f7f; text-decoration-color: #7f7f7f\"> Alaska Airlines      </span>│ 0.796218… │ More than 100 Alaska Airlines flights    │ BUSINESS │ 2022-04-0… │ <a href=\"https://www.huffpost.com/entry/alaska-airlines-cancels-flights-pilot-strike_n_62477517e4b0e44de9c20d16\" target=\"_blank\">https://…</a> │\n",
       "│<span style=\"color: #7f7f7f; text-decoration-color: #7f7f7f\"> Cancels Dozens Of    </span>│           │ were canceled by the airline, including  │          │            │           │\n",
       "│<span style=\"color: #7f7f7f; text-decoration-color: #7f7f7f\"> Flights As Pilots    </span>│           │ 66 in Seattle, 20 in Portland, Oregon,   │          │            │           │\n",
       "│<span style=\"color: #7f7f7f; text-decoration-color: #7f7f7f\"> Picket               </span>│           │ 10 in Los Angeles and seven in San       │          │            │           │\n",
       "│<span style=\"color: #7f7f7f; text-decoration-color: #7f7f7f\">                      </span>│           │ Francisco.                               │          │            │           │\n",
       "│<span style=\"color: #7f7f7f; text-decoration-color: #7f7f7f\"> Airfares Higher, But </span>│ 0.655324… │ Airfares are higher than they've been in │ TRAVEL   │ 2013-07-1… │ <a href=\"https://www.huffingtonpost.com/entry/airfares-higher-but-new-p_us_5b9d5b7ee4b03a1dcc87097a\" target=\"_blank\">https://…</a> │\n",
       "│<span style=\"color: #7f7f7f; text-decoration-color: #7f7f7f\"> New Planes Take Out  </span>│           │ years, but there's some good news:       │          │            │           │\n",
       "│<span style=\"color: #7f7f7f; text-decoration-color: #7f7f7f\"> Some Sting           </span>│           │ airlines are at least putting your money │          │            │           │\n",
       "│<span style=\"color: #7f7f7f; text-decoration-color: #7f7f7f\">                      </span>│           │ to good use, buying new planes with the  │          │            │           │\n",
       "│<span style=\"color: #7f7f7f; text-decoration-color: #7f7f7f\">                      </span>│           │ latest in-flight entertainment systems,  │          │            │           │\n",
       "│<span style=\"color: #7f7f7f; text-decoration-color: #7f7f7f\">                      </span>│           │ seats that maximize knee-room if not hip │          │            │           │\n",
       "│<span style=\"color: #7f7f7f; text-decoration-color: #7f7f7f\">                      </span>│           │ room, and inflight connectivity.         │          │            │           │\n",
       "│<span style=\"color: #7f7f7f; text-decoration-color: #7f7f7f\"> Bad Airline Service: </span>│ 0.653908… │ Whether you want to congratulate or      │ TRAVEL   │ 2012-12-1… │ <a href=\"https://www.huffingtonpost.com/entry/bad-airline-service-when_us_5b9c9c68e4b03a1dcc804801\" target=\"_blank\">https://…</a> │\n",
       "│<span style=\"color: #7f7f7f; text-decoration-color: #7f7f7f\"> When Is Enough       </span>│           │ lambast an airline you've recently       │          │            │           │\n",
       "│<span style=\"color: #7f7f7f; text-decoration-color: #7f7f7f\"> Enough?              </span>│           │ flown, head on over to BadAirline and    │          │            │           │\n",
       "│<span style=\"color: #7f7f7f; text-decoration-color: #7f7f7f\">                      </span>│           │ make an airline complaint on the         │          │            │           │\n",
       "│<span style=\"color: #7f7f7f; text-decoration-color: #7f7f7f\">                      </span>│           │ airline's report card. Or, subscribe to  │          │            │           │\n",
       "│<span style=\"color: #7f7f7f; text-decoration-color: #7f7f7f\">                      </span>│           │ our airline news blog and keep abreast   │          │            │           │\n",
       "│<span style=\"color: #7f7f7f; text-decoration-color: #7f7f7f\">                      </span>│           │ of the latest airline developments.      │          │            │           │\n",
       "└──────────────────────┴───────────┴──────────────────────────────────────────┴──────────┴────────────┴───────────┘\n",
       "</pre>\n"
      ],
      "text/plain": [
       "┏━━━━━━━━━━━━━━━━━━━━━━┳━━━━━━━━━━━┳━━━━━━━━━━━━━━━━━━━━━━━━━━━━━━━━━━━━━━━━━━┳━━━━━━━━━━┳━━━━━━━━━━━━┳━━━━━━━━━━━┓\n",
       "┃\u001b[1;35m \u001b[0m\u001b[1;35mHeadline            \u001b[0m\u001b[1;35m \u001b[0m┃\u001b[1;35m \u001b[0m\u001b[1;35mScore    \u001b[0m\u001b[1;35m \u001b[0m┃\u001b[1;35m \u001b[0m\u001b[1;35mDescription                             \u001b[0m\u001b[1;35m \u001b[0m┃\u001b[1;35m \u001b[0m\u001b[1;35mCategory\u001b[0m\u001b[1;35m \u001b[0m┃\u001b[1;35m \u001b[0m\u001b[1;35mDate      \u001b[0m\u001b[1;35m \u001b[0m┃\u001b[1;35m \u001b[0m\u001b[1;35mLink     \u001b[0m\u001b[1;35m \u001b[0m┃\n",
       "┡━━━━━━━━━━━━━━━━━━━━━━╇━━━━━━━━━━━╇━━━━━━━━━━━━━━━━━━━━━━━━━━━━━━━━━━━━━━━━━━╇━━━━━━━━━━╇━━━━━━━━━━━━╇━━━━━━━━━━━┩\n",
       "│\u001b[2m \u001b[0m\u001b[2mAlaska Airlines     \u001b[0m\u001b[2m \u001b[0m│ 0.796218… │ More than 100 Alaska Airlines flights    │ BUSINESS │ 2022-04-0… │ \u001b]8;id=810090;https://www.huffpost.com/entry/alaska-airlines-cancels-flights-pilot-strike_n_62477517e4b0e44de9c20d16\u001b\\https://…\u001b]8;;\u001b\\ │\n",
       "│\u001b[2m \u001b[0m\u001b[2mCancels Dozens Of   \u001b[0m\u001b[2m \u001b[0m│           │ were canceled by the airline, including  │          │            │           │\n",
       "│\u001b[2m \u001b[0m\u001b[2mFlights As Pilots   \u001b[0m\u001b[2m \u001b[0m│           │ 66 in Seattle, 20 in Portland, Oregon,   │          │            │           │\n",
       "│\u001b[2m \u001b[0m\u001b[2mPicket              \u001b[0m\u001b[2m \u001b[0m│           │ 10 in Los Angeles and seven in San       │          │            │           │\n",
       "│\u001b[2m                      \u001b[0m│           │ Francisco.                               │          │            │           │\n",
       "│\u001b[2m \u001b[0m\u001b[2mAirfares Higher, But\u001b[0m\u001b[2m \u001b[0m│ 0.655324… │ Airfares are higher than they've been in │ TRAVEL   │ 2013-07-1… │ \u001b]8;id=885385;https://www.huffingtonpost.com/entry/airfares-higher-but-new-p_us_5b9d5b7ee4b03a1dcc87097a\u001b\\https://…\u001b]8;;\u001b\\ │\n",
       "│\u001b[2m \u001b[0m\u001b[2mNew Planes Take Out \u001b[0m\u001b[2m \u001b[0m│           │ years, but there's some good news:       │          │            │           │\n",
       "│\u001b[2m \u001b[0m\u001b[2mSome Sting          \u001b[0m\u001b[2m \u001b[0m│           │ airlines are at least putting your money │          │            │           │\n",
       "│\u001b[2m                      \u001b[0m│           │ to good use, buying new planes with the  │          │            │           │\n",
       "│\u001b[2m                      \u001b[0m│           │ latest in-flight entertainment systems,  │          │            │           │\n",
       "│\u001b[2m                      \u001b[0m│           │ seats that maximize knee-room if not hip │          │            │           │\n",
       "│\u001b[2m                      \u001b[0m│           │ room, and inflight connectivity.         │          │            │           │\n",
       "│\u001b[2m \u001b[0m\u001b[2mBad Airline Service:\u001b[0m\u001b[2m \u001b[0m│ 0.653908… │ Whether you want to congratulate or      │ TRAVEL   │ 2012-12-1… │ \u001b]8;id=128870;https://www.huffingtonpost.com/entry/bad-airline-service-when_us_5b9c9c68e4b03a1dcc804801\u001b\\https://…\u001b]8;;\u001b\\ │\n",
       "│\u001b[2m \u001b[0m\u001b[2mWhen Is Enough      \u001b[0m\u001b[2m \u001b[0m│           │ lambast an airline you've recently       │          │            │           │\n",
       "│\u001b[2m \u001b[0m\u001b[2mEnough?             \u001b[0m\u001b[2m \u001b[0m│           │ flown, head on over to BadAirline and    │          │            │           │\n",
       "│\u001b[2m                      \u001b[0m│           │ make an airline complaint on the         │          │            │           │\n",
       "│\u001b[2m                      \u001b[0m│           │ airline's report card. Or, subscribe to  │          │            │           │\n",
       "│\u001b[2m                      \u001b[0m│           │ our airline news blog and keep abreast   │          │            │           │\n",
       "│\u001b[2m                      \u001b[0m│           │ of the latest airline developments.      │          │            │           │\n",
       "└──────────────────────┴───────────┴──────────────────────────────────────────┴──────────┴────────────┴───────────┘\n"
      ]
     },
     "metadata": {},
     "output_type": "display_data"
    }
   ],
   "source": [
    "from rich.console import Console\n",
    "from rich.table import Table\n",
    "from rich.text import Text\n",
    "\n",
    "# Initialize a Rich console\n",
    "console = Console()\n",
    "\n",
    "def search_and_print_results(scoring_profile=None):\n",
    "    query = \"latest news on airlines\"\n",
    "    vector_query = VectorizableTextQuery(\n",
    "        text=query, k_nearest_neighbors=50, fields=\"vector\", exhaustive=True\n",
    "    )\n",
    "    results = search_client.search(\n",
    "        search_text=None,\n",
    "        vector_queries=[vector_query],\n",
    "        scoring_profile=scoring_profile,\n",
    "        top=3,\n",
    "    )\n",
    "\n",
    "    profile_name = scoring_profile if scoring_profile else 'Vanilla (No Scoring Profile)'\n",
    "    console.print(f\"\\nResults for {profile_name} Scoring Profile:\", style=\"bold blue\")\n",
    "\n",
    "    # Create a table for the results\n",
    "    table = Table(show_header=True, header_style=\"bold magenta\")\n",
    "    table.add_column(\"Headline\", style=\"dim\", width=20)\n",
    "    table.add_column(\"Score\")\n",
    "    table.add_column(\"Description\", width=40)\n",
    "    table.add_column(\"Category\")\n",
    "    table.add_column(\"Date\")\n",
    "    table.add_column(\"Link\")\n",
    "\n",
    "    for result in results:\n",
    "        # Format the link as a clickable hyperlink\n",
    "        link_text = Text(result['link'], style=\"link\")\n",
    "        link_text.stylize(f\"link {result['link']}\")\n",
    "\n",
    "        table.add_row(\n",
    "            result['headline'],\n",
    "            str(result['@search.score']),\n",
    "            result['short_description'],\n",
    "            result['category'],\n",
    "            result['date'],\n",
    "            link_text  # Use the formatted link text here\n",
    "        )\n",
    "\n",
    "    # Print the table\n",
    "    console.print(table)\n",
    "\n",
    "# Perform searches with and without the freshness scoring profile\n",
    "search_and_print_results()  # Vanilla query without any scoring profile\n",
    "search_and_print_results(\"boostRecency\")\n"
   ]
  },
  {
   "cell_type": "markdown",
   "metadata": {},
   "source": [
    "When the boostRecency scoring profile is applied, the search results prioritize newer articles, as demonstrated by the higher ranking of the Alaska Airlines article dated 2022-04-01. In contrast, the vanilla query without any scoring profile returns results based on default relevance, where older articles from 2013 and 2012 are ranked higher. This illustrates the effectiveness of the freshness scoring profile in promoting more recent content."
   ]
  },
  {
   "cell_type": "markdown",
   "metadata": {},
   "source": [
    "### Category Boosting"
   ]
  },
  {
   "cell_type": "markdown",
   "metadata": {},
   "source": [
    "For this one, we will do a hybrid search so the category boost can be applied to our full-text search algorithm."
   ]
  },
  {
   "cell_type": "code",
   "execution_count": 80,
   "metadata": {},
   "outputs": [
    {
     "data": {
      "text/html": [
       "<pre style=\"white-space:pre;overflow-x:auto;line-height:normal;font-family:Menlo,'DejaVu Sans Mono',consolas,'Courier New',monospace\">\n",
       "<span style=\"color: #000080; text-decoration-color: #000080; font-weight: bold\">Results for Vanilla (No Scoring Profile) Scoring Profile:</span>\n",
       "</pre>\n"
      ],
      "text/plain": [
       "\n",
       "\u001b[1;34mResults for Vanilla \u001b[0m\u001b[1;34m(\u001b[0m\u001b[1;34mNo Scoring Profile\u001b[0m\u001b[1;34m)\u001b[0m\u001b[1;34m Scoring Profile:\u001b[0m\n"
      ]
     },
     "metadata": {},
     "output_type": "display_data"
    },
    {
     "data": {
      "text/html": [
       "<pre style=\"white-space:pre;overflow-x:auto;line-height:normal;font-family:Menlo,'DejaVu Sans Mono',consolas,'Courier New',monospace\">┏━━━━━━━━━━━━━━━━━━━━━━┳━━━━━━━━━━━┳━━━━━━━━━━━━━━━━━━━━━━━━━━━━━━━━━━━━━━━━━━┳━━━━━━━━━━━┳━━━━━━━━━━━┳━━━━━━━━━━━┓\n",
       "┃<span style=\"color: #800080; text-decoration-color: #800080; font-weight: bold\"> Headline             </span>┃<span style=\"color: #800080; text-decoration-color: #800080; font-weight: bold\"> Score     </span>┃<span style=\"color: #800080; text-decoration-color: #800080; font-weight: bold\"> Description                              </span>┃<span style=\"color: #800080; text-decoration-color: #800080; font-weight: bold\"> Category  </span>┃<span style=\"color: #800080; text-decoration-color: #800080; font-weight: bold\"> Date      </span>┃<span style=\"color: #800080; text-decoration-color: #800080; font-weight: bold\"> Link      </span>┃\n",
       "┡━━━━━━━━━━━━━━━━━━━━━━╇━━━━━━━━━━━╇━━━━━━━━━━━━━━━━━━━━━━━━━━━━━━━━━━━━━━━━━━╇━━━━━━━━━━━╇━━━━━━━━━━━╇━━━━━━━━━━━┩\n",
       "│<span style=\"color: #7f7f7f; text-decoration-color: #7f7f7f\"> Hollywood &amp; Vine:    </span>│ 0.028294… │                                          │ ENTERTAI… │ 2014-12-… │ <a href=\"https://www.huffingtonpost.comhttp://www.newyorker.com/magazine/2014/12/15/hollywood-vine\" target=\"_blank\">https://…</a> │\n",
       "│<span style=\"color: #7f7f7f; text-decoration-color: #7f7f7f\"> The Entertainment    </span>│           │                                          │           │           │           │\n",
       "│<span style=\"color: #7f7f7f; text-decoration-color: #7f7f7f\"> Industry Seeks The   </span>│           │                                          │           │           │           │\n",
       "│<span style=\"color: #7f7f7f; text-decoration-color: #7f7f7f\"> Future In Viral      </span>│           │                                          │           │           │           │\n",
       "│<span style=\"color: #7f7f7f; text-decoration-color: #7f7f7f\"> Video                </span>│           │                                          │           │           │           │\n",
       "│<span style=\"color: #7f7f7f; text-decoration-color: #7f7f7f\"> The Truth About      </span>│ 0.028160… │ Like the fashion world, the wedding      │ WEDDINGS  │ 2014-01-… │ <a href=\"https://www.huffingtonpost.com/entry/the-truth-about-wedding-t_us_5b9dd1bbe4b03a1dcc8d48bd\" target=\"_blank\">https://…</a> │\n",
       "│<span style=\"color: #7f7f7f; text-decoration-color: #7f7f7f\"> Wedding Trends       </span>│           │ industry loves its trends. But should    │           │           │           │\n",
       "│<span style=\"color: #7f7f7f; text-decoration-color: #7f7f7f\">                      </span>│           │ we?                                      │           │           │           │\n",
       "│<span style=\"color: #7f7f7f; text-decoration-color: #7f7f7f\"> For The Modeling     </span>│ 0.026279… │ The industry has changed.                │ QUEER     │ 2018-02-… │ <a href=\"https://www.huffingtonpost.com/entry/for-the-modeling-industry-the-future-is-transgender_us_5a7dcf2ce4b033149e401cf4\" target=\"_blank\">https://…</a> │\n",
       "│<span style=\"color: #7f7f7f; text-decoration-color: #7f7f7f\"> Industry, The Future </span>│           │                                          │ VOICES    │           │           │\n",
       "│<span style=\"color: #7f7f7f; text-decoration-color: #7f7f7f\"> Is Transgender       </span>│           │                                          │           │           │           │\n",
       "└──────────────────────┴───────────┴──────────────────────────────────────────┴───────────┴───────────┴───────────┘\n",
       "</pre>\n"
      ],
      "text/plain": [
       "┏━━━━━━━━━━━━━━━━━━━━━━┳━━━━━━━━━━━┳━━━━━━━━━━━━━━━━━━━━━━━━━━━━━━━━━━━━━━━━━━┳━━━━━━━━━━━┳━━━━━━━━━━━┳━━━━━━━━━━━┓\n",
       "┃\u001b[1;35m \u001b[0m\u001b[1;35mHeadline            \u001b[0m\u001b[1;35m \u001b[0m┃\u001b[1;35m \u001b[0m\u001b[1;35mScore    \u001b[0m\u001b[1;35m \u001b[0m┃\u001b[1;35m \u001b[0m\u001b[1;35mDescription                             \u001b[0m\u001b[1;35m \u001b[0m┃\u001b[1;35m \u001b[0m\u001b[1;35mCategory \u001b[0m\u001b[1;35m \u001b[0m┃\u001b[1;35m \u001b[0m\u001b[1;35mDate     \u001b[0m\u001b[1;35m \u001b[0m┃\u001b[1;35m \u001b[0m\u001b[1;35mLink     \u001b[0m\u001b[1;35m \u001b[0m┃\n",
       "┡━━━━━━━━━━━━━━━━━━━━━━╇━━━━━━━━━━━╇━━━━━━━━━━━━━━━━━━━━━━━━━━━━━━━━━━━━━━━━━━╇━━━━━━━━━━━╇━━━━━━━━━━━╇━━━━━━━━━━━┩\n",
       "│\u001b[2m \u001b[0m\u001b[2mHollywood & Vine:   \u001b[0m\u001b[2m \u001b[0m│ 0.028294… │                                          │ ENTERTAI… │ 2014-12-… │ \u001b]8;id=628840;https://www.huffingtonpost.comhttp://www.newyorker.com/magazine/2014/12/15/hollywood-vine\u001b\\https://…\u001b]8;;\u001b\\ │\n",
       "│\u001b[2m \u001b[0m\u001b[2mThe Entertainment   \u001b[0m\u001b[2m \u001b[0m│           │                                          │           │           │           │\n",
       "│\u001b[2m \u001b[0m\u001b[2mIndustry Seeks The  \u001b[0m\u001b[2m \u001b[0m│           │                                          │           │           │           │\n",
       "│\u001b[2m \u001b[0m\u001b[2mFuture In Viral     \u001b[0m\u001b[2m \u001b[0m│           │                                          │           │           │           │\n",
       "│\u001b[2m \u001b[0m\u001b[2mVideo               \u001b[0m\u001b[2m \u001b[0m│           │                                          │           │           │           │\n",
       "│\u001b[2m \u001b[0m\u001b[2mThe Truth About     \u001b[0m\u001b[2m \u001b[0m│ 0.028160… │ Like the fashion world, the wedding      │ WEDDINGS  │ 2014-01-… │ \u001b]8;id=873023;https://www.huffingtonpost.com/entry/the-truth-about-wedding-t_us_5b9dd1bbe4b03a1dcc8d48bd\u001b\\https://…\u001b]8;;\u001b\\ │\n",
       "│\u001b[2m \u001b[0m\u001b[2mWedding Trends      \u001b[0m\u001b[2m \u001b[0m│           │ industry loves its trends. But should    │           │           │           │\n",
       "│\u001b[2m                      \u001b[0m│           │ we?                                      │           │           │           │\n",
       "│\u001b[2m \u001b[0m\u001b[2mFor The Modeling    \u001b[0m\u001b[2m \u001b[0m│ 0.026279… │ The industry has changed.                │ QUEER     │ 2018-02-… │ \u001b]8;id=894203;https://www.huffingtonpost.com/entry/for-the-modeling-industry-the-future-is-transgender_us_5a7dcf2ce4b033149e401cf4\u001b\\https://…\u001b]8;;\u001b\\ │\n",
       "│\u001b[2m \u001b[0m\u001b[2mIndustry, The Future\u001b[0m\u001b[2m \u001b[0m│           │                                          │ VOICES    │           │           │\n",
       "│\u001b[2m \u001b[0m\u001b[2mIs Transgender      \u001b[0m\u001b[2m \u001b[0m│           │                                          │           │           │           │\n",
       "└──────────────────────┴───────────┴──────────────────────────────────────────┴───────────┴───────────┴───────────┘\n"
      ]
     },
     "metadata": {},
     "output_type": "display_data"
    },
    {
     "data": {
      "text/html": [
       "<pre style=\"white-space:pre;overflow-x:auto;line-height:normal;font-family:Menlo,'DejaVu Sans Mono',consolas,'Courier New',monospace\">\n",
       "<span style=\"color: #000080; text-decoration-color: #000080; font-weight: bold\">Results for boostCategory Scoring Profile:</span>\n",
       "</pre>\n"
      ],
      "text/plain": [
       "\n",
       "\u001b[1;34mResults for boostCategory Scoring Profile:\u001b[0m\n"
      ]
     },
     "metadata": {},
     "output_type": "display_data"
    },
    {
     "data": {
      "text/html": [
       "<pre style=\"white-space:pre;overflow-x:auto;line-height:normal;font-family:Menlo,'DejaVu Sans Mono',consolas,'Courier New',monospace\">┏━━━━━━━━━━━━━━━━━━━━━━┳━━━━━━━━━━━┳━━━━━━━━━━━━━━━━━━━━━━━━━━━━━━━━━━━━━━━━━━┳━━━━━━━━━━━┳━━━━━━━━━━━┳━━━━━━━━━━━┓\n",
       "┃<span style=\"color: #800080; text-decoration-color: #800080; font-weight: bold\"> Headline             </span>┃<span style=\"color: #800080; text-decoration-color: #800080; font-weight: bold\"> Score     </span>┃<span style=\"color: #800080; text-decoration-color: #800080; font-weight: bold\"> Description                              </span>┃<span style=\"color: #800080; text-decoration-color: #800080; font-weight: bold\"> Category  </span>┃<span style=\"color: #800080; text-decoration-color: #800080; font-weight: bold\"> Date      </span>┃<span style=\"color: #800080; text-decoration-color: #800080; font-weight: bold\"> Link      </span>┃\n",
       "┡━━━━━━━━━━━━━━━━━━━━━━╇━━━━━━━━━━━╇━━━━━━━━━━━━━━━━━━━━━━━━━━━━━━━━━━━━━━━━━━╇━━━━━━━━━━━╇━━━━━━━━━━━╇━━━━━━━━━━━┩\n",
       "│<span style=\"color: #7f7f7f; text-decoration-color: #7f7f7f\"> Hollywood &amp; Vine:    </span>│ 0.032051… │                                          │ ENTERTAI… │ 2014-12-… │ <a href=\"https://www.huffingtonpost.comhttp://www.newyorker.com/magazine/2014/12/15/hollywood-vine\" target=\"_blank\">https://…</a> │\n",
       "│<span style=\"color: #7f7f7f; text-decoration-color: #7f7f7f\"> The Entertainment    </span>│           │                                          │           │           │           │\n",
       "│<span style=\"color: #7f7f7f; text-decoration-color: #7f7f7f\"> Industry Seeks The   </span>│           │                                          │           │           │           │\n",
       "│<span style=\"color: #7f7f7f; text-decoration-color: #7f7f7f\"> Future In Viral      </span>│           │                                          │           │           │           │\n",
       "│<span style=\"color: #7f7f7f; text-decoration-color: #7f7f7f\"> Video                </span>│           │                                          │           │           │           │\n",
       "│<span style=\"color: #7f7f7f; text-decoration-color: #7f7f7f\"> Is Music Dead?       </span>│ 0.029709… │ We live in an era when the music         │ ENTERTAI… │ 2015-04-… │ <a href=\"https://www.huffingtonpost.com/entry/is-music-dead-thoughts-on_b_7037212.html\" target=\"_blank\">https://…</a> │\n",
       "│<span style=\"color: #7f7f7f; text-decoration-color: #7f7f7f\"> (Thoughts on the     </span>│           │ industry changes track almost every six  │           │           │           │\n",
       "│<span style=\"color: #7f7f7f; text-decoration-color: #7f7f7f\"> Music Industry After </span>│           │ months. The reason is the grown of       │           │           │           │\n",
       "│<span style=\"color: #7f7f7f; text-decoration-color: #7f7f7f\"> SXSW 2015)           </span>│           │ digital marketing and social media. Many │           │           │           │\n",
       "│<span style=\"color: #7f7f7f; text-decoration-color: #7f7f7f\">                      </span>│           │ in the industry believe that this is     │           │           │           │\n",
       "│<span style=\"color: #7f7f7f; text-decoration-color: #7f7f7f\">                      </span>│           │ what new artists should target.          │           │           │           │\n",
       "│<span style=\"color: #7f7f7f; text-decoration-color: #7f7f7f\"> Maisie Williams      </span>│ 0.016666… │ Enough with \"the girlfriend\" roles.      │ ENTERTAI… │ 2015-08-… │ <a href=\"https://www.huffingtonpost.com/entry/maisie-williams-calls-out-sexism-in-the-entertainment-industry_us_55d8d313e4b08cd3359c54c7\" target=\"_blank\">https://…</a> │\n",
       "│<span style=\"color: #7f7f7f; text-decoration-color: #7f7f7f\"> Calls Out Sexism In  </span>│           │                                          │           │           │           │\n",
       "│<span style=\"color: #7f7f7f; text-decoration-color: #7f7f7f\"> The Entertainment    </span>│           │                                          │           │           │           │\n",
       "│<span style=\"color: #7f7f7f; text-decoration-color: #7f7f7f\"> Industry             </span>│           │                                          │           │           │           │\n",
       "└──────────────────────┴───────────┴──────────────────────────────────────────┴───────────┴───────────┴───────────┘\n",
       "</pre>\n"
      ],
      "text/plain": [
       "┏━━━━━━━━━━━━━━━━━━━━━━┳━━━━━━━━━━━┳━━━━━━━━━━━━━━━━━━━━━━━━━━━━━━━━━━━━━━━━━━┳━━━━━━━━━━━┳━━━━━━━━━━━┳━━━━━━━━━━━┓\n",
       "┃\u001b[1;35m \u001b[0m\u001b[1;35mHeadline            \u001b[0m\u001b[1;35m \u001b[0m┃\u001b[1;35m \u001b[0m\u001b[1;35mScore    \u001b[0m\u001b[1;35m \u001b[0m┃\u001b[1;35m \u001b[0m\u001b[1;35mDescription                             \u001b[0m\u001b[1;35m \u001b[0m┃\u001b[1;35m \u001b[0m\u001b[1;35mCategory \u001b[0m\u001b[1;35m \u001b[0m┃\u001b[1;35m \u001b[0m\u001b[1;35mDate     \u001b[0m\u001b[1;35m \u001b[0m┃\u001b[1;35m \u001b[0m\u001b[1;35mLink     \u001b[0m\u001b[1;35m \u001b[0m┃\n",
       "┡━━━━━━━━━━━━━━━━━━━━━━╇━━━━━━━━━━━╇━━━━━━━━━━━━━━━━━━━━━━━━━━━━━━━━━━━━━━━━━━╇━━━━━━━━━━━╇━━━━━━━━━━━╇━━━━━━━━━━━┩\n",
       "│\u001b[2m \u001b[0m\u001b[2mHollywood & Vine:   \u001b[0m\u001b[2m \u001b[0m│ 0.032051… │                                          │ ENTERTAI… │ 2014-12-… │ \u001b]8;id=814023;https://www.huffingtonpost.comhttp://www.newyorker.com/magazine/2014/12/15/hollywood-vine\u001b\\https://…\u001b]8;;\u001b\\ │\n",
       "│\u001b[2m \u001b[0m\u001b[2mThe Entertainment   \u001b[0m\u001b[2m \u001b[0m│           │                                          │           │           │           │\n",
       "│\u001b[2m \u001b[0m\u001b[2mIndustry Seeks The  \u001b[0m\u001b[2m \u001b[0m│           │                                          │           │           │           │\n",
       "│\u001b[2m \u001b[0m\u001b[2mFuture In Viral     \u001b[0m\u001b[2m \u001b[0m│           │                                          │           │           │           │\n",
       "│\u001b[2m \u001b[0m\u001b[2mVideo               \u001b[0m\u001b[2m \u001b[0m│           │                                          │           │           │           │\n",
       "│\u001b[2m \u001b[0m\u001b[2mIs Music Dead?      \u001b[0m\u001b[2m \u001b[0m│ 0.029709… │ We live in an era when the music         │ ENTERTAI… │ 2015-04-… │ \u001b]8;id=374154;https://www.huffingtonpost.com/entry/is-music-dead-thoughts-on_b_7037212.html\u001b\\https://…\u001b]8;;\u001b\\ │\n",
       "│\u001b[2m \u001b[0m\u001b[2m(Thoughts on the    \u001b[0m\u001b[2m \u001b[0m│           │ industry changes track almost every six  │           │           │           │\n",
       "│\u001b[2m \u001b[0m\u001b[2mMusic Industry After\u001b[0m\u001b[2m \u001b[0m│           │ months. The reason is the grown of       │           │           │           │\n",
       "│\u001b[2m \u001b[0m\u001b[2mSXSW 2015)          \u001b[0m\u001b[2m \u001b[0m│           │ digital marketing and social media. Many │           │           │           │\n",
       "│\u001b[2m                      \u001b[0m│           │ in the industry believe that this is     │           │           │           │\n",
       "│\u001b[2m                      \u001b[0m│           │ what new artists should target.          │           │           │           │\n",
       "│\u001b[2m \u001b[0m\u001b[2mMaisie Williams     \u001b[0m\u001b[2m \u001b[0m│ 0.016666… │ Enough with \"the girlfriend\" roles.      │ ENTERTAI… │ 2015-08-… │ \u001b]8;id=184605;https://www.huffingtonpost.com/entry/maisie-williams-calls-out-sexism-in-the-entertainment-industry_us_55d8d313e4b08cd3359c54c7\u001b\\https://…\u001b]8;;\u001b\\ │\n",
       "│\u001b[2m \u001b[0m\u001b[2mCalls Out Sexism In \u001b[0m\u001b[2m \u001b[0m│           │                                          │           │           │           │\n",
       "│\u001b[2m \u001b[0m\u001b[2mThe Entertainment   \u001b[0m\u001b[2m \u001b[0m│           │                                          │           │           │           │\n",
       "│\u001b[2m \u001b[0m\u001b[2mIndustry            \u001b[0m\u001b[2m \u001b[0m│           │                                          │           │           │           │\n",
       "└──────────────────────┴───────────┴──────────────────────────────────────────┴───────────┴───────────┴───────────┘\n"
      ]
     },
     "metadata": {},
     "output_type": "display_data"
    }
   ],
   "source": [
    "from rich.console import Console\n",
    "from rich.table import Table\n",
    "from rich.text import Text\n",
    "\n",
    "# Initialize a Rich console\n",
    "console = Console()\n",
    "\n",
    "def search_and_print_results(scoring_profile=None):\n",
    "    query = \"Entertainment Industry Trends\"\n",
    "    vector_query = VectorizableTextQuery(\n",
    "        text=query, k_nearest_neighbors=50, fields=\"vector\", exhaustive=True\n",
    "    )\n",
    "    results = search_client.search(\n",
    "        search_text=query, # passing in text query for hybrid search\n",
    "        vector_queries=[vector_query],\n",
    "        scoring_profile=scoring_profile,\n",
    "        top=3,\n",
    "    )\n",
    "\n",
    "    profile_name = scoring_profile if scoring_profile else 'Vanilla (No Scoring Profile)'\n",
    "    console.print(f\"\\nResults for {profile_name} Scoring Profile:\", style=\"bold blue\")\n",
    "\n",
    "    # Create a table for the results\n",
    "    table = Table(show_header=True, header_style=\"bold magenta\")\n",
    "    table.add_column(\"Headline\", style=\"dim\", width=20)\n",
    "    table.add_column(\"Score\")\n",
    "    table.add_column(\"Description\", width=40)\n",
    "    table.add_column(\"Category\")\n",
    "    table.add_column(\"Date\")\n",
    "    table.add_column(\"Link\")\n",
    "\n",
    "    for result in results:\n",
    "        # Format the link as a clickable hyperlink\n",
    "        link_text = Text(result['link'], style=\"link\")\n",
    "        link_text.stylize(f\"link {result['link']}\")\n",
    "\n",
    "        table.add_row(\n",
    "            result['headline'],\n",
    "            str(result['@search.score']),\n",
    "            result['short_description'],\n",
    "            result['category'],\n",
    "            result['date'],\n",
    "            link_text  # Use the formatted link text here\n",
    "        )\n",
    "\n",
    "    # Print the table\n",
    "    console.print(table)\n",
    "\n",
    "# Perform searches with and without the freshness scoring profile\n",
    "search_and_print_results()  # Vanilla query without any scoring profile\n",
    "search_and_print_results(\"boostCategory\")"
   ]
  },
  {
   "cell_type": "markdown",
   "metadata": {},
   "source": [
    "When the boostCategory scoring profile is applied, the search results show a slight increase in relevance for articles categorized under TRAVEL, as demonstrated by the inclusion of \"Airfares Higher, But New Planes Take Out Some Sting\" in the results. However, articles in the WORLD NEWS category are still prominent, indicating that the boost is not overriding the default relevance completely. In contrast, the vanilla query without any scoring profile returns results based on default relevance, where articles under the TRAVEL category still appear but without the specific boost applied. This illustrates the impact of the category boosting scoring profile in subtly promoting articles in specific categories."
   ]
  },
  {
   "cell_type": "markdown",
   "metadata": {},
   "source": [
    "### Tag Boosting"
   ]
  },
  {
   "cell_type": "code",
   "execution_count": 107,
   "metadata": {},
   "outputs": [
    {
     "data": {
      "text/html": [
       "<pre style=\"white-space:pre;overflow-x:auto;line-height:normal;font-family:Menlo,'DejaVu Sans Mono',consolas,'Courier New',monospace\">\n",
       "<span style=\"color: #000080; text-decoration-color: #000080; font-weight: bold\">Results for Vanilla (No Scoring Profile) Scoring Profile:</span>\n",
       "</pre>\n"
      ],
      "text/plain": [
       "\n",
       "\u001b[1;34mResults for Vanilla \u001b[0m\u001b[1;34m(\u001b[0m\u001b[1;34mNo Scoring Profile\u001b[0m\u001b[1;34m)\u001b[0m\u001b[1;34m Scoring Profile:\u001b[0m\n"
      ]
     },
     "metadata": {},
     "output_type": "display_data"
    },
    {
     "data": {
      "text/html": [
       "<pre style=\"white-space:pre;overflow-x:auto;line-height:normal;font-family:Menlo,'DejaVu Sans Mono',consolas,'Courier New',monospace\">┏━━━━━━━━━━━━━━━━━━━━━━┳━━━━━━━━━━━┳━━━━━━━━━━━━━━━━━━━━━━━━━━━━━━━━━━━━━━━━━━┳━━━━━━━━━━┳━━━━━━━━━━━━┳━━━━━━━━━━━┓\n",
       "┃<span style=\"color: #800080; text-decoration-color: #800080; font-weight: bold\"> Headline             </span>┃<span style=\"color: #800080; text-decoration-color: #800080; font-weight: bold\"> Score     </span>┃<span style=\"color: #800080; text-decoration-color: #800080; font-weight: bold\"> Description                              </span>┃<span style=\"color: #800080; text-decoration-color: #800080; font-weight: bold\"> Category </span>┃<span style=\"color: #800080; text-decoration-color: #800080; font-weight: bold\"> Date       </span>┃<span style=\"color: #800080; text-decoration-color: #800080; font-weight: bold\"> Link      </span>┃\n",
       "┡━━━━━━━━━━━━━━━━━━━━━━╇━━━━━━━━━━━╇━━━━━━━━━━━━━━━━━━━━━━━━━━━━━━━━━━━━━━━━━━╇━━━━━━━━━━╇━━━━━━━━━━━━╇━━━━━━━━━━━┩\n",
       "│<span style=\"color: #7f7f7f; text-decoration-color: #7f7f7f\"> Banking Outlook      </span>│ 0.670451… │ Thanks to two major X factors -- the     │ MONEY    │ 2012-12-1… │ <a href=\"https://www.huffingtonpost.com/entry/banking-outlook-2013-8-th_us_5b9c9dd2e4b03a1dcc80520f\" target=\"_blank\">https://…</a> │\n",
       "│<span style=\"color: #7f7f7f; text-decoration-color: #7f7f7f\"> 2013: 8 Things to    </span>│           │ fiscal cliff and new bank capitalization │          │            │           │\n",
       "│<span style=\"color: #7f7f7f; text-decoration-color: #7f7f7f\"> Watch                </span>│           │ standards -- 2013 could be the most      │          │            │           │\n",
       "│<span style=\"color: #7f7f7f; text-decoration-color: #7f7f7f\">                      </span>│           │ eventful period for the banking industry │          │            │           │\n",
       "│<span style=\"color: #7f7f7f; text-decoration-color: #7f7f7f\">                      </span>│           │ since the crisis years of 2008 and 2009. │          │            │           │\n",
       "│<span style=\"color: #7f7f7f; text-decoration-color: #7f7f7f\">                      </span>│           │ Here are eight key things to watch.      │          │            │           │\n",
       "│<span style=\"color: #7f7f7f; text-decoration-color: #7f7f7f\"> What's the Future of </span>│ 0.667789… │ With the rise in technology and the      │ BUSINESS │ 2013-05-0… │ <a href=\"https://www.huffingtonpost.com/entry/whats-the-future-of-retai_us_5bb2f2f4e4b0480ca65f4fab\" target=\"_blank\">https://…</a> │\n",
       "│<span style=\"color: #7f7f7f; text-decoration-color: #7f7f7f\"> Retail Banking?      </span>│           │ changing nature of how people shop for   │          │            │           │\n",
       "│<span style=\"color: #7f7f7f; text-decoration-color: #7f7f7f\">                      </span>│           │ financial products, has your local bank  │          │            │           │\n",
       "│<span style=\"color: #7f7f7f; text-decoration-color: #7f7f7f\">                      </span>│           │ branch become irrelevant?                │          │            │           │\n",
       "│<span style=\"color: #7f7f7f; text-decoration-color: #7f7f7f\"> Future Shock:        </span>│ 0.6523469 │ To the land of way beyond? Beyond        │ MONEY    │ 2014-03-2… │ <a href=\"https://www.huffingtonpost.com/entry/future-shockpersonal-fina_us_5b9df118e4b03a1dcc8f2e62\" target=\"_blank\">https://…</a> │\n",
       "│<span style=\"color: #7f7f7f; text-decoration-color: #7f7f7f\"> Personal Finance     </span>│           │ banking and beyond receipts, there is    │          │            │           │\n",
       "│<span style=\"color: #7f7f7f; text-decoration-color: #7f7f7f\"> Technology           </span>│           │ also a growing trend towards alternative │          │            │           │\n",
       "│<span style=\"color: #7f7f7f; text-decoration-color: #7f7f7f\">                      </span>│           │ payment                                  │          │            │           │\n",
       "└──────────────────────┴───────────┴──────────────────────────────────────────┴──────────┴────────────┴───────────┘\n",
       "</pre>\n"
      ],
      "text/plain": [
       "┏━━━━━━━━━━━━━━━━━━━━━━┳━━━━━━━━━━━┳━━━━━━━━━━━━━━━━━━━━━━━━━━━━━━━━━━━━━━━━━━┳━━━━━━━━━━┳━━━━━━━━━━━━┳━━━━━━━━━━━┓\n",
       "┃\u001b[1;35m \u001b[0m\u001b[1;35mHeadline            \u001b[0m\u001b[1;35m \u001b[0m┃\u001b[1;35m \u001b[0m\u001b[1;35mScore    \u001b[0m\u001b[1;35m \u001b[0m┃\u001b[1;35m \u001b[0m\u001b[1;35mDescription                             \u001b[0m\u001b[1;35m \u001b[0m┃\u001b[1;35m \u001b[0m\u001b[1;35mCategory\u001b[0m\u001b[1;35m \u001b[0m┃\u001b[1;35m \u001b[0m\u001b[1;35mDate      \u001b[0m\u001b[1;35m \u001b[0m┃\u001b[1;35m \u001b[0m\u001b[1;35mLink     \u001b[0m\u001b[1;35m \u001b[0m┃\n",
       "┡━━━━━━━━━━━━━━━━━━━━━━╇━━━━━━━━━━━╇━━━━━━━━━━━━━━━━━━━━━━━━━━━━━━━━━━━━━━━━━━╇━━━━━━━━━━╇━━━━━━━━━━━━╇━━━━━━━━━━━┩\n",
       "│\u001b[2m \u001b[0m\u001b[2mBanking Outlook     \u001b[0m\u001b[2m \u001b[0m│ 0.670451… │ Thanks to two major X factors -- the     │ MONEY    │ 2012-12-1… │ \u001b]8;id=390097;https://www.huffingtonpost.com/entry/banking-outlook-2013-8-th_us_5b9c9dd2e4b03a1dcc80520f\u001b\\https://…\u001b]8;;\u001b\\ │\n",
       "│\u001b[2m \u001b[0m\u001b[2m2013: 8 Things to   \u001b[0m\u001b[2m \u001b[0m│           │ fiscal cliff and new bank capitalization │          │            │           │\n",
       "│\u001b[2m \u001b[0m\u001b[2mWatch               \u001b[0m\u001b[2m \u001b[0m│           │ standards -- 2013 could be the most      │          │            │           │\n",
       "│\u001b[2m                      \u001b[0m│           │ eventful period for the banking industry │          │            │           │\n",
       "│\u001b[2m                      \u001b[0m│           │ since the crisis years of 2008 and 2009. │          │            │           │\n",
       "│\u001b[2m                      \u001b[0m│           │ Here are eight key things to watch.      │          │            │           │\n",
       "│\u001b[2m \u001b[0m\u001b[2mWhat's the Future of\u001b[0m\u001b[2m \u001b[0m│ 0.667789… │ With the rise in technology and the      │ BUSINESS │ 2013-05-0… │ \u001b]8;id=689918;https://www.huffingtonpost.com/entry/whats-the-future-of-retai_us_5bb2f2f4e4b0480ca65f4fab\u001b\\https://…\u001b]8;;\u001b\\ │\n",
       "│\u001b[2m \u001b[0m\u001b[2mRetail Banking?     \u001b[0m\u001b[2m \u001b[0m│           │ changing nature of how people shop for   │          │            │           │\n",
       "│\u001b[2m                      \u001b[0m│           │ financial products, has your local bank  │          │            │           │\n",
       "│\u001b[2m                      \u001b[0m│           │ branch become irrelevant?                │          │            │           │\n",
       "│\u001b[2m \u001b[0m\u001b[2mFuture Shock:       \u001b[0m\u001b[2m \u001b[0m│ 0.6523469 │ To the land of way beyond? Beyond        │ MONEY    │ 2014-03-2… │ \u001b]8;id=156879;https://www.huffingtonpost.com/entry/future-shockpersonal-fina_us_5b9df118e4b03a1dcc8f2e62\u001b\\https://…\u001b]8;;\u001b\\ │\n",
       "│\u001b[2m \u001b[0m\u001b[2mPersonal Finance    \u001b[0m\u001b[2m \u001b[0m│           │ banking and beyond receipts, there is    │          │            │           │\n",
       "│\u001b[2m \u001b[0m\u001b[2mTechnology          \u001b[0m\u001b[2m \u001b[0m│           │ also a growing trend towards alternative │          │            │           │\n",
       "│\u001b[2m                      \u001b[0m│           │ payment                                  │          │            │           │\n",
       "└──────────────────────┴───────────┴──────────────────────────────────────────┴──────────┴────────────┴───────────┘\n"
      ]
     },
     "metadata": {},
     "output_type": "display_data"
    },
    {
     "data": {
      "text/html": [
       "<pre style=\"white-space:pre;overflow-x:auto;line-height:normal;font-family:Menlo,'DejaVu Sans Mono',consolas,'Courier New',monospace\">\n",
       "<span style=\"color: #000080; text-decoration-color: #000080; font-weight: bold\">Results for boostByTag Scoring Profile:</span>\n",
       "</pre>\n"
      ],
      "text/plain": [
       "\n",
       "\u001b[1;34mResults for boostByTag Scoring Profile:\u001b[0m\n"
      ]
     },
     "metadata": {},
     "output_type": "display_data"
    },
    {
     "data": {
      "text/html": [
       "<pre style=\"white-space:pre;overflow-x:auto;line-height:normal;font-family:Menlo,'DejaVu Sans Mono',consolas,'Courier New',monospace\">┏━━━━━━━━━━━━━━━━━━━━━━┳━━━━━━━━━━━┳━━━━━━━━━━━━━━━━━━━━━━━━━━━━━━━━━━━━━━━━━━┳━━━━━━━━━━┳━━━━━━━━━━━━┳━━━━━━━━━━━┓\n",
       "┃<span style=\"color: #800080; text-decoration-color: #800080; font-weight: bold\"> Headline             </span>┃<span style=\"color: #800080; text-decoration-color: #800080; font-weight: bold\"> Score     </span>┃<span style=\"color: #800080; text-decoration-color: #800080; font-weight: bold\"> Description                              </span>┃<span style=\"color: #800080; text-decoration-color: #800080; font-weight: bold\"> Category </span>┃<span style=\"color: #800080; text-decoration-color: #800080; font-weight: bold\"> Date       </span>┃<span style=\"color: #800080; text-decoration-color: #800080; font-weight: bold\"> Link      </span>┃\n",
       "┡━━━━━━━━━━━━━━━━━━━━━━╇━━━━━━━━━━━╇━━━━━━━━━━━━━━━━━━━━━━━━━━━━━━━━━━━━━━━━━━╇━━━━━━━━━━╇━━━━━━━━━━━━╇━━━━━━━━━━━┩\n",
       "│<span style=\"color: #7f7f7f; text-decoration-color: #7f7f7f\"> What's the Future of </span>│ 1.335579… │ With the rise in technology and the      │ BUSINESS │ 2013-05-0… │ <a href=\"https://www.huffingtonpost.com/entry/whats-the-future-of-retai_us_5bb2f2f4e4b0480ca65f4fab\" target=\"_blank\">https://…</a> │\n",
       "│<span style=\"color: #7f7f7f; text-decoration-color: #7f7f7f\"> Retail Banking?      </span>│           │ changing nature of how people shop for   │          │            │           │\n",
       "│<span style=\"color: #7f7f7f; text-decoration-color: #7f7f7f\">                      </span>│           │ financial products, has your local bank  │          │            │           │\n",
       "│<span style=\"color: #7f7f7f; text-decoration-color: #7f7f7f\">                      </span>│           │ branch become irrelevant?                │          │            │           │\n",
       "│<span style=\"color: #7f7f7f; text-decoration-color: #7f7f7f\"> Banking Saves Health </span>│ 1.297899… │ The problem that confronts health care   │ BUSINESS │ 2014-11-0… │ <a href=\"https://www.huffingtonpost.com/entry/banking-saves-healthcare_b_6118578.html\" target=\"_blank\">https://…</a> │\n",
       "│<span style=\"color: #7f7f7f; text-decoration-color: #7f7f7f\"> Care                 </span>│           │ represents a lucrative business          │          │            │           │\n",
       "│<span style=\"color: #7f7f7f; text-decoration-color: #7f7f7f\">                      </span>│           │ opportunity for the industry that does   │          │            │           │\n",
       "│<span style=\"color: #7f7f7f; text-decoration-color: #7f7f7f\">                      </span>│           │ data transaction best: banking.          │          │            │           │\n",
       "│<span style=\"color: #7f7f7f; text-decoration-color: #7f7f7f\"> How The Payment      </span>│ 1.296100… │                                          │ BUSINESS │ 2016-07-0… │ <a href=\"https://www.huffingtonpost.com/entry/how-the-payment-industry_b_10904240.html\" target=\"_blank\">https://…</a> │\n",
       "│<span style=\"color: #7f7f7f; text-decoration-color: #7f7f7f\"> Industry Is          </span>│           │                                          │          │            │           │\n",
       "│<span style=\"color: #7f7f7f; text-decoration-color: #7f7f7f\"> Innovating In 2016   </span>│           │                                          │          │            │           │\n",
       "└──────────────────────┴───────────┴──────────────────────────────────────────┴──────────┴────────────┴───────────┘\n",
       "</pre>\n"
      ],
      "text/plain": [
       "┏━━━━━━━━━━━━━━━━━━━━━━┳━━━━━━━━━━━┳━━━━━━━━━━━━━━━━━━━━━━━━━━━━━━━━━━━━━━━━━━┳━━━━━━━━━━┳━━━━━━━━━━━━┳━━━━━━━━━━━┓\n",
       "┃\u001b[1;35m \u001b[0m\u001b[1;35mHeadline            \u001b[0m\u001b[1;35m \u001b[0m┃\u001b[1;35m \u001b[0m\u001b[1;35mScore    \u001b[0m\u001b[1;35m \u001b[0m┃\u001b[1;35m \u001b[0m\u001b[1;35mDescription                             \u001b[0m\u001b[1;35m \u001b[0m┃\u001b[1;35m \u001b[0m\u001b[1;35mCategory\u001b[0m\u001b[1;35m \u001b[0m┃\u001b[1;35m \u001b[0m\u001b[1;35mDate      \u001b[0m\u001b[1;35m \u001b[0m┃\u001b[1;35m \u001b[0m\u001b[1;35mLink     \u001b[0m\u001b[1;35m \u001b[0m┃\n",
       "┡━━━━━━━━━━━━━━━━━━━━━━╇━━━━━━━━━━━╇━━━━━━━━━━━━━━━━━━━━━━━━━━━━━━━━━━━━━━━━━━╇━━━━━━━━━━╇━━━━━━━━━━━━╇━━━━━━━━━━━┩\n",
       "│\u001b[2m \u001b[0m\u001b[2mWhat's the Future of\u001b[0m\u001b[2m \u001b[0m│ 1.335579… │ With the rise in technology and the      │ BUSINESS │ 2013-05-0… │ \u001b]8;id=507193;https://www.huffingtonpost.com/entry/whats-the-future-of-retai_us_5bb2f2f4e4b0480ca65f4fab\u001b\\https://…\u001b]8;;\u001b\\ │\n",
       "│\u001b[2m \u001b[0m\u001b[2mRetail Banking?     \u001b[0m\u001b[2m \u001b[0m│           │ changing nature of how people shop for   │          │            │           │\n",
       "│\u001b[2m                      \u001b[0m│           │ financial products, has your local bank  │          │            │           │\n",
       "│\u001b[2m                      \u001b[0m│           │ branch become irrelevant?                │          │            │           │\n",
       "│\u001b[2m \u001b[0m\u001b[2mBanking Saves Health\u001b[0m\u001b[2m \u001b[0m│ 1.297899… │ The problem that confronts health care   │ BUSINESS │ 2014-11-0… │ \u001b]8;id=703246;https://www.huffingtonpost.com/entry/banking-saves-healthcare_b_6118578.html\u001b\\https://…\u001b]8;;\u001b\\ │\n",
       "│\u001b[2m \u001b[0m\u001b[2mCare                \u001b[0m\u001b[2m \u001b[0m│           │ represents a lucrative business          │          │            │           │\n",
       "│\u001b[2m                      \u001b[0m│           │ opportunity for the industry that does   │          │            │           │\n",
       "│\u001b[2m                      \u001b[0m│           │ data transaction best: banking.          │          │            │           │\n",
       "│\u001b[2m \u001b[0m\u001b[2mHow The Payment     \u001b[0m\u001b[2m \u001b[0m│ 1.296100… │                                          │ BUSINESS │ 2016-07-0… │ \u001b]8;id=129435;https://www.huffingtonpost.com/entry/how-the-payment-industry_b_10904240.html\u001b\\https://…\u001b]8;;\u001b\\ │\n",
       "│\u001b[2m \u001b[0m\u001b[2mIndustry Is         \u001b[0m\u001b[2m \u001b[0m│           │                                          │          │            │           │\n",
       "│\u001b[2m \u001b[0m\u001b[2mInnovating In 2016  \u001b[0m\u001b[2m \u001b[0m│           │                                          │          │            │           │\n",
       "└──────────────────────┴───────────┴──────────────────────────────────────────┴──────────┴────────────┴───────────┘\n"
      ]
     },
     "metadata": {},
     "output_type": "display_data"
    }
   ],
   "source": [
    "def search_and_print_results(scoring_profile=None):\n",
    "    query = \"what are the hottest trends in the banking business industry\"\n",
    "    tags = \"BUSINESS\"  # Replace with your tags\n",
    "    vector_query = VectorizableTextQuery(\n",
    "        text=query, k_nearest_neighbors=50, fields=\"vector\", exhaustive=True\n",
    "    )\n",
    "\n",
    "    # Prepare the search parameters\n",
    "    search_params = {\n",
    "        \"search_text\": None,  # passing in text query for hybrid search\n",
    "        \"vector_queries\": [vector_query],\n",
    "        \"scoring_profile\": scoring_profile,\n",
    "        \"top\": 3,\n",
    "    }\n",
    "\n",
    "    # Conditionally add scoring_parameters if a scoring_profile is specified\n",
    "    if scoring_profile:\n",
    "        search_params[\"scoring_parameters\"] = {\"tags-BUSINESS\": tags}\n",
    "\n",
    "    results = search_client.search(**search_params)\n",
    "\n",
    "    profile_name = (\n",
    "        scoring_profile if scoring_profile else \"Vanilla (No Scoring Profile)\"\n",
    "    )\n",
    "    console.print(f\"\\nResults for {profile_name} Scoring Profile:\", style=\"bold blue\")\n",
    "\n",
    "    # Create a table for the results\n",
    "    table = Table(show_header=True, header_style=\"bold magenta\")\n",
    "    table.add_column(\"Headline\", style=\"dim\", width=20)\n",
    "    table.add_column(\"Score\")\n",
    "    table.add_column(\"Description\", width=40)\n",
    "    table.add_column(\"Category\")\n",
    "    table.add_column(\"Date\")\n",
    "    table.add_column(\"Link\")\n",
    "\n",
    "    for result in results:\n",
    "        # Format the link as a clickable hyperlink\n",
    "        link_text = Text(result[\"link\"], style=\"link\")\n",
    "        link_text.stylize(f\"link {result['link']}\")\n",
    "\n",
    "        table.add_row(\n",
    "            result[\"headline\"],\n",
    "            str(result[\"@search.score\"]),\n",
    "            result[\"short_description\"],\n",
    "            result[\"category\"],\n",
    "            result[\"date\"],\n",
    "            link_text,  # Use the formatted link text here\n",
    "        )\n",
    "\n",
    "    # Print the table\n",
    "    console.print(table)\n",
    "\n",
    "\n",
    "# Perform searches with and without the freshness scoring profile\n",
    "search_and_print_results()  # Vanilla query without any scoring profile\n",
    "search_and_print_results(\"boostByTag\")"
   ]
  },
  {
   "cell_type": "markdown",
   "metadata": {},
   "source": [
    "When the boostByTag scoring profile is applied, the search results prioritize articles that have tags matching the query, as demonstrated by the higher ranking of business-related articles. In contrast, the vanilla query without any scoring profile returns results based on default relevance, where articles might be relevant but lack the specific tag-based boosting. This illustrates the effectiveness of the tag boosting scoring profile in promoting content that is more aligned with the specific tags, ensuring that more relevant and contextually appropriate articles are surfaced at the top of the search results."
   ]
  },
  {
   "cell_type": "markdown",
   "metadata": {},
   "source": [
    "### Magnitude Boosting"
   ]
  },
  {
   "cell_type": "code",
   "execution_count": 143,
   "metadata": {},
   "outputs": [
    {
     "data": {
      "text/html": [
       "<pre style=\"white-space:pre;overflow-x:auto;line-height:normal;font-family:Menlo,'DejaVu Sans Mono',consolas,'Courier New',monospace\">\n",
       "<span style=\"color: #000080; text-decoration-color: #000080; font-weight: bold\">Results for Vanilla (No Scoring Profile) Scoring Profile:</span>\n",
       "</pre>\n"
      ],
      "text/plain": [
       "\n",
       "\u001b[1;34mResults for Vanilla \u001b[0m\u001b[1;34m(\u001b[0m\u001b[1;34mNo Scoring Profile\u001b[0m\u001b[1;34m)\u001b[0m\u001b[1;34m Scoring Profile:\u001b[0m\n"
      ]
     },
     "metadata": {},
     "output_type": "display_data"
    },
    {
     "data": {
      "text/html": [
       "<pre style=\"white-space:pre;overflow-x:auto;line-height:normal;font-family:Menlo,'DejaVu Sans Mono',consolas,'Courier New',monospace\">┏━━━━━━━━━━━━━━━━━━━━━━┳━━━━━━━━━┳━━━━━━━━━━━━━━━━━━━━━━━━━━━━━━━━━━━━━━━━━━┳━━━━━━━━┳━━━━━━━━━┳━━━━━━━━┳━━━━━━━━━┓\n",
       "┃<span style=\"color: #800080; text-decoration-color: #800080; font-weight: bold\">                      </span>┃<span style=\"color: #800080; text-decoration-color: #800080; font-weight: bold\">         </span>┃<span style=\"color: #800080; text-decoration-color: #800080; font-weight: bold\">                                          </span>┃<span style=\"color: #800080; text-decoration-color: #800080; font-weight: bold\">        </span>┃<span style=\"color: #800080; text-decoration-color: #800080; font-weight: bold\">         </span>┃<span style=\"color: #800080; text-decoration-color: #800080; font-weight: bold\"> View   </span>┃<span style=\"color: #800080; text-decoration-color: #800080; font-weight: bold\">         </span>┃\n",
       "┃<span style=\"color: #800080; text-decoration-color: #800080; font-weight: bold\"> Headline             </span>┃<span style=\"color: #800080; text-decoration-color: #800080; font-weight: bold\"> Score   </span>┃<span style=\"color: #800080; text-decoration-color: #800080; font-weight: bold\"> Description                              </span>┃<span style=\"color: #800080; text-decoration-color: #800080; font-weight: bold\"> Categ… </span>┃<span style=\"color: #800080; text-decoration-color: #800080; font-weight: bold\"> Date    </span>┃<span style=\"color: #800080; text-decoration-color: #800080; font-weight: bold\"> Count  </span>┃<span style=\"color: #800080; text-decoration-color: #800080; font-weight: bold\"> Link    </span>┃\n",
       "┡━━━━━━━━━━━━━━━━━━━━━━╇━━━━━━━━━╇━━━━━━━━━━━━━━━━━━━━━━━━━━━━━━━━━━━━━━━━━━╇━━━━━━━━╇━━━━━━━━━╇━━━━━━━━╇━━━━━━━━━┩\n",
       "│<span style=\"color: #7f7f7f; text-decoration-color: #7f7f7f\"> Disrupt Yourself     </span>│ 0.6575… │ Here are the Top 10 Game Changing Tech   │ BUSIN… │ 2015-0… │ 54732  │ <a href=\"https://www.huffingtonpost.com/entry/disrupt-yourself-first-to_b_7606312.html\" target=\"_blank\">https:…</a> │\n",
       "│<span style=\"color: #7f7f7f; text-decoration-color: #7f7f7f\"> First: Top 10 Game   </span>│         │ Trends that I think deserve special      │        │         │        │         │\n",
       "│<span style=\"color: #7f7f7f; text-decoration-color: #7f7f7f\"> Changing Tech Trends </span>│         │ mention. Every business must embrace     │        │         │        │         │\n",
       "│<span style=\"color: #7f7f7f; text-decoration-color: #7f7f7f\">                      </span>│         │ mobility as a new business model. Mobile │        │         │        │         │\n",
       "│<span style=\"color: #7f7f7f; text-decoration-color: #7f7f7f\">                      </span>│         │ transactions, content, offerings,        │        │         │        │         │\n",
       "│<span style=\"color: #7f7f7f; text-decoration-color: #7f7f7f\">                      </span>│         │ business processes, customer engagement  │        │         │        │         │\n",
       "│<span style=\"color: #7f7f7f; text-decoration-color: #7f7f7f\">                      </span>│         │ and security will create a more agile    │        │         │        │         │\n",
       "│<span style=\"color: #7f7f7f; text-decoration-color: #7f7f7f\">                      </span>│         │ mobile enterprise.                       │        │         │        │         │\n",
       "│<span style=\"color: #7f7f7f; text-decoration-color: #7f7f7f\"> The Grocery Trends   </span>│ 0.6531… │ Instacart released its \"New Year, New    │ FOOD &amp; │ 2020-1… │ 28972  │ <a href=\"https://www.huffpost.com/entry/grocery-trends-2021-instacart_l_5fd0797ec5b652dce58445da\" target=\"_blank\">https:…</a> │\n",
       "│<span style=\"color: #7f7f7f; text-decoration-color: #7f7f7f\"> To Look Forward To   </span>│         │ Cart\" forecast of food-buying trends and │ DRINK  │         │        │         │\n",
       "│<span style=\"color: #7f7f7f; text-decoration-color: #7f7f7f\"> In 2021              </span>│         │ attitudes.                               │        │         │        │         │\n",
       "│<span style=\"color: #7f7f7f; text-decoration-color: #7f7f7f\"> 4 Technology Trends  </span>│ 0.6509… │ While simple tools such as spreadsheets  │ BUSIN… │ 2015-0… │ 40161  │ <a href=\"https://www.huffingtonpost.com/entry/4-technology-trends-for-small-business_b_7519382.html\" target=\"_blank\">https:…</a> │\n",
       "│<span style=\"color: #7f7f7f; text-decoration-color: #7f7f7f\"> for Small Business   </span>│         │ may have been enough to get your         │        │         │        │         │\n",
       "│<span style=\"color: #7f7f7f; text-decoration-color: #7f7f7f\">                      </span>│         │ business rolling in the beginning, it    │        │         │        │         │\n",
       "│<span style=\"color: #7f7f7f; text-decoration-color: #7f7f7f\">                      </span>│         │ fails in manipulating information that   │        │         │        │         │\n",
       "│<span style=\"color: #7f7f7f; text-decoration-color: #7f7f7f\">                      </span>│         │ allows small businesses to see the \"big  │        │         │        │         │\n",
       "│<span style=\"color: #7f7f7f; text-decoration-color: #7f7f7f\">                      </span>│         │ picture.\" Implementing a proper BI tool  │        │         │        │         │\n",
       "│<span style=\"color: #7f7f7f; text-decoration-color: #7f7f7f\">                      </span>│         │ can help small businesses analyze high   │        │         │        │         │\n",
       "│<span style=\"color: #7f7f7f; text-decoration-color: #7f7f7f\">                      </span>│         │ volumes of data across multiple sources, │        │         │        │         │\n",
       "│<span style=\"color: #7f7f7f; text-decoration-color: #7f7f7f\">                      </span>│         │ and more easily identify how they're all │        │         │        │         │\n",
       "│<span style=\"color: #7f7f7f; text-decoration-color: #7f7f7f\">                      </span>│         │ connected.                               │        │         │        │         │\n",
       "└──────────────────────┴─────────┴──────────────────────────────────────────┴────────┴─────────┴────────┴─────────┘\n",
       "</pre>\n"
      ],
      "text/plain": [
       "┏━━━━━━━━━━━━━━━━━━━━━━┳━━━━━━━━━┳━━━━━━━━━━━━━━━━━━━━━━━━━━━━━━━━━━━━━━━━━━┳━━━━━━━━┳━━━━━━━━━┳━━━━━━━━┳━━━━━━━━━┓\n",
       "┃\u001b[1;35m                      \u001b[0m┃\u001b[1;35m         \u001b[0m┃\u001b[1;35m                                          \u001b[0m┃\u001b[1;35m        \u001b[0m┃\u001b[1;35m         \u001b[0m┃\u001b[1;35m \u001b[0m\u001b[1;35mView  \u001b[0m\u001b[1;35m \u001b[0m┃\u001b[1;35m         \u001b[0m┃\n",
       "┃\u001b[1;35m \u001b[0m\u001b[1;35mHeadline            \u001b[0m\u001b[1;35m \u001b[0m┃\u001b[1;35m \u001b[0m\u001b[1;35mScore  \u001b[0m\u001b[1;35m \u001b[0m┃\u001b[1;35m \u001b[0m\u001b[1;35mDescription                             \u001b[0m\u001b[1;35m \u001b[0m┃\u001b[1;35m \u001b[0m\u001b[1;35mCateg…\u001b[0m\u001b[1;35m \u001b[0m┃\u001b[1;35m \u001b[0m\u001b[1;35mDate   \u001b[0m\u001b[1;35m \u001b[0m┃\u001b[1;35m \u001b[0m\u001b[1;35mCount \u001b[0m\u001b[1;35m \u001b[0m┃\u001b[1;35m \u001b[0m\u001b[1;35mLink   \u001b[0m\u001b[1;35m \u001b[0m┃\n",
       "┡━━━━━━━━━━━━━━━━━━━━━━╇━━━━━━━━━╇━━━━━━━━━━━━━━━━━━━━━━━━━━━━━━━━━━━━━━━━━━╇━━━━━━━━╇━━━━━━━━━╇━━━━━━━━╇━━━━━━━━━┩\n",
       "│\u001b[2m \u001b[0m\u001b[2mDisrupt Yourself    \u001b[0m\u001b[2m \u001b[0m│ 0.6575… │ Here are the Top 10 Game Changing Tech   │ BUSIN… │ 2015-0… │ 54732  │ \u001b]8;id=247898;https://www.huffingtonpost.com/entry/disrupt-yourself-first-to_b_7606312.html\u001b\\https:…\u001b]8;;\u001b\\ │\n",
       "│\u001b[2m \u001b[0m\u001b[2mFirst: Top 10 Game  \u001b[0m\u001b[2m \u001b[0m│         │ Trends that I think deserve special      │        │         │        │         │\n",
       "│\u001b[2m \u001b[0m\u001b[2mChanging Tech Trends\u001b[0m\u001b[2m \u001b[0m│         │ mention. Every business must embrace     │        │         │        │         │\n",
       "│\u001b[2m                      \u001b[0m│         │ mobility as a new business model. Mobile │        │         │        │         │\n",
       "│\u001b[2m                      \u001b[0m│         │ transactions, content, offerings,        │        │         │        │         │\n",
       "│\u001b[2m                      \u001b[0m│         │ business processes, customer engagement  │        │         │        │         │\n",
       "│\u001b[2m                      \u001b[0m│         │ and security will create a more agile    │        │         │        │         │\n",
       "│\u001b[2m                      \u001b[0m│         │ mobile enterprise.                       │        │         │        │         │\n",
       "│\u001b[2m \u001b[0m\u001b[2mThe Grocery Trends  \u001b[0m\u001b[2m \u001b[0m│ 0.6531… │ Instacart released its \"New Year, New    │ FOOD & │ 2020-1… │ 28972  │ \u001b]8;id=308596;https://www.huffpost.com/entry/grocery-trends-2021-instacart_l_5fd0797ec5b652dce58445da\u001b\\https:…\u001b]8;;\u001b\\ │\n",
       "│\u001b[2m \u001b[0m\u001b[2mTo Look Forward To  \u001b[0m\u001b[2m \u001b[0m│         │ Cart\" forecast of food-buying trends and │ DRINK  │         │        │         │\n",
       "│\u001b[2m \u001b[0m\u001b[2mIn 2021             \u001b[0m\u001b[2m \u001b[0m│         │ attitudes.                               │        │         │        │         │\n",
       "│\u001b[2m \u001b[0m\u001b[2m4 Technology Trends \u001b[0m\u001b[2m \u001b[0m│ 0.6509… │ While simple tools such as spreadsheets  │ BUSIN… │ 2015-0… │ 40161  │ \u001b]8;id=206104;https://www.huffingtonpost.com/entry/4-technology-trends-for-small-business_b_7519382.html\u001b\\https:…\u001b]8;;\u001b\\ │\n",
       "│\u001b[2m \u001b[0m\u001b[2mfor Small Business  \u001b[0m\u001b[2m \u001b[0m│         │ may have been enough to get your         │        │         │        │         │\n",
       "│\u001b[2m                      \u001b[0m│         │ business rolling in the beginning, it    │        │         │        │         │\n",
       "│\u001b[2m                      \u001b[0m│         │ fails in manipulating information that   │        │         │        │         │\n",
       "│\u001b[2m                      \u001b[0m│         │ allows small businesses to see the \"big  │        │         │        │         │\n",
       "│\u001b[2m                      \u001b[0m│         │ picture.\" Implementing a proper BI tool  │        │         │        │         │\n",
       "│\u001b[2m                      \u001b[0m│         │ can help small businesses analyze high   │        │         │        │         │\n",
       "│\u001b[2m                      \u001b[0m│         │ volumes of data across multiple sources, │        │         │        │         │\n",
       "│\u001b[2m                      \u001b[0m│         │ and more easily identify how they're all │        │         │        │         │\n",
       "│\u001b[2m                      \u001b[0m│         │ connected.                               │        │         │        │         │\n",
       "└──────────────────────┴─────────┴──────────────────────────────────────────┴────────┴─────────┴────────┴─────────┘\n"
      ]
     },
     "metadata": {},
     "output_type": "display_data"
    },
    {
     "data": {
      "text/html": [
       "<pre style=\"white-space:pre;overflow-x:auto;line-height:normal;font-family:Menlo,'DejaVu Sans Mono',consolas,'Courier New',monospace\">\n",
       "<span style=\"color: #000080; text-decoration-color: #000080; font-weight: bold\">Results for boostViewCount Scoring Profile:</span>\n",
       "</pre>\n"
      ],
      "text/plain": [
       "\n",
       "\u001b[1;34mResults for boostViewCount Scoring Profile:\u001b[0m\n"
      ]
     },
     "metadata": {},
     "output_type": "display_data"
    },
    {
     "data": {
      "text/html": [
       "<pre style=\"white-space:pre;overflow-x:auto;line-height:normal;font-family:Menlo,'DejaVu Sans Mono',consolas,'Courier New',monospace\">┏━━━━━━━━━━━━━━━━━━━━━━┳━━━━━━━━━┳━━━━━━━━━━━━━━━━━━━━━━━━━━━━━━━━━━━━━━━━━━┳━━━━━━━━┳━━━━━━━━━┳━━━━━━━━┳━━━━━━━━━┓\n",
       "┃<span style=\"color: #800080; text-decoration-color: #800080; font-weight: bold\">                      </span>┃<span style=\"color: #800080; text-decoration-color: #800080; font-weight: bold\">         </span>┃<span style=\"color: #800080; text-decoration-color: #800080; font-weight: bold\">                                          </span>┃<span style=\"color: #800080; text-decoration-color: #800080; font-weight: bold\">        </span>┃<span style=\"color: #800080; text-decoration-color: #800080; font-weight: bold\">         </span>┃<span style=\"color: #800080; text-decoration-color: #800080; font-weight: bold\"> View   </span>┃<span style=\"color: #800080; text-decoration-color: #800080; font-weight: bold\">         </span>┃\n",
       "┃<span style=\"color: #800080; text-decoration-color: #800080; font-weight: bold\"> Headline             </span>┃<span style=\"color: #800080; text-decoration-color: #800080; font-weight: bold\"> Score   </span>┃<span style=\"color: #800080; text-decoration-color: #800080; font-weight: bold\"> Description                              </span>┃<span style=\"color: #800080; text-decoration-color: #800080; font-weight: bold\"> Categ… </span>┃<span style=\"color: #800080; text-decoration-color: #800080; font-weight: bold\"> Date    </span>┃<span style=\"color: #800080; text-decoration-color: #800080; font-weight: bold\"> Count  </span>┃<span style=\"color: #800080; text-decoration-color: #800080; font-weight: bold\"> Link    </span>┃\n",
       "┡━━━━━━━━━━━━━━━━━━━━━━╇━━━━━━━━━╇━━━━━━━━━━━━━━━━━━━━━━━━━━━━━━━━━━━━━━━━━━╇━━━━━━━━╇━━━━━━━━━╇━━━━━━━━╇━━━━━━━━━┩\n",
       "│<span style=\"color: #7f7f7f; text-decoration-color: #7f7f7f\"> My Top 10            </span>│ 6.1197… │ Those are my predictions, and I'm        │ WELLN… │ 2013-0… │ 9720   │ <a href=\"https://www.huffingtonpost.com/entry/my-top-10-predictions-for_us_5b9cb3f0e4b03a1dcc81057e\" target=\"_blank\">https:…</a> │\n",
       "│<span style=\"color: #7f7f7f; text-decoration-color: #7f7f7f\"> Predictions for 2013 </span>│         │ sticking to them.         Photo credit:  │        │         │        │         │\n",
       "│<span style=\"color: #7f7f7f; text-decoration-color: #7f7f7f\">                      </span>│         │ vestman Since then, I've continued to    │        │         │        │         │\n",
       "│<span style=\"color: #7f7f7f; text-decoration-color: #7f7f7f\">                      </span>│         │ predict trends                           │        │         │        │         │\n",
       "│<span style=\"color: #7f7f7f; text-decoration-color: #7f7f7f\"> 10 Food Trends to    </span>│ 5.4992… │ We're going to live in a world with Coke │ FOOD &amp; │ 2013-1… │ 8419   │ <a href=\"https://www.huffingtonpost.com/entry/10-food-trends-to-watch_us_5b9dabb8e4b03a1dcc8b2d1d\" target=\"_blank\">https:…</a> │\n",
       "│<span style=\"color: #7f7f7f; text-decoration-color: #7f7f7f\"> Watch                </span>│         │ robots, apparently.                      │ DRINK  │         │        │         │\n",
       "│<span style=\"color: #7f7f7f; text-decoration-color: #7f7f7f\"> The Biggest Food     </span>│ 4.8347… │                                          │ TASTE  │ 2014-1… │ 7338   │ <a href=\"https://www.huffingtonpost.com/entry/2014-food-trends_n_5792598.html\" target=\"_blank\">https:…</a> │\n",
       "│<span style=\"color: #7f7f7f; text-decoration-color: #7f7f7f\"> Trends Of 2015       </span>│         │                                          │        │         │        │         │\n",
       "└──────────────────────┴─────────┴──────────────────────────────────────────┴────────┴─────────┴────────┴─────────┘\n",
       "</pre>\n"
      ],
      "text/plain": [
       "┏━━━━━━━━━━━━━━━━━━━━━━┳━━━━━━━━━┳━━━━━━━━━━━━━━━━━━━━━━━━━━━━━━━━━━━━━━━━━━┳━━━━━━━━┳━━━━━━━━━┳━━━━━━━━┳━━━━━━━━━┓\n",
       "┃\u001b[1;35m                      \u001b[0m┃\u001b[1;35m         \u001b[0m┃\u001b[1;35m                                          \u001b[0m┃\u001b[1;35m        \u001b[0m┃\u001b[1;35m         \u001b[0m┃\u001b[1;35m \u001b[0m\u001b[1;35mView  \u001b[0m\u001b[1;35m \u001b[0m┃\u001b[1;35m         \u001b[0m┃\n",
       "┃\u001b[1;35m \u001b[0m\u001b[1;35mHeadline            \u001b[0m\u001b[1;35m \u001b[0m┃\u001b[1;35m \u001b[0m\u001b[1;35mScore  \u001b[0m\u001b[1;35m \u001b[0m┃\u001b[1;35m \u001b[0m\u001b[1;35mDescription                             \u001b[0m\u001b[1;35m \u001b[0m┃\u001b[1;35m \u001b[0m\u001b[1;35mCateg…\u001b[0m\u001b[1;35m \u001b[0m┃\u001b[1;35m \u001b[0m\u001b[1;35mDate   \u001b[0m\u001b[1;35m \u001b[0m┃\u001b[1;35m \u001b[0m\u001b[1;35mCount \u001b[0m\u001b[1;35m \u001b[0m┃\u001b[1;35m \u001b[0m\u001b[1;35mLink   \u001b[0m\u001b[1;35m \u001b[0m┃\n",
       "┡━━━━━━━━━━━━━━━━━━━━━━╇━━━━━━━━━╇━━━━━━━━━━━━━━━━━━━━━━━━━━━━━━━━━━━━━━━━━━╇━━━━━━━━╇━━━━━━━━━╇━━━━━━━━╇━━━━━━━━━┩\n",
       "│\u001b[2m \u001b[0m\u001b[2mMy Top 10           \u001b[0m\u001b[2m \u001b[0m│ 6.1197… │ Those are my predictions, and I'm        │ WELLN… │ 2013-0… │ 9720   │ \u001b]8;id=215047;https://www.huffingtonpost.com/entry/my-top-10-predictions-for_us_5b9cb3f0e4b03a1dcc81057e\u001b\\https:…\u001b]8;;\u001b\\ │\n",
       "│\u001b[2m \u001b[0m\u001b[2mPredictions for 2013\u001b[0m\u001b[2m \u001b[0m│         │ sticking to them.         Photo credit:  │        │         │        │         │\n",
       "│\u001b[2m                      \u001b[0m│         │ vestman Since then, I've continued to    │        │         │        │         │\n",
       "│\u001b[2m                      \u001b[0m│         │ predict trends                           │        │         │        │         │\n",
       "│\u001b[2m \u001b[0m\u001b[2m10 Food Trends to   \u001b[0m\u001b[2m \u001b[0m│ 5.4992… │ We're going to live in a world with Coke │ FOOD & │ 2013-1… │ 8419   │ \u001b]8;id=536401;https://www.huffingtonpost.com/entry/10-food-trends-to-watch_us_5b9dabb8e4b03a1dcc8b2d1d\u001b\\https:…\u001b]8;;\u001b\\ │\n",
       "│\u001b[2m \u001b[0m\u001b[2mWatch               \u001b[0m\u001b[2m \u001b[0m│         │ robots, apparently.                      │ DRINK  │         │        │         │\n",
       "│\u001b[2m \u001b[0m\u001b[2mThe Biggest Food    \u001b[0m\u001b[2m \u001b[0m│ 4.8347… │                                          │ TASTE  │ 2014-1… │ 7338   │ \u001b]8;id=108914;https://www.huffingtonpost.com/entry/2014-food-trends_n_5792598.html\u001b\\https:…\u001b]8;;\u001b\\ │\n",
       "│\u001b[2m \u001b[0m\u001b[2mTrends Of 2015      \u001b[0m\u001b[2m \u001b[0m│         │                                          │        │         │        │         │\n",
       "└──────────────────────┴─────────┴──────────────────────────────────────────┴────────┴─────────┴────────┴─────────┘\n"
      ]
     },
     "metadata": {},
     "output_type": "display_data"
    }
   ],
   "source": [
    "from rich.console import Console\n",
    "from rich.table import Table\n",
    "from rich.text import Text\n",
    "\n",
    "# Initialize a Rich console\n",
    "console = Console()\n",
    "\n",
    "def search_and_print_results(scoring_profile=None):\n",
    "    query = \"top business trends 2022\"\n",
    "    vector_query = VectorizableTextQuery(\n",
    "        text=query, k_nearest_neighbors=50, fields=\"vector\", exhaustive=True\n",
    "    )\n",
    "    results = search_client.search(\n",
    "        search_text=None,\n",
    "        vector_queries=[vector_query],\n",
    "        scoring_profile=scoring_profile,\n",
    "        top=3,\n",
    "    )\n",
    "\n",
    "    profile_name = scoring_profile if scoring_profile else 'Vanilla (No Scoring Profile)'\n",
    "    console.print(f\"\\nResults for {profile_name} Scoring Profile:\", style=\"bold blue\")\n",
    "\n",
    "    # Create a table for the results\n",
    "    table = Table(show_header=True, header_style=\"bold magenta\")\n",
    "    table.add_column(\"Headline\", style=\"dim\", width=20)\n",
    "    table.add_column(\"Score\")\n",
    "    table.add_column(\"Description\", width=40)\n",
    "    table.add_column(\"Category\")\n",
    "    table.add_column(\"Date\")\n",
    "    table.add_column(\"View Count\")  \n",
    "    table.add_column(\"Link\")\n",
    "\n",
    "    for result in results:\n",
    "        # Format the link as a clickable hyperlink\n",
    "        link_text = Text(result['link'], style=\"link\")\n",
    "        link_text.stylize(f\"link {result['link']}\")\n",
    "\n",
    "        table.add_row(\n",
    "            result['headline'],\n",
    "            str(result['@search.score']),\n",
    "            result['short_description'],\n",
    "            result['category'],\n",
    "            result['date'],\n",
    "            str(result['view_count']),  \n",
    "            link_text  \n",
    "        )\n",
    "\n",
    "    # Print the table\n",
    "    console.print(table)\n",
    "\n",
    "# Perform searches with and without the freshness scoring profile\n",
    "search_and_print_results()  # Vanilla query without any scoring profile\n",
    "search_and_print_results(\"boostViewCount\")"
   ]
  },
  {
   "cell_type": "markdown",
   "metadata": {},
   "source": [
    "When the boostViewCount scoring profile is applied, the search results prioritize articles with higher view counts, as demonstrated by the higher scores of articles like \"My Top 10 Predictions for 2013\" and \"10 Food Trends to Watch,\" despite being less relevant or older. These results reflect the impact of magnitude boosting based on the view_count field, which promotes more popular content.\n",
    "\n",
    "In contrast, the vanilla query without any scoring profile returns results based on default relevance. Articles like \"Disrupt Yourself First: Top 10 Game Changing Tech Trends\" and \"7 Human Resources Trends Your Small Business Needs to Know\" have much higher view counts and are ranked higher due to their inherent relevance and popularity.\n",
    "\n",
    "This comparison highlights how magnitude boosting can significantly alter the ranking of search results by emphasizing the popularity of content, which can be useful for promoting highly-viewed articles."
   ]
  }
 ],
 "metadata": {
  "kernelspec": {
   "display_name": ".venv",
   "language": "python",
   "name": "python3"
  },
  "language_info": {
   "codemirror_mode": {
    "name": "ipython",
    "version": 3
   },
   "file_extension": ".py",
   "mimetype": "text/x-python",
   "name": "python",
   "nbconvert_exporter": "python",
   "pygments_lexer": "ipython3",
   "version": "3.11.9"
  }
 },
 "nbformat": 4,
 "nbformat_minor": 2
}
