{
 "cells": [
  {
   "cell_type": "markdown",
   "metadata": {},
   "source": [
    "# Azure AI Search with OpenAI's New Text-Embedding-3 Large Model\n",
    "\n",
    "In this notebook, I'll show you how to use Azure OpenAI Service to generate embeddings using the latest and highest performing model from OpenAI, `text-embedding-3-large` and how to store these in Azure AI Search."
   ]
  },
  {
   "cell_type": "markdown",
   "metadata": {},
   "source": [
    "## Install libraries"
   ]
  },
  {
   "cell_type": "code",
   "execution_count": 5,
   "metadata": {},
   "outputs": [],
   "source": [
    "! pip install azure-search-documents openai python-dotenv azure-identity langchain tiktoken --quiet"
   ]
  },
  {
   "cell_type": "markdown",
   "metadata": {},
   "source": [
    "## Configure Azure OpenAI Settings\n",
    "\n",
    "This section guides you through setting up authentication for Azure OpenAI, allowing you to securely interact with the service using either Azure Active Directory (AAD) or an API key. Before proceeding, ensure you have your Azure OpenAI endpoint and credentials ready. For detailed instructions on setting up AAD with Azure OpenAI, refer to the [official documentation](https://learn.microsoft.com/azure/ai-services/openai/how-to/managed-identity)."
   ]
  },
  {
   "cell_type": "code",
   "execution_count": 6,
   "metadata": {},
   "outputs": [],
   "source": [
    "import os\n",
    "from azure.identity import DefaultAzureCredential, get_bearer_token_provider\n",
    "from azure.core.credentials import AzureKeyCredential\n",
    "from dotenv import load_dotenv\n",
    "from openai import AzureOpenAI\n",
    "\n",
    "# Set up OpenAI client based on environment variables\n",
    "load_dotenv()\n",
    "AZURE_OPENAI_ENDPOINT: str = os.getenv(\"AZURE_OPENAI_ENDPOINT\")\n",
    "AZURE_OPENAI_API_KEY: str = os.getenv(\"AZURE_OPENAI_API_KEY\")\n",
    "AZURE_OPENAI_API_VERSION: str = \"2023-05-15\"\n",
    "AZURE_OPENAI_EMBEDDING_DEPLOYED_MODEL_NAME: str = os.getenv(\n",
    "    \"AZURE_OPENAI_EMBEDDING_DEPLOYED_MODEL_NAME\"\n",
    ")\n",
    "\n",
    "\n",
    "credential = DefaultAzureCredential()\n",
    "token_provider = get_bearer_token_provider(\n",
    "    credential, \"https://cognitiveservices.azure.com/.default\"\n",
    ")\n",
    "\n",
    "# Set this flag to True if you are using Azure Active Directory\n",
    "use_aad_for_aoai = False\n",
    "\n",
    "if use_aad_for_aoai:\n",
    "    # Use Azure Active Directory (AAD) authentication\n",
    "    client = AzureOpenAI(\n",
    "        azure_endpoint=AZURE_OPENAI_ENDPOINT,\n",
    "        api_version=AZURE_OPENAI_API_VERSION,\n",
    "        azure_ad_token_provider=token_provider,\n",
    "    )\n",
    "else:\n",
    "    # Use API key authentication\n",
    "    client = AzureOpenAI(\n",
    "        api_key=AZURE_OPENAI_API_KEY,\n",
    "        api_version=AZURE_OPENAI_API_VERSION,\n",
    "        azure_endpoint=AZURE_OPENAI_ENDPOINT,\n",
    "    )"
   ]
  },
  {
   "cell_type": "code",
   "execution_count": null,
   "metadata": {},
   "outputs": [],
   "source": [
    "# Load environment variables\n",
    "search_service_endpoint = os.getenv(\"AZURE_SEARCH_SERVICE_ENDPOINT\")\n",
    "search_service_api_key = os.getenv(\"AZURE_SEARCH_ADMIN_KEY\")\n",
    "\n",
    "# Authentication method flag\n",
    "use_aad_for_search = True  # Set based on your authentication method\n",
    "\n",
    "# Choose the correct credential based on your authentication method\n",
    "credential = (\n",
    "    DefaultAzureCredential()\n",
    "    if use_aad_for_search\n",
    "    else AzureKeyCredential(search_service_api_key)\n",
    ")\n",
    "\n",
    "# Initialize the SearchIndexClient for creating indexes\n",
    "index_client = SearchIndexClient(\n",
    "    endpoint=search_service_endpoint, credential=credential\n",
    ")"
   ]
  },
  {
   "cell_type": "markdown",
   "metadata": {},
   "source": [
    "## Generate Embedding Functions for different sizes\n",
    "\n",
    "The `text-embedding-3-large` supports variable dimensions with a range of 1:3072 using a technique called Matryoshka Representation Learning(https://arxiv.org/abs/2205.13147), - let's t-shirt size to easily compare them."
   ]
  },
  {
   "cell_type": "code",
   "execution_count": 7,
   "metadata": {},
   "outputs": [],
   "source": [
    "def generate_small_embedding(text: str):\n",
    "    # Generate 256d embeddings for the provided text\n",
    "    embeddings_response = client.embeddings.create(\n",
    "        model=AZURE_OPENAI_EMBEDDING_DEPLOYED_MODEL_NAME, input=text, dimensions=256\n",
    "    )\n",
    "    return embeddings_response.data[0].embedding\n",
    "\n",
    "def generate_medium_embedding(text: str):\n",
    "    # Generate 1536d embeddings for the provided text\n",
    "    embeddings_response = client.embeddings.create(\n",
    "        model=AZURE_OPENAI_EMBEDDING_DEPLOYED_MODEL_NAME, input=text, dimensions=1536\n",
    "    )\n",
    "    return embeddings_response.data[0].embedding\n",
    "\n",
    "def generate_large_embedding(text: str):\n",
    "    # Generate 3072d embeddings for the provided text\n",
    "    embeddings_response = client.embeddings.create(\n",
    "        model=AZURE_OPENAI_EMBEDDING_DEPLOYED_MODEL_NAME, input=text, dimensions=3072\n",
    "    )\n",
    "    return embeddings_response.data[0].embedding\n"
   ]
  },
  {
   "cell_type": "markdown",
   "metadata": {},
   "source": [
    "### Verify the dimension length"
   ]
  },
  {
   "cell_type": "code",
   "execution_count": 8,
   "metadata": {},
   "outputs": [
    {
     "name": "stdout",
     "output_type": "stream",
     "text": [
      "256\n",
      "1536\n",
      "3072\n"
     ]
    }
   ],
   "source": [
    "print(len(generate_small_embedding(\"Hello, world!\")))\n",
    "print(len(generate_medium_embedding(\"Hello, world!\")))\n",
    "print(len(generate_large_embedding(\"Hello, world!\")))"
   ]
  },
  {
   "cell_type": "markdown",
   "metadata": {},
   "source": [
    "### Calculate the raw vector size in Bytes"
   ]
  },
  {
   "cell_type": "code",
   "execution_count": 9,
   "metadata": {},
   "outputs": [
    {
     "name": "stdout",
     "output_type": "stream",
     "text": [
      "Size of the small vector embedding in bytes: 2104\n",
      "Size of the medium vector embedding in bytes: 12344\n",
      "Size of the large vector embedding in bytes: 24632\n"
     ]
    }
   ],
   "source": [
    "import sys\n",
    "\n",
    "def print_vector_size(text: str, generator_function, description: str):\n",
    "    # Generate an embedding for the text using the specified generator function\n",
    "    embedding_vector = generator_function(text)\n",
    "    \n",
    "    # Measure the size of the vector embedding in bytes\n",
    "    vector_size_bytes = sys.getsizeof(embedding_vector)\n",
    "    \n",
    "    # Print the size\n",
    "    print(f\"Size of the {description} vector embedding in bytes: {vector_size_bytes}\")\n",
    "\n",
    "# Example text\n",
    "text = \"Hello, world!\"\n",
    "\n",
    "# Print the size for each type of embedding\n",
    "print_vector_size(text, generate_small_embedding, \"small\")\n",
    "print_vector_size(text, generate_medium_embedding, \"medium\")\n",
    "print_vector_size(text, generate_large_embedding, \"large\")\n"
   ]
  },
  {
   "cell_type": "markdown",
   "metadata": {},
   "source": [
    "## Embedding Size Comparison\n",
    "\n",
    "We have generated embeddings for a given text using three different dimensionalities: small (256d), medium (1536d), and large (3072d). The sizes of these embeddings in memory, as measured in bytes, are as follows:\n",
    "\n",
    "- Small (256d) Embedding Size: 2104 bytes\n",
    "- Medium (1536d) Embedding Size: 12344 bytes\n",
    "- Large (3072d) Embedding Size: 24632 bytes\n",
    "\n",
    "### Relative Differences\n",
    "\n",
    "When comparing the embedding sizes relative to the medium (1536d) embedding:\n",
    "\n",
    "- The **small (256d) embedding** is significantly smaller than the medium embedding. Specifically, it is approximately `((12344 - 2104) / 12344) * 100 ≈ 82.96%` smaller. This highlights the efficiency of using smaller embeddings for applications where memory usage is a critical constraint, though it may come at the cost of losing some detail or expressive power.\n",
    "\n",
    "- The **large (3072d) embedding** is larger than the medium embedding. It is approximately `((24632 - 12344) / 12344) * 100 ≈ 99.41%` larger. The increased size of the large embeddings suggests a higher level of detail or expressive power, which can be beneficial for tasks requiring high accuracy\n"
   ]
  },
  {
   "cell_type": "code",
   "execution_count": 10,
   "metadata": {},
   "outputs": [
    {
     "data": {
      "image/png": "[encoded data removed]",
      "text/plain": [
       "<Figure size 1000x600 with 1 Axes>"
      ]
     },
     "metadata": {},
     "output_type": "display_data"
    }
   ],
   "source": [
    "import matplotlib.pyplot as plt\n",
    "\n",
    "# Embedding names\n",
    "embeddings = ['Small (256d)', 'Medium (1536d)', 'Large (3072d)']\n",
    "\n",
    "# Sizes in bytes (from your previous output)\n",
    "sizes_bytes = [2104, 12344, 24632]\n",
    "\n",
    "# Convert sizes to kilobytes for easier interpretation\n",
    "sizes_kb = [size / 1024 for size in sizes_bytes]\n",
    "\n",
    "# Create a bar chart\n",
    "plt.figure(figsize=(10, 6))\n",
    "plt.bar(embeddings, sizes_kb, color=['blue', 'orange', 'green'])\n",
    "\n",
    "# Add title and labels\n",
    "plt.title('Comparison of Embedding Sizes')\n",
    "plt.ylabel('Size in Kilobytes (KB)')\n",
    "plt.xlabel('Embedding Type')\n",
    "\n",
    "# Display the values on top of the bars\n",
    "for i, size in enumerate(sizes_kb):\n",
    "    plt.text(i, size + 0.5, f'{size:.2f} KB', ha='center')\n",
    "\n",
    "# Show the plot\n",
    "plt.tight_layout()\n",
    "plt.show()\n"
   ]
  },
  {
   "cell_type": "markdown",
   "metadata": {},
   "source": [
    "Let's see how using these embeddings affect our storage size and vector index size in Azure AI Search."
   ]
  },
  {
   "cell_type": "markdown",
   "metadata": {},
   "source": [
    "## Configure an Azure AI Search vector index\n",
    "\n",
    "This section explains how to set up the Azure AI Search client for integrating with the Vector Store feature. You can locate your Azure AI Search service details in the Azure Portal or programmatically via the [Search Management SDK](https://learn.microsoft.com/rest/api/searchmanagement/).\n",
    "\n",
    "Additionally, this demonstrates how to define and create a search index using the SearchIndexClient from the Azure AI Search Python SDK. For more details, visit our documentation on how to [Create a Vector Index](https://learn.microsoft.com/azure/search/vector-search-how-to-create-index?.tabs=config-2023-11-01%2Crest-2023-11-01%2Cpush%2Cportal-check-index)."
   ]
  },
  {
   "cell_type": "code",
   "execution_count": 11,
   "metadata": {},
   "outputs": [
    {
     "name": "stdout",
     "output_type": "stream",
     "text": [
      "index-256d created with 256 dimensions\n",
      "index-1536d created with 1536 dimensions\n",
      "index-3072d created with 3072 dimensions\n"
     ]
    }
   ],
   "source": [
    "from azure.core.credentials import AzureKeyCredential\n",
    "from azure.search.documents.indexes import SearchIndexClient\n",
    "from azure.search.documents import SearchClient\n",
    "from azure.search.documents.indexes.models import (\n",
    "    SearchIndex,\n",
    "    SimpleField,\n",
    "    SearchableField,\n",
    "    SearchField,\n",
    "    SearchFieldDataType,\n",
    "    VectorSearch,\n",
    "    HnswAlgorithmConfiguration,\n",
    "    VectorSearchProfile,\n",
    "    VectorSearchAlgorithmKind,\n",
    ")\n",
    "from azure.identity import DefaultAzureCredential\n",
    "import os\n",
    "\n",
    "# Load environment variables\n",
    "search_service_endpoint = os.getenv(\"AZURE_SEARCH_SERVICE_ENDPOINT\")\n",
    "search_service_api_key = os.getenv(\"AZURE_SEARCH_ADMIN_KEY\")\n",
    "\n",
    "# Index names and their corresponding vector dimensions\n",
    "index_info = {\n",
    "    \"small\": {\"name\": \"index-256d\", \"dimension\": 256},\n",
    "    \"medium\": {\"name\": \"index-1536d\", \"dimension\": 1536},\n",
    "    \"large\": {\"name\": \"index-3072d\", \"dimension\": 3072},\n",
    "}\n",
    "\n",
    "# Authentication method flag\n",
    "use_aad_for_search = True  # Set based on your authentication method\n",
    "\n",
    "# Choose the correct credential based on your authentication method\n",
    "credential = (\n",
    "    DefaultAzureCredential()\n",
    "    if use_aad_for_search\n",
    "    else AzureKeyCredential(search_service_api_key)\n",
    ")\n",
    "\n",
    "# Initialize the SearchIndexClient for creating indexes\n",
    "index_client = SearchIndexClient(\n",
    "    endpoint=search_service_endpoint, credential=credential\n",
    ")\n",
    "\n",
    "\n",
    "# Function to create or update indexes\n",
    "def create_or_update_index(index_name, dimensions):\n",
    "    fields = [\n",
    "        SimpleField(name=\"id\", type=SearchFieldDataType.String, key=True),\n",
    "        SearchableField(name=\"text\", type=SearchFieldDataType.String),\n",
    "        SearchField(\n",
    "            name=\"vector\",\n",
    "            type=SearchFieldDataType.Collection(SearchFieldDataType.Single),\n",
    "            vector_search_dimensions=dimensions,\n",
    "            vector_search_profile_name=\"my-vector-profile\",\n",
    "        ),\n",
    "    ]\n",
    "\n",
    "    vector_search = VectorSearch(\n",
    "        algorithms=[\n",
    "            HnswAlgorithmConfiguration(\n",
    "                name=\"my-hnsw\", kind=VectorSearchAlgorithmKind.HNSW\n",
    "            )\n",
    "        ],\n",
    "        profiles=[\n",
    "            VectorSearchProfile(\n",
    "                name=\"my-vector-profile\", algorithm_configuration_name=\"my-hnsw\"\n",
    "            )\n",
    "        ],\n",
    "    )\n",
    "\n",
    "    index = SearchIndex(name=index_name, fields=fields, vector_search=vector_search)\n",
    "    result = index_client.create_or_update_index(index=index)\n",
    "    print(f\"{result.name} created with {dimensions} dimensions\")\n",
    "\n",
    "\n",
    "# Create or update each index and initialize SearchClient instances\n",
    "search_clients = {}\n",
    "for size, info in index_info.items():\n",
    "    create_or_update_index(info[\"name\"], info[\"dimension\"])\n",
    "    search_clients[size] = SearchClient(\n",
    "        endpoint=search_service_endpoint, index_name=info[\"name\"], credential=credential\n",
    "    )\n",
    "\n",
    "# Now search_clients dictionary contains SearchClient instances for each index size"
   ]
  },
  {
   "cell_type": "markdown",
   "metadata": {},
   "source": [
    "## Load Data\n",
    "\n",
    "Let's leverage the state of the union text file in the data folder in the repos root directory. We will leverage langchain for loading and chunking this document."
   ]
  },
  {
   "cell_type": "code",
   "execution_count": 12,
   "metadata": {},
   "outputs": [],
   "source": [
    "# Correcting the file open syntax\n",
    "with open('./data/state_of_the_union.txt', 'r', encoding='utf-8') as file:\n",
    "    text_content = file.read()\n",
    "    \n",
    "# Now text_content contains the content of the state of the union address"
   ]
  },
  {
   "cell_type": "markdown",
   "metadata": {},
   "source": [
    "Let's use the LangChain CharacterTextSplitter and split by every 100 tokens (just to keep thigns simple)"
   ]
  },
  {
   "cell_type": "code",
   "execution_count": 13,
   "metadata": {},
   "outputs": [
    {
     "name": "stdout",
     "output_type": "stream",
     "text": [
      "Total number of chunks: 106\n"
     ]
    }
   ],
   "source": [
    "from langchain.text_splitter import CharacterTextSplitter\n",
    "\n",
    "# Initialize the text splitter with a specific chunk size\n",
    "text_splitter = CharacterTextSplitter.from_tiktoken_encoder(\n",
    "    chunk_size=100, chunk_overlap=0\n",
    ")\n",
    "texts = text_splitter.split_text(text_content)\n",
    "# Print the total number of chunks\n",
    "print(f\"Total number of chunks: {len(texts)}\")"
   ]
  },
  {
   "cell_type": "code",
   "execution_count": 14,
   "metadata": {},
   "outputs": [
    {
     "name": "stdout",
     "output_type": "stream",
     "text": [
      "First chunk: Madam Speaker, Madam Vice President, our First Lady and Second Gentleman. Members of Congress and the Cabinet. Justices of the Supreme Court. My fellow Americans.  \n",
      "\n",
      "Last year COVID-19 kept us apart. This year we are finally together again. \n",
      "\n",
      "Tonight, we meet as Democrats Republicans and Independents. But most importantly as Americans. \n",
      "\n",
      "With a duty to one another to the American people to the Constitution.\n"
     ]
    }
   ],
   "source": [
    "# Print the first chunk\n",
    "print(\"First chunk:\", texts[0])"
   ]
  },
  {
   "cell_type": "markdown",
   "metadata": {},
   "source": [
    "# Generating Text Embeddings with Azure OpenAI Service\n",
    "\n",
    "This script processes text chunks using Azure OpenAI's embedding functions to generate embeddings, organizing the results into Pandas DataFrames for analysis or storage. A helper function, create_embedding_df, iterates over text inputs to create embeddings of varying dimensions (small, medium, large), resulting in three distinct DataFrames that facilitate comparative analysis or further application.\n"
   ]
  },
  {
   "cell_type": "code",
   "execution_count": 15,
   "metadata": {},
   "outputs": [],
   "source": [
    "import pandas as pd\n",
    "\n",
    "# Helper function to process texts and create a DataFrame\n",
    "def create_embedding_df(texts, embedding_function):\n",
    "    data = []\n",
    "    for i, text in enumerate(texts):\n",
    "        # Generate embedding\n",
    "        vector = embedding_function(text)\n",
    "        # Append the data with an ID, the original text, and the generated vector\n",
    "        data.append({\"id\": str(i), \"text\": text, \"vector\": vector})\n",
    "    # Create a DataFrame\n",
    "    df = pd.DataFrame(data, columns=[\"id\", \"text\", \"vector\"])\n",
    "    return df\n",
    "\n",
    "# Process the texts with each embedding function and create the DataFrames\n",
    "df_small = create_embedding_df(texts, generate_small_embedding)\n",
    "df_medium = create_embedding_df(texts, generate_medium_embedding)\n",
    "df_large = create_embedding_df(texts, generate_large_embedding)\n",
    "\n",
    "# Now, df_small, df_medium, and df_large DataFrames contain the vector embeddings for each chunk of text.\n"
   ]
  },
  {
   "cell_type": "markdown",
   "metadata": {},
   "source": [
    "In order to upload these to Azure AI Search, we must convert the data frames to a list of dictionaries. "
   ]
  },
  {
   "cell_type": "code",
   "execution_count": 16,
   "metadata": {},
   "outputs": [],
   "source": [
    "# Convert DataFrames to lists of dictionaries\n",
    "documents_small = df_small.to_dict('records')\n",
    "documents_medium = df_medium.to_dict('records')\n",
    "documents_large = df_large.to_dict('records')\n"
   ]
  },
  {
   "cell_type": "markdown",
   "metadata": {},
   "source": [
    "Now that we have are data in a readyily avaialble format ready to import to Azure AI Search, let's create a vector index."
   ]
  },
  {
   "cell_type": "markdown",
   "metadata": {},
   "source": [
    "## Upload Data to Azure AI Search Index\n"
   ]
  },
  {
   "cell_type": "code",
   "execution_count": 17,
   "metadata": {},
   "outputs": [
    {
     "name": "stdout",
     "output_type": "stream",
     "text": [
      "Uploaded successfully to small index\n",
      "Uploaded successfully to medium index\n",
      "Uploaded successfully to large index\n"
     ]
    }
   ],
   "source": [
    "# Define a dictionary mapping index sizes to their corresponding documents\n",
    "documents_dict = {\n",
    "    \"small\": documents_small,\n",
    "    \"medium\": documents_medium,\n",
    "    \"large\": documents_large,\n",
    "}\n",
    "\n",
    "# Loop through each index size and upload the documents\n",
    "for size, documents in documents_dict.items():\n",
    "    upload_result = search_clients[size].upload_documents(documents=documents)\n",
    "    print(f\"Uploaded successfully to {size} index\")\n"
   ]
  },
  {
   "cell_type": "markdown",
   "metadata": {},
   "source": [
    "## GET Index Statistics\n",
    "\n",
    "Let's view the `StorageSize` and `VectorIndexSize` of each indexes to see how the vector dimensionality plays a role. "
   ]
  },
  {
   "cell_type": "code",
   "execution_count": 18,
   "metadata": {},
   "outputs": [
    {
     "name": "stdout",
     "output_type": "stream",
     "text": [
      "    Index Name  Storage Size (bytes)  Vector Index Size (bytes)  \\\n",
      "0   index-256d                607036                     116032   \n",
      "1  index-1536d               2808491                     658752   \n",
      "2  index-3072d               5532616                    1310016   \n",
      "\n",
      "   Document Count  \n",
      "0             106  \n",
      "1             106  \n",
      "2             106  \n"
     ]
    }
   ],
   "source": [
    "def fetch_index_statistics(index_info):\n",
    "    # Prepare a list to hold the index statistics\n",
    "    stats_data = []\n",
    "\n",
    "    # Iterate over each index in index_info\n",
    "    for key, value in index_info.items():\n",
    "        index_name = value[\"name\"]\n",
    "        # Fetch the statistics for the current index\n",
    "        stats = index_client.get_index_statistics(index_name=index_name)\n",
    "\n",
    "        # Append the statistics to our list\n",
    "        stats_data.append(\n",
    "            {\n",
    "                \"Index Name\": index_name,\n",
    "                \"Storage Size (bytes)\": stats[\"storage_size\"],\n",
    "                \"Vector Index Size (bytes)\": stats[\"vector_index_size\"],\n",
    "                \"Document Count\": stats[\"document_count\"],\n",
    "            }\n",
    "        )\n",
    "\n",
    "    # Convert the list of statistics into a DataFrame for nicer display\n",
    "    return pd.DataFrame(stats_data)\n",
    "\n",
    "\n",
    "# Fetch the statistics for each index and store in a DataFrame\n",
    "df_stats = fetch_index_statistics(index_info)\n",
    "\n",
    "# Display the DataFrame\n",
    "print(df_stats)"
   ]
  },
  {
   "cell_type": "code",
   "execution_count": 19,
   "metadata": {},
   "outputs": [
    {
     "data": {
      "image/png": "[encoded data removed]",
      "text/plain": [
       "<Figure size 640x480 with 1 Axes>"
      ]
     },
     "metadata": {},
     "output_type": "display_data"
    }
   ],
   "source": [
    "import matplotlib.pyplot as plt\n",
    "import numpy as np\n",
    "\n",
    "# Index names\n",
    "index_names = ['index-256d', 'index-1536d', 'index-3072d']\n",
    "\n",
    "# Storage sizes in MB (for demonstration, replace these with your actual values)\n",
    "storage_sizes = [0.58, 2.68, 5.28]\n",
    "\n",
    "# Vector index sizes in MB (for demonstration, replace these with your actual values)\n",
    "vector_index_sizes = [0.11, 0.63, 1.25]\n",
    "\n",
    "# Setting the positions and width for the bars\n",
    "pos = np.arange(len(index_names))\n",
    "width = 0.35\n",
    "\n",
    "# Plotting both the storage size and vector index size in the same chart\n",
    "fig, ax = plt.subplots()\n",
    "bar1 = ax.bar(pos - width/2, storage_sizes, width, label='Storage Size (MB)')\n",
    "bar2 = ax.bar(pos + width/2, vector_index_sizes, width, label='Vector Index Size (MB)')\n",
    "\n",
    "# Adding some text for labels, title, and custom x-axis tick labels, etc.\n",
    "ax.set_ylabel('Size in MB')\n",
    "ax.set_title('Storage and Vector Index Sizes by Index')\n",
    "ax.set_xticks(pos)\n",
    "ax.set_xticklabels(index_names)\n",
    "ax.legend()\n",
    "\n",
    "# Adding a legend\n",
    "ax.legend()\n",
    "\n",
    "# Function to add labels on top of the bars\n",
    "def autolabel(bars):\n",
    "    \"\"\"Attach a text label above each bar in *bars*, displaying its height.\"\"\"\n",
    "    for bar in bars:\n",
    "        height = bar.get_height()\n",
    "        ax.annotate('{}'.format(height),\n",
    "                    xy=(bar.get_x() + bar.get_width() / 2, height),\n",
    "                    xytext=(0, 3),  # 3 points vertical offset\n",
    "                    textcoords=\"offset points\",\n",
    "                    ha='center', va='bottom')\n",
    "\n",
    "# Call the function for each bar\n",
    "autolabel(bar1)\n",
    "autolabel(bar2)\n",
    "\n",
    "# Show the plot\n",
    "plt.tight_layout()\n",
    "plt.show()\n"
   ]
  },
  {
   "cell_type": "markdown",
   "metadata": {},
   "source": [
    "## Azure AI Search Index Statistics\n",
    "\n",
    "Below is a summary table of the Azure AI Search indexes, showing the storage size and vector index size in megabytes (MB), along with the document count for each index:\n",
    "\n",
    "| Index Name  | Storage Size (MB) | Vector Index Size (MB) | Document Count |\n",
    "|-------------|-------------------|------------------------|----------------|\n",
    "| index-256d  | 0.58              | 0.11                   | 106            |\n",
    "| index-1536d | 2.68              | 0.63                   | 106            |\n",
    "| index-3072d | 5.28              | 1.25                   | 106            |\n",
    "\n",
    "### Insights:\n",
    "- **Storage Size (MB)** and **Vector Index Size (MB)** are approximations, calculated from bytes to MB (1 MB = 1,048,576 bytes). View our [Vector index size documentation](https://learn.microsoft.com/en-us/azure/search/vector-search-index-size?tabs=portal-vector-quota) to learn more. \n",
    "- The **Document Count** indicates the total number of chunks/documents stored in each index.\n",
    "- These statistics highlight the relationship between the dimensionality of the embeddings and the storage requirements. As the dimensionality increases, so does the storage and vector index size, reflecting the trade-off between detail (or accuracy) and resource utilization.\n",
    "- **Relative Differences**:\n",
    "    - The **index-1536d** is approximately **4.6x larger** in storage size and **5.7x larger** in vector index size than the **index-256d**.\n",
    "    - The **index-3072d** is approximately **2x larger** in storage size and **2x larger** in vector index size than the **index-1536d**, showcasing the significant impact of increasing the embedding dimensionality on storage and indexing resource requirements.\n",
    "\n",
    "These comparative insights demonstrate how embedding dimensionality influences not just the accuracy and detail of stored embeddings but also the practical aspects of storage and indexing within Azure AI Search, emphasizing the need to balance between embedding detail and resource efficiency.\n"
   ]
  }
 ],
 "metadata": {
  "kernelspec": {
   "display_name": "Python 3",
   "language": "python",
   "name": "python3"
  },
  "language_info": {
   "codemirror_mode": {
    "name": "ipython",
    "version": 3
   },
   "file_extension": ".py",
   "mimetype": "text/x-python",
   "name": "python",
   "nbconvert_exporter": "python",
   "pygments_lexer": "ipython3",
   "version": "3.11.9"
  }
 },
 "nbformat": 4,
 "nbformat_minor": 2
}
