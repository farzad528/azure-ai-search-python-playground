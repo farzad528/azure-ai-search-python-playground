{
 "cells": [
  {
   "cell_type": "markdown",
   "metadata": {},
   "source": [
    "# Using Document Boosting in Azure AI Search for Enhanced Retrieval Quality\n",
    "\n",
    "This notebook demonstrates how to enhance retrieval quality using document boosting capabilities with vector/hybrid search in Azure AI Search.\n",
    "\n",
    "## Setup\n",
    "We begin by installing necessary libraries and downloading the dataset from Kaggle.\n",
    "\n",
    "```python\n",
    "# Install required packages\n",
    "!pip install azure-identity\n",
    "!pip install kaggle\n",
    "!pip install python-dotenv\n",
    "!pip install rich\n",
    "!pip install azure-search-documents --pre\n"
   ]
  },
  {
   "cell_type": "markdown",
   "metadata": {},
   "source": [
    "## Download Data from Kaggle\n",
    "\n",
    "This dataset is sourced from [Rishabh Misra's publications](https://rishabhmisra.github.io/publications).\n",
    "\n",
    "If you're using this dataset for your work, please cite the following articles:\n",
    "\n",
    "**Citation in text format:**\n",
    "\n",
    "1. Misra, Rishabh. \"News Category Dataset.\" arXiv preprint arXiv:2209.11429 (2022).\n",
    "2. Misra, Rishabh and Jigyasa Grover. \"Sculpting Data for ML: The first act of Machine Learning.\" ISBN 9798585463570 (2021).\n",
    "\n",
    "**Citation in BibTex format:**\n",
    "\n",
    "```bibtex\n",
    "@article{misra2022news,\n",
    "  title={News Category Dataset},\n",
    "  author={Misra, Rishabh},\n",
    "  journal={arXiv preprint arXiv:2209.11429},\n",
    "  year={2022}\n",
    "}\n",
    "@book{misra2021sculpting,\n",
    "  author = {Misra, Rishabh and Grover, Jigyasa},\n",
    "  year = {2021},\n",
    "  month = {01},\n",
    "  pages = {},\n",
    "  title = {Sculpting Data for ML: The first act of Machine Learning},\n",
    "  isbn = {9798585463570}\n",
    "}"
   ]
  },
  {
   "cell_type": "code",
   "execution_count": null,
   "metadata": {},
   "outputs": [],
   "source": [
    "# Download the dataset\n",
    "!kaggle datasets download -d rmisra/news-category-dataset\n",
    "\n",
    "# Unzip the downloaded file\n",
    "import pandas as pd\n",
    "import zipfile\n",
    "\n",
    "with zipfile.ZipFile('news-category-dataset.zip', 'r') as zip_ref:\n",
    "    zip_ref.extractall()\n",
    "\n",
    "# Load the dataset into a pandas DataFrame\n",
    "df = pd.read_json('News_Category_Dataset_v3.json', lines=True)\n",
    "\n",
    "# Display the first few rows of the DataFrame\n",
    "df.head()"
   ]
  },
  {
   "cell_type": "markdown",
   "metadata": {},
   "source": [
    "### Dataset Overview\n",
    "The dataset contains news articles with their categories, authors, and links. Note, some articles do not have a headline or short_desription. We will not do any NULL replacements for the purpose of this demo. \n"
   ]
  },
  {
   "cell_type": "code",
   "execution_count": 2,
   "metadata": {},
   "outputs": [
    {
     "name": "stdout",
     "output_type": "stream",
     "text": [
      "320\n",
      "1472\n"
     ]
    }
   ],
   "source": [
    "# Check the maximum length of characters in the headline and short_description fields\n",
    "max_headline_length = df['headline'].str.len().max()\n",
    "max_short_description_length = df['short_description'].str.len().max()\n",
    "\n",
    "print(max_headline_length)\n",
    "print(max_short_description_length)"
   ]
  },
  {
   "cell_type": "markdown",
   "metadata": {},
   "source": [
    "The maximum length of the headline is 320 characters and the short description is 1472 characters. We plan to use OpenAI `text-embedding-3-large` with a capacity of 8192 input tokens or ~32K characters of text.\n"
   ]
  },
  {
   "cell_type": "markdown",
   "metadata": {},
   "source": [
    "The provided data preparation steps are essential for enhancing semantic search capabilities. By concatenating text fields for vectorization, ensuring unique document identifiers, standardizing date formats for freshness boosting, and generating random view counts for magnitude boosting, we significantly improve the search experience. These steps collectively optimize the dataset for more relevant and timely search results, leveraging both content relevance and document popularity."
   ]
  },
  {
   "cell_type": "code",
   "execution_count": 4,
   "metadata": {},
   "outputs": [
    {
     "data": {
      "text/html": [
       "<div>\n",
       "<style scoped>\n",
       "    .dataframe tbody tr th:only-of-type {\n",
       "        vertical-align: middle;\n",
       "    }\n",
       "\n",
       "    .dataframe tbody tr th {\n",
       "        vertical-align: top;\n",
       "    }\n",
       "\n",
       "    .dataframe thead th {\n",
       "        text-align: right;\n",
       "    }\n",
       "</style>\n",
       "<table border=\"1\" class=\"dataframe\">\n",
       "  <thead>\n",
       "    <tr style=\"text-align: right;\">\n",
       "      <th></th>\n",
       "      <th>link</th>\n",
       "      <th>headline</th>\n",
       "      <th>category</th>\n",
       "      <th>short_description</th>\n",
       "      <th>authors</th>\n",
       "      <th>date</th>\n",
       "      <th>text_to_vectorize</th>\n",
       "      <th>id</th>\n",
       "      <th>view_count</th>\n",
       "    </tr>\n",
       "  </thead>\n",
       "  <tbody>\n",
       "    <tr>\n",
       "      <th>0</th>\n",
       "      <td>https://www.huffpost.com/entry/covid-boosters-...</td>\n",
       "      <td>Over 4 Million Americans Roll Up Sleeves For O...</td>\n",
       "      <td>U.S. NEWS</td>\n",
       "      <td>Health experts said it is too early to predict...</td>\n",
       "      <td>Carla K. Johnson, AP</td>\n",
       "      <td>2022-09-23T00:00:00.000000Z</td>\n",
       "      <td>Over 4 Million Americans Roll Up Sleeves For O...</td>\n",
       "      <td>0</td>\n",
       "      <td>87893</td>\n",
       "    </tr>\n",
       "    <tr>\n",
       "      <th>1</th>\n",
       "      <td>https://www.huffpost.com/entry/american-airlin...</td>\n",
       "      <td>American Airlines Flyer Charged, Banned For Li...</td>\n",
       "      <td>U.S. NEWS</td>\n",
       "      <td>He was subdued by passengers and crew when he ...</td>\n",
       "      <td>Mary Papenfuss</td>\n",
       "      <td>2022-09-23T00:00:00.000000Z</td>\n",
       "      <td>American Airlines Flyer Charged, Banned For Li...</td>\n",
       "      <td>1</td>\n",
       "      <td>34665</td>\n",
       "    </tr>\n",
       "    <tr>\n",
       "      <th>2</th>\n",
       "      <td>https://www.huffpost.com/entry/funniest-tweets...</td>\n",
       "      <td>23 Of The Funniest Tweets About Cats And Dogs ...</td>\n",
       "      <td>COMEDY</td>\n",
       "      <td>\"Until you have a dog you don't understand wha...</td>\n",
       "      <td>Elyse Wanshel</td>\n",
       "      <td>2022-09-23T00:00:00.000000Z</td>\n",
       "      <td>23 Of The Funniest Tweets About Cats And Dogs ...</td>\n",
       "      <td>2</td>\n",
       "      <td>3262</td>\n",
       "    </tr>\n",
       "    <tr>\n",
       "      <th>3</th>\n",
       "      <td>https://www.huffpost.com/entry/funniest-parent...</td>\n",
       "      <td>The Funniest Tweets From Parents This Week (Se...</td>\n",
       "      <td>PARENTING</td>\n",
       "      <td>\"Accidentally put grown-up toothpaste on my to...</td>\n",
       "      <td>Caroline Bologna</td>\n",
       "      <td>2022-09-23T00:00:00.000000Z</td>\n",
       "      <td>The Funniest Tweets From Parents This Week (Se...</td>\n",
       "      <td>3</td>\n",
       "      <td>86021</td>\n",
       "    </tr>\n",
       "    <tr>\n",
       "      <th>4</th>\n",
       "      <td>https://www.huffpost.com/entry/amy-cooper-lose...</td>\n",
       "      <td>Woman Who Called Cops On Black Bird-Watcher Lo...</td>\n",
       "      <td>U.S. NEWS</td>\n",
       "      <td>Amy Cooper accused investment firm Franklin Te...</td>\n",
       "      <td>Nina Golgowski</td>\n",
       "      <td>2022-09-22T00:00:00.000000Z</td>\n",
       "      <td>Woman Who Called Cops On Black Bird-Watcher Lo...</td>\n",
       "      <td>4</td>\n",
       "      <td>62263</td>\n",
       "    </tr>\n",
       "  </tbody>\n",
       "</table>\n",
       "</div>"
      ],
      "text/plain": [
       "                                                link  \\\n",
       "0  https://www.huffpost.com/entry/covid-boosters-...   \n",
       "1  https://www.huffpost.com/entry/american-airlin...   \n",
       "2  https://www.huffpost.com/entry/funniest-tweets...   \n",
       "3  https://www.huffpost.com/entry/funniest-parent...   \n",
       "4  https://www.huffpost.com/entry/amy-cooper-lose...   \n",
       "\n",
       "                                            headline   category  \\\n",
       "0  Over 4 Million Americans Roll Up Sleeves For O...  U.S. NEWS   \n",
       "1  American Airlines Flyer Charged, Banned For Li...  U.S. NEWS   \n",
       "2  23 Of The Funniest Tweets About Cats And Dogs ...     COMEDY   \n",
       "3  The Funniest Tweets From Parents This Week (Se...  PARENTING   \n",
       "4  Woman Who Called Cops On Black Bird-Watcher Lo...  U.S. NEWS   \n",
       "\n",
       "                                   short_description               authors  \\\n",
       "0  Health experts said it is too early to predict...  Carla K. Johnson, AP   \n",
       "1  He was subdued by passengers and crew when he ...        Mary Papenfuss   \n",
       "2  \"Until you have a dog you don't understand wha...         Elyse Wanshel   \n",
       "3  \"Accidentally put grown-up toothpaste on my to...      Caroline Bologna   \n",
       "4  Amy Cooper accused investment firm Franklin Te...        Nina Golgowski   \n",
       "\n",
       "                          date  \\\n",
       "0  2022-09-23T00:00:00.000000Z   \n",
       "1  2022-09-23T00:00:00.000000Z   \n",
       "2  2022-09-23T00:00:00.000000Z   \n",
       "3  2022-09-23T00:00:00.000000Z   \n",
       "4  2022-09-22T00:00:00.000000Z   \n",
       "\n",
       "                                   text_to_vectorize id  view_count  \n",
       "0  Over 4 Million Americans Roll Up Sleeves For O...  0       87893  \n",
       "1  American Airlines Flyer Charged, Banned For Li...  1       34665  \n",
       "2  23 Of The Funniest Tweets About Cats And Dogs ...  2        3262  \n",
       "3  The Funniest Tweets From Parents This Week (Se...  3       86021  \n",
       "4  Woman Who Called Cops On Black Bird-Watcher Lo...  4       62263  "
      ]
     },
     "execution_count": 4,
     "metadata": {},
     "output_type": "execute_result"
    }
   ],
   "source": [
    "import numpy as np\n",
    "\n",
    "# Vectorize Headline and Short_Description\n",
    "df['text_to_vectorize'] = df['headline'] + ' ' + df['short_description']\n",
    "\n",
    "# Ensure the id field is a string or create it if it doesn't exist\n",
    "if 'id' in df.columns:\n",
    "    df[\"id\"] = df[\"id\"].astype(str)\n",
    "else:\n",
    "    df[\"id\"] = df.index.astype(str)\n",
    "\n",
    "# Convert the 'date' field to the correct format\n",
    "df[\"date\"] = pd.to_datetime(df[\"date\"]).dt.strftime('%Y-%m-%dT%H:%M:%S.%f')[:-3] + 'Z'\n",
    "\n",
    "# Add a random view_count for each article\n",
    "df['view_count'] = np.random.randint(0, 100001, size=len(df), dtype=np.int32)\n",
    "\n",
    "# Display the updated DataFrame\n",
    "df.head()"
   ]
  },
  {
   "cell_type": "markdown",
   "metadata": {},
   "source": [
    "## Generate Embeddings "
   ]
  },
  {
   "cell_type": "markdown",
   "metadata": {},
   "source": [
    "### Authenticate Azure OpenAI"
   ]
  },
  {
   "cell_type": "code",
   "execution_count": 114,
   "metadata": {},
   "outputs": [
    {
     "name": "stdout",
     "output_type": "stream",
     "text": [
      "Using AAD for authentication.\n"
     ]
    }
   ],
   "source": [
    "from openai import AzureOpenAI\n",
    "from azure.identity import DefaultAzureCredential, get_bearer_token_provider\n",
    "import json\n",
    "import os\n",
    "\n",
    "# User-specified parameter\n",
    "USE_AAD_FOR_AOAI = True\n",
    "\n",
    "def authenticate_openai(api_key=None, use_aad_for_aoai=False):\n",
    "    from azure.identity import get_bearer_token_provider\n",
    "    from openai import AzureOpenAI\n",
    "\n",
    "    if use_aad_for_aoai:\n",
    "        print(\"Using AAD for authentication.\")\n",
    "        credential = DefaultAzureCredential()\n",
    "        token_provider = get_bearer_token_provider(credential, \"https://cognitiveservices.azure.com/.default\")\n",
    "        client = AzureOpenAI(\n",
    "            azure_endpoint=os.getenv(\"AZURE_OPENAI_ENDPOINT\"),\n",
    "            api_version=os.getenv(\"AZURE_OPENAI_API_VERSION\"),\n",
    "            azure_ad_token_provider=token_provider,\n",
    "        )\n",
    "    else:\n",
    "        print(\"Using API keys for authentication.\")\n",
    "        if api_key is None:\n",
    "            raise ValueError(\"API key must be provided if not using AAD for authentication.\")\n",
    "        client = AzureOpenAI(\n",
    "            api_key=api_key,\n",
    "            azure_endpoint=os.getenv(\"AZURE_OPENAI_ENDPOINT\"),\n",
    "            api_version=os.getenv(\"AZURE_OPENAI_API_VERSION\"),\n",
    "        )\n",
    "    return client\n",
    "\n",
    "openai_client = authenticate_openai(api_key=os.getenv(\"AZURE_OPENAI_API_KEY\"), use_aad_for_aoai=USE_AAD_FOR_AOAI)"
   ]
  },
  {
   "cell_type": "code",
   "execution_count": 8,
   "metadata": {},
   "outputs": [
    {
     "name": "stderr",
     "output_type": "stream",
     "text": [
      "100%|██████████| 210/210 [45:02<00:00, 12.87s/it]"
     ]
    },
    {
     "name": "stdout",
     "output_type": "stream",
     "text": [
      "                                                link  \\\n",
      "0  https://www.huffpost.com/entry/covid-boosters-...   \n",
      "1  https://www.huffpost.com/entry/american-airlin...   \n",
      "2  https://www.huffpost.com/entry/funniest-tweets...   \n",
      "3  https://www.huffpost.com/entry/funniest-parent...   \n",
      "4  https://www.huffpost.com/entry/amy-cooper-lose...   \n",
      "\n",
      "                                            headline   category  \\\n",
      "0  Over 4 Million Americans Roll Up Sleeves For O...  U.S. NEWS   \n",
      "1  American Airlines Flyer Charged, Banned For Li...  U.S. NEWS   \n",
      "2  23 Of The Funniest Tweets About Cats And Dogs ...     COMEDY   \n",
      "3  The Funniest Tweets From Parents This Week (Se...  PARENTING   \n",
      "4  Woman Who Called Cops On Black Bird-Watcher Lo...  U.S. NEWS   \n",
      "\n",
      "                                   short_description               authors  \\\n",
      "0  Health experts said it is too early to predict...  Carla K. Johnson, AP   \n",
      "1  He was subdued by passengers and crew when he ...        Mary Papenfuss   \n",
      "2  \"Until you have a dog you don't understand wha...         Elyse Wanshel   \n",
      "3  \"Accidentally put grown-up toothpaste on my to...      Caroline Bologna   \n",
      "4  Amy Cooper accused investment firm Franklin Te...        Nina Golgowski   \n",
      "\n",
      "                          date  \\\n",
      "0  2022-09-23T00:00:00.000000Z   \n",
      "1  2022-09-23T00:00:00.000000Z   \n",
      "2  2022-09-23T00:00:00.000000Z   \n",
      "3  2022-09-23T00:00:00.000000Z   \n",
      "4  2022-09-22T00:00:00.000000Z   \n",
      "\n",
      "                                   text_to_vectorize id  \\\n",
      "0  Over 4 Million Americans Roll Up Sleeves For O...  0   \n",
      "1  American Airlines Flyer Charged, Banned For Li...  1   \n",
      "2  23 Of The Funniest Tweets About Cats And Dogs ...  2   \n",
      "3  The Funniest Tweets From Parents This Week (Se...  3   \n",
      "4  Woman Who Called Cops On Black Bird-Watcher Lo...  4   \n",
      "\n",
      "                                              vector  \n",
      "0  [-0.01077375840395689, -0.0082676000893116, -0...  \n",
      "1  [-0.01944911479949951, 0.005383468233048916, -...  \n",
      "2  [-0.010009807534515858, -0.0009281394886784256...  \n",
      "3  [0.015532996505498886, -0.02711624838411808, -...  \n",
      "4  [0.0019336913246661425, -0.022273797541856766,...  \n"
     ]
    },
    {
     "name": "stderr",
     "output_type": "stream",
     "text": [
      "\n"
     ]
    }
   ],
   "source": [
    "from tqdm import tqdm\n",
    "from tenacity import retry, stop_after_attempt, wait_exponential\n",
    "import json\n",
    "\n",
    "@retry(stop=stop_after_attempt(5), wait=wait_exponential(multiplier=1, min=4, max=60))\n",
    "def get_embeddings(openai_client, texts):\n",
    "    response = openai_client.embeddings.create(\n",
    "        input=texts,\n",
    "        model=os.getenv(\"AZURE_OPENAI_EMBEDDING_DEPLOYED_MODEL_NAME\")\n",
    "    )\n",
    "    response_json = json.loads(response.model_dump_json(indent=2))\n",
    "    return [data['embedding'] for data in response_json['data']]\n",
    "\n",
    "def add_embeddings_to_df(df, text_column, vector_column, batch_size=1000):\n",
    "    embeddings = []\n",
    "    for i in tqdm(range(0, len(df[text_column]), batch_size)):\n",
    "        batch_texts = df[text_column][i:i+batch_size].tolist()\n",
    "        batch_embeddings = get_embeddings(openai_client, batch_texts)\n",
    "        embeddings.extend(batch_embeddings)\n",
    "    df[vector_column] = embeddings\n",
    "    return df\n",
    "\n",
    "df_vectors = add_embeddings_to_df(df, \"text_to_vectorize\", \"vector\")\n",
    "print(df_vectors.head())\n"
   ]
  },
  {
   "cell_type": "markdown",
   "metadata": {},
   "source": [
    "Let's drop the `text_to_vectorize` column from the data frame since we no longer need this since the vectors are already created from the concatenation of the `headline` and `short_description` fields."
   ]
  },
  {
   "cell_type": "code",
   "execution_count": null,
   "metadata": {},
   "outputs": [],
   "source": [
    "df_vectors.drop(columns=['text_to_vectorize'], inplace=True)"
   ]
  },
  {
   "cell_type": "markdown",
   "metadata": {},
   "source": [
    "## Create Azure AI Search Index\n",
    "Next, we create an Azure AI Search index to upload our data with vector embeddings.\n"
   ]
  },
  {
   "cell_type": "markdown",
   "metadata": {},
   "source": [
    "### Authenticate to Azure AI Search"
   ]
  },
  {
   "cell_type": "code",
   "execution_count": 37,
   "metadata": {},
   "outputs": [
    {
     "name": "stdout",
     "output_type": "stream",
     "text": [
      "Using AAD for authentication.\n"
     ]
    }
   ],
   "source": [
    "from azure.identity import DefaultAzureCredential, get_bearer_token_provider\n",
    "from azure.core.credentials import AzureKeyCredential  \n",
    "import os\n",
    "\n",
    "INDEX_NAME=\"news-category\"\n",
    "\n",
    "# User-specified parameter\n",
    "USE_AAD_FOR_SEARCH = True  \n",
    "\n",
    "def authenticate_azure_search(api_key=None, use_aad_for_search=False):\n",
    "    if use_aad_for_search:\n",
    "        print(\"Using AAD for authentication.\")\n",
    "        credential = DefaultAzureCredential()\n",
    "    else:\n",
    "        print(\"Using API keys for authentication.\")\n",
    "        if api_key is None:\n",
    "            raise ValueError(\"API key must be provided if not using AAD for authentication.\")\n",
    "        credential = AzureKeyCredential(api_key)\n",
    "    return credential\n",
    "\n",
    "azure_search_credential = authenticate_azure_search(api_key=os.getenv(\"AZURE_SEARCH_ADMIN_KEY\"), use_aad_for_search=USE_AAD_FOR_SEARCH)\n"
   ]
  },
  {
   "cell_type": "code",
   "execution_count": 38,
   "metadata": {},
   "outputs": [
    {
     "name": "stdout",
     "output_type": "stream",
     "text": [
      "news-category created\n"
     ]
    }
   ],
   "source": [
    "import os\n",
    "from azure.identity import DefaultAzureCredential\n",
    "from azure.search.documents.indexes import SearchIndexClient\n",
    "from azure.search.documents.indexes.models import (\n",
    "    AzureOpenAIModelName,\n",
    "    AzureOpenAIParameters,\n",
    "    AzureOpenAIVectorizer,\n",
    "    FreshnessScoringFunction,\n",
    "    FreshnessScoringParameters,\n",
    "    HnswAlgorithmConfiguration,\n",
    "    HnswParameters,\n",
    "    MagnitudeScoringFunction,\n",
    "    MagnitudeScoringParameters,\n",
    "    ScoringFunctionInterpolation,\n",
    "    ScoringProfile,\n",
    "    SearchField,\n",
    "    SearchFieldDataType,\n",
    "    SearchIndex,\n",
    "    SearchableField,\n",
    "    SimpleField,\n",
    "    TagScoringFunction,\n",
    "    TagScoringParameters,\n",
    "    TextWeights,\n",
    "    VectorSearch,\n",
    "    VectorSearchAlgorithmKind,\n",
    "    VectorSearchAlgorithmMetric,\n",
    "    VectorSearchProfile,\n",
    ")\n",
    "\n",
    "# Initialize the SearchIndexClient\n",
    "index_client = SearchIndexClient(\n",
    "    endpoint=os.getenv(\"AZURE_SEARCH_SERVICE_ENDPOINT\"),\n",
    "    credential=DefaultAzureCredential(),\n",
    ")\n",
    "\n",
    "# Define the fields\n",
    "fields = [\n",
    "    SimpleField(name=\"id\", type=SearchFieldDataType.String, key=True),\n",
    "    SimpleField(name=\"link\", type=SearchFieldDataType.String),\n",
    "    SearchableField(name=\"headline\", type=SearchFieldDataType.String),\n",
    "    SearchableField(\n",
    "        name=\"category\",\n",
    "        type=SearchFieldDataType.String,\n",
    "        filterable=True,\n",
    "        facetable=True,\n",
    "    ),\n",
    "    SearchableField(\n",
    "        name=\"short_description\",\n",
    "        type=SearchFieldDataType.String,\n",
    "    ),\n",
    "    SearchableField(name=\"authors\", type=SearchFieldDataType.String),\n",
    "    SearchField(\n",
    "        name=\"date\",\n",
    "        type=SearchFieldDataType.DateTimeOffset,\n",
    "        filterable=True,\n",
    "        sortable=True,\n",
    "    ),\n",
    "    SimpleField(\n",
    "        name=\"view_count\",\n",
    "        type=SearchFieldDataType.Int32,\n",
    "        filterable=True,\n",
    "        sortable=True,\n",
    "    ),\n",
    "    SearchField(\n",
    "        name=\"vector\",\n",
    "        type=\"Collection(Edm.Single)\",\n",
    "        vector_search_dimensions=3072,\n",
    "        vector_search_profile_name=\"my-vector-config\",\n",
    "    ),\n",
    "]\n",
    "\n",
    "# Define the vector search\n",
    "vector_search = VectorSearch(\n",
    "    profiles=[\n",
    "        VectorSearchProfile(\n",
    "            name=\"my-vector-config\",\n",
    "            algorithm_configuration_name=\"my-hnsw\",\n",
    "            vectorizer=\"my-vectorizer\",\n",
    "        )\n",
    "    ],\n",
    "    algorithms=[\n",
    "        HnswAlgorithmConfiguration(\n",
    "            name=\"my-hnsw\",\n",
    "            kind=VectorSearchAlgorithmKind.HNSW,\n",
    "            parameters=HnswParameters(metric=VectorSearchAlgorithmMetric.COSINE),\n",
    "        )\n",
    "    ],\n",
    "    vectorizers=[\n",
    "        AzureOpenAIVectorizer(\n",
    "            name=\"my-vectorizer\",\n",
    "            azure_open_ai_parameters=AzureOpenAIParameters(\n",
    "                resource_uri=os.getenv(\"AZURE_OPENAI_ENDPOINT\"),\n",
    "                deployment_id=os.getenv(\"AZURE_OPENAI_EMBEDDING_DEPLOYED_MODEL_NAME\"),\n",
    "                model_name=AzureOpenAIModelName.TEXT_EMBEDDING3_LARGE,\n",
    "            ),\n",
    "        )\n",
    "    ],\n",
    ")\n",
    "\n",
    "# Define scoring profiles\n",
    "scoring_profiles = [\n",
    "    ScoringProfile(\n",
    "        name=\"boostCategory\",\n",
    "        text_weights=TextWeights(\n",
    "            weights={\n",
    "                \"category\": 10.0,\n",
    "            }\n",
    "        ),\n",
    "    ),\n",
    "    ScoringProfile(\n",
    "        name=\"boostRecency\",\n",
    "        functions=[\n",
    "            FreshnessScoringFunction(\n",
    "                field_name=\"date\",\n",
    "                boost=10.0,\n",
    "                parameters=FreshnessScoringParameters(\n",
    "                    boosting_duration=\"P1095D\",\n",
    "                ),\n",
    "                interpolation=ScoringFunctionInterpolation.LINEAR,\n",
    "            )\n",
    "        ],\n",
    "    ),\n",
    "    ScoringProfile(\n",
    "        name=\"boostByTag\",\n",
    "        functions=[\n",
    "            TagScoringFunction(\n",
    "                field_name=\"category\",\n",
    "                boost=10.0,\n",
    "                parameters=TagScoringParameters(\n",
    "                    tags_parameter=\"tags\",\n",
    "                ),\n",
    "            )\n",
    "        ],\n",
    "    ),\n",
    "    ScoringProfile(\n",
    "        name=\"boostViewCount\",\n",
    "        functions=[\n",
    "            MagnitudeScoringFunction(\n",
    "                field_name=\"view_count\",\n",
    "                boost=10.0,\n",
    "                parameters=MagnitudeScoringParameters(\n",
    "                    boosting_range_start=0,\n",
    "                    boosting_range_end=10000,\n",
    "                ),\n",
    "                interpolation=ScoringFunctionInterpolation.LINEAR,\n",
    "            )\n",
    "        ],\n",
    "    ),\n",
    "]\n",
    "\n",
    "# Define the index\n",
    "index = SearchIndex(\n",
    "    name=INDEX_NAME,\n",
    "    fields=fields,\n",
    "    scoring_profiles=scoring_profiles,\n",
    "    vector_search=vector_search,\n",
    ")\n",
    "\n",
    "# Create or update the index\n",
    "result = index_client.create_or_update_index(index)\n",
    "print(f\"{result.name} created\")"
   ]
  },
  {
   "cell_type": "markdown",
   "metadata": {},
   "source": [
    "##  Upload Documents\n",
    "Convert the pandas DataFrame to a list of dictionaries and upload to the Azure AI Search index.\n"
   ]
  },
  {
   "cell_type": "code",
   "execution_count": 13,
   "metadata": {},
   "outputs": [],
   "source": [
    "# Convert the DataFrame to a list of dictionaries\n",
    "documents = df_vectors.to_dict(orient=\"records\")"
   ]
  },
  {
   "cell_type": "markdown",
   "metadata": {},
   "source": [
    "To optimize performance of uploading, we will batch upload in increments of 1000 documents. "
   ]
  },
  {
   "cell_type": "code",
   "execution_count": null,
   "metadata": {},
   "outputs": [],
   "source": [
    "import os\n",
    "from azure.search.documents import SearchClient\n",
    "from azure.core.credentials import AzureKeyCredential\n",
    "from azure.core.exceptions import HttpResponseError\n",
    "\n",
    "# Check if documents are loaded\n",
    "if not documents:\n",
    "    print(\"No documents found to upload.\")\n",
    "else:\n",
    "    print(f\"Loaded {len(documents)} documents to upload.\")\n",
    "\n",
    "def create_search_client(index_name):\n",
    "    return SearchClient(\n",
    "        endpoint=os.getenv(\"AZURE_SEARCH_SERVICE_ENDPOINT\"),\n",
    "        index_name=index_name,\n",
    "        credential=azure_search_credential\n",
    "    )\n",
    "\n",
    "def upload_documents_to_index(client, documents):\n",
    "    BATCH_SIZE = 250\n",
    "    for start_idx in range(0, len(documents), BATCH_SIZE):\n",
    "        end_idx = start_idx + BATCH_SIZE\n",
    "        documents_to_upload = documents[start_idx:end_idx]\n",
    "        try:\n",
    "            client.merge_or_upload_documents(documents=documents_to_upload)\n",
    "            print(f\"Uploaded documents {start_idx} to {end_idx}\")\n",
    "        except HttpResponseError as e:\n",
    "            print(f\"Failed to upload documents {start_idx} to {end_idx}: {e}\")\n",
    "\n",
    "# Create the search client\n",
    "search_client = create_search_client(INDEX_NAME)\n",
    "\n",
    "# Upload documents to the index\n",
    "upload_documents_to_index(search_client, documents)"
   ]
  },
  {
   "cell_type": "markdown",
   "metadata": {},
   "source": [
    "## Evaluate Retreival Quality with different document boosting techniques"
   ]
  },
  {
   "cell_type": "markdown",
   "metadata": {},
   "source": [
    "### Freshness Boosting\n",
    "Apply a scoring profile to prioritize newer articles."
   ]
  },
  {
   "cell_type": "code",
   "execution_count": 34,
   "metadata": {},
   "outputs": [],
   "source": [
    "# Initialize Search Client to query the index\n",
    "def create_search_client(index_name):\n",
    "    return SearchClient(\n",
    "        endpoint=os.getenv(\"AZURE_SEARCH_SERVICE_ENDPOINT\"),\n",
    "        index_name=index_name,\n",
    "        credential=azure_search_credential\n",
    "    )\n",
    "search_client = create_search_client(INDEX_NAME)"
   ]
  },
  {
   "cell_type": "code",
   "execution_count": 32,
   "metadata": {},
   "outputs": [
    {
     "data": {
      "text/html": [
       "<pre style=\"white-space:pre;overflow-x:auto;line-height:normal;font-family:Menlo,'DejaVu Sans Mono',consolas,'Courier New',monospace\">\n",
       "<span style=\"color: #000080; text-decoration-color: #000080; font-weight: bold\">Results for Vanilla (No Scoring Profile) Scoring Profile:</span>\n",
       "</pre>\n"
      ],
      "text/plain": [
       "\n",
       "\u001b[1;34mResults for Vanilla \u001b[0m\u001b[1;34m(\u001b[0m\u001b[1;34mNo Scoring Profile\u001b[0m\u001b[1;34m)\u001b[0m\u001b[1;34m Scoring Profile:\u001b[0m\n"
      ]
     },
     "metadata": {},
     "output_type": "display_data"
    },
    {
     "data": {
      "text/html": [
       "<pre style=\"white-space:pre;overflow-x:auto;line-height:normal;font-family:Menlo,'DejaVu Sans Mono',consolas,'Courier New',monospace\">┏━━━━━━━━━━━━━━━━━━━━━━┳━━━━━━━━━━━━┳━━━━━━━━━━━━━━━━━━━━━━━━━━━━━━━━━━━━━━━━━━┳━━━━━━━━━━━━━━━━━┳━━━━━━━━━━━━━━━━┓\n",
       "┃<span style=\"color: #800080; text-decoration-color: #800080; font-weight: bold\"> Headline             </span>┃<span style=\"color: #800080; text-decoration-color: #800080; font-weight: bold\"> Score      </span>┃<span style=\"color: #800080; text-decoration-color: #800080; font-weight: bold\"> Description                              </span>┃<span style=\"color: #800080; text-decoration-color: #800080; font-weight: bold\"> Date            </span>┃<span style=\"color: #800080; text-decoration-color: #800080; font-weight: bold\"> Link           </span>┃\n",
       "┡━━━━━━━━━━━━━━━━━━━━━━╇━━━━━━━━━━━━╇━━━━━━━━━━━━━━━━━━━━━━━━━━━━━━━━━━━━━━━━━━╇━━━━━━━━━━━━━━━━━╇━━━━━━━━━━━━━━━━┩\n",
       "│<span style=\"color: #7f7f7f; text-decoration-color: #7f7f7f\"> Airfares Higher, But </span>│ 0.6553243  │ Airfares are higher than they've been in │ 2013-07-17T00:… │ <a href=\"https://www.huffingtonpost.com/entry/airfares-higher-but-new-p_us_5b9d5b7ee4b03a1dcc87097a\" target=\"_blank\">https://www.h…</a> │\n",
       "│<span style=\"color: #7f7f7f; text-decoration-color: #7f7f7f\"> New Planes Take Out  </span>│            │ years, but there's some good news:       │                 │                │\n",
       "│<span style=\"color: #7f7f7f; text-decoration-color: #7f7f7f\"> Some Sting           </span>│            │ airlines are at least putting your money │                 │                │\n",
       "│<span style=\"color: #7f7f7f; text-decoration-color: #7f7f7f\">                      </span>│            │ to good use, buying new planes with the  │                 │                │\n",
       "│<span style=\"color: #7f7f7f; text-decoration-color: #7f7f7f\">                      </span>│            │ latest in-flight entertainment systems,  │                 │                │\n",
       "│<span style=\"color: #7f7f7f; text-decoration-color: #7f7f7f\">                      </span>│            │ seats that maximize knee-room if not hip │                 │                │\n",
       "│<span style=\"color: #7f7f7f; text-decoration-color: #7f7f7f\">                      </span>│            │ room, and inflight connectivity.         │                 │                │\n",
       "│<span style=\"color: #7f7f7f; text-decoration-color: #7f7f7f\"> Bad Airline Service: </span>│ 0.65390843 │ Whether you want to congratulate or      │ 2012-12-18T00:… │ <a href=\"https://www.huffingtonpost.com/entry/bad-airline-service-when_us_5b9c9c68e4b03a1dcc804801\" target=\"_blank\">https://www.h…</a> │\n",
       "│<span style=\"color: #7f7f7f; text-decoration-color: #7f7f7f\"> When Is Enough       </span>│            │ lambast an airline you've recently       │                 │                │\n",
       "│<span style=\"color: #7f7f7f; text-decoration-color: #7f7f7f\"> Enough?              </span>│            │ flown, head on over to BadAirline and    │                 │                │\n",
       "│<span style=\"color: #7f7f7f; text-decoration-color: #7f7f7f\">                      </span>│            │ make an airline complaint on the         │                 │                │\n",
       "│<span style=\"color: #7f7f7f; text-decoration-color: #7f7f7f\">                      </span>│            │ airline's report card. Or, subscribe to  │                 │                │\n",
       "│<span style=\"color: #7f7f7f; text-decoration-color: #7f7f7f\">                      </span>│            │ our airline news blog and keep abreast   │                 │                │\n",
       "│<span style=\"color: #7f7f7f; text-decoration-color: #7f7f7f\">                      </span>│            │ of the latest airline developments.      │                 │                │\n",
       "│<span style=\"color: #7f7f7f; text-decoration-color: #7f7f7f\"> America's Meanest    </span>│ 0.64979756 │ American Airlines's regional carrier saw │ 2013-04-09T00:… │ <a href=\"https://www.huffingtonpost.com/entry/americas-meanest-airlines_us_5b9d05d1e4b03a1dcc83d127\" target=\"_blank\">https://www.h…</a> │\n",
       "│<span style=\"color: #7f7f7f; text-decoration-color: #7f7f7f\"> Airlines: 2013       </span>│            │ improvement across all four of the       │                 │                │\n",
       "│<span style=\"color: #7f7f7f; text-decoration-color: #7f7f7f\">                      </span>│            │ categories evaluated for the 2013 AQR    │                 │                │\n",
       "│<span style=\"color: #7f7f7f; text-decoration-color: #7f7f7f\">                      </span>│            │ report                                   │                 │                │\n",
       "└──────────────────────┴────────────┴──────────────────────────────────────────┴─────────────────┴────────────────┘\n",
       "</pre>\n"
      ],
      "text/plain": [
       "┏━━━━━━━━━━━━━━━━━━━━━━┳━━━━━━━━━━━━┳━━━━━━━━━━━━━━━━━━━━━━━━━━━━━━━━━━━━━━━━━━┳━━━━━━━━━━━━━━━━━┳━━━━━━━━━━━━━━━━┓\n",
       "┃\u001b[1;35m \u001b[0m\u001b[1;35mHeadline            \u001b[0m\u001b[1;35m \u001b[0m┃\u001b[1;35m \u001b[0m\u001b[1;35mScore     \u001b[0m\u001b[1;35m \u001b[0m┃\u001b[1;35m \u001b[0m\u001b[1;35mDescription                             \u001b[0m\u001b[1;35m \u001b[0m┃\u001b[1;35m \u001b[0m\u001b[1;35mDate           \u001b[0m\u001b[1;35m \u001b[0m┃\u001b[1;35m \u001b[0m\u001b[1;35mLink          \u001b[0m\u001b[1;35m \u001b[0m┃\n",
       "┡━━━━━━━━━━━━━━━━━━━━━━╇━━━━━━━━━━━━╇━━━━━━━━━━━━━━━━━━━━━━━━━━━━━━━━━━━━━━━━━━╇━━━━━━━━━━━━━━━━━╇━━━━━━━━━━━━━━━━┩\n",
       "│\u001b[2m \u001b[0m\u001b[2mAirfares Higher, But\u001b[0m\u001b[2m \u001b[0m│ 0.6553243  │ Airfares are higher than they've been in │ 2013-07-17T00:… │ \u001b]8;id=8072;https://www.huffingtonpost.com/entry/airfares-higher-but-new-p_us_5b9d5b7ee4b03a1dcc87097a\u001b\\https://www.h…\u001b]8;;\u001b\\ │\n",
       "│\u001b[2m \u001b[0m\u001b[2mNew Planes Take Out \u001b[0m\u001b[2m \u001b[0m│            │ years, but there's some good news:       │                 │                │\n",
       "│\u001b[2m \u001b[0m\u001b[2mSome Sting          \u001b[0m\u001b[2m \u001b[0m│            │ airlines are at least putting your money │                 │                │\n",
       "│\u001b[2m                      \u001b[0m│            │ to good use, buying new planes with the  │                 │                │\n",
       "│\u001b[2m                      \u001b[0m│            │ latest in-flight entertainment systems,  │                 │                │\n",
       "│\u001b[2m                      \u001b[0m│            │ seats that maximize knee-room if not hip │                 │                │\n",
       "│\u001b[2m                      \u001b[0m│            │ room, and inflight connectivity.         │                 │                │\n",
       "│\u001b[2m \u001b[0m\u001b[2mBad Airline Service:\u001b[0m\u001b[2m \u001b[0m│ 0.65390843 │ Whether you want to congratulate or      │ 2012-12-18T00:… │ \u001b]8;id=382353;https://www.huffingtonpost.com/entry/bad-airline-service-when_us_5b9c9c68e4b03a1dcc804801\u001b\\https://www.h…\u001b]8;;\u001b\\ │\n",
       "│\u001b[2m \u001b[0m\u001b[2mWhen Is Enough      \u001b[0m\u001b[2m \u001b[0m│            │ lambast an airline you've recently       │                 │                │\n",
       "│\u001b[2m \u001b[0m\u001b[2mEnough?             \u001b[0m\u001b[2m \u001b[0m│            │ flown, head on over to BadAirline and    │                 │                │\n",
       "│\u001b[2m                      \u001b[0m│            │ make an airline complaint on the         │                 │                │\n",
       "│\u001b[2m                      \u001b[0m│            │ airline's report card. Or, subscribe to  │                 │                │\n",
       "│\u001b[2m                      \u001b[0m│            │ our airline news blog and keep abreast   │                 │                │\n",
       "│\u001b[2m                      \u001b[0m│            │ of the latest airline developments.      │                 │                │\n",
       "│\u001b[2m \u001b[0m\u001b[2mAmerica's Meanest   \u001b[0m\u001b[2m \u001b[0m│ 0.64979756 │ American Airlines's regional carrier saw │ 2013-04-09T00:… │ \u001b]8;id=257315;https://www.huffingtonpost.com/entry/americas-meanest-airlines_us_5b9d05d1e4b03a1dcc83d127\u001b\\https://www.h…\u001b]8;;\u001b\\ │\n",
       "│\u001b[2m \u001b[0m\u001b[2mAirlines: 2013      \u001b[0m\u001b[2m \u001b[0m│            │ improvement across all four of the       │                 │                │\n",
       "│\u001b[2m                      \u001b[0m│            │ categories evaluated for the 2013 AQR    │                 │                │\n",
       "│\u001b[2m                      \u001b[0m│            │ report                                   │                 │                │\n",
       "└──────────────────────┴────────────┴──────────────────────────────────────────┴─────────────────┴────────────────┘\n"
      ]
     },
     "metadata": {},
     "output_type": "display_data"
    },
    {
     "data": {
      "text/html": [
       "<pre style=\"white-space:pre;overflow-x:auto;line-height:normal;font-family:Menlo,'DejaVu Sans Mono',consolas,'Courier New',monospace\">\n",
       "<span style=\"color: #000080; text-decoration-color: #000080; font-weight: bold\">Results for boostRecency Scoring Profile:</span>\n",
       "</pre>\n"
      ],
      "text/plain": [
       "\n",
       "\u001b[1;34mResults for boostRecency Scoring Profile:\u001b[0m\n"
      ]
     },
     "metadata": {},
     "output_type": "display_data"
    },
    {
     "data": {
      "text/html": [
       "<pre style=\"white-space:pre;overflow-x:auto;line-height:normal;font-family:Menlo,'DejaVu Sans Mono',consolas,'Courier New',monospace\">┏━━━━━━━━━━━━━━━━━━━━━━┳━━━━━━━━━━━━━━┳━━━━━━━━━━━━━━━━━━━━━━━━━━━━━━━━━━━━━━━━━━┳━━━━━━━━━━━━━━━━━┳━━━━━━━━━━━━━━┓\n",
       "┃<span style=\"color: #800080; text-decoration-color: #800080; font-weight: bold\"> Headline             </span>┃<span style=\"color: #800080; text-decoration-color: #800080; font-weight: bold\"> Score        </span>┃<span style=\"color: #800080; text-decoration-color: #800080; font-weight: bold\"> Description                              </span>┃<span style=\"color: #800080; text-decoration-color: #800080; font-weight: bold\"> Date            </span>┃<span style=\"color: #800080; text-decoration-color: #800080; font-weight: bold\"> Link         </span>┃\n",
       "┡━━━━━━━━━━━━━━━━━━━━━━╇━━━━━━━━━━━━━━╇━━━━━━━━━━━━━━━━━━━━━━━━━━━━━━━━━━━━━━━━━━╇━━━━━━━━━━━━━━━━━╇━━━━━━━━━━━━━━┩\n",
       "│<span style=\"color: #7f7f7f; text-decoration-color: #7f7f7f\"> Alaska Airlines      </span>│ 2.092956304… │ More than 100 Alaska Airlines flights    │ 2022-04-01T00:… │ <a href=\"https://www.huffpost.com/entry/alaska-airlines-cancels-flights-pilot-strike_n_62477517e4b0e44de9c20d16\" target=\"_blank\">https://www…</a> │\n",
       "│<span style=\"color: #7f7f7f; text-decoration-color: #7f7f7f\"> Cancels Dozens Of    </span>│              │ were canceled by the airline, including  │                 │              │\n",
       "│<span style=\"color: #7f7f7f; text-decoration-color: #7f7f7f\"> Flights As Pilots    </span>│              │ 66 in Seattle, 20 in Portland, Oregon,   │                 │              │\n",
       "│<span style=\"color: #7f7f7f; text-decoration-color: #7f7f7f\"> Picket               </span>│              │ 10 in Los Angeles and seven in San       │                 │              │\n",
       "│<span style=\"color: #7f7f7f; text-decoration-color: #7f7f7f\">                      </span>│              │ Francisco.                               │                 │              │\n",
       "│<span style=\"color: #7f7f7f; text-decoration-color: #7f7f7f\"> Airfares Higher, But </span>│ 0.655324280… │ Airfares are higher than they've been in │ 2013-07-17T00:… │ <a href=\"https://www.huffingtonpost.com/entry/airfares-higher-but-new-p_us_5b9d5b7ee4b03a1dcc87097a\" target=\"_blank\">https://www…</a> │\n",
       "│<span style=\"color: #7f7f7f; text-decoration-color: #7f7f7f\"> New Planes Take Out  </span>│              │ years, but there's some good news:       │                 │              │\n",
       "│<span style=\"color: #7f7f7f; text-decoration-color: #7f7f7f\"> Some Sting           </span>│              │ airlines are at least putting your money │                 │              │\n",
       "│<span style=\"color: #7f7f7f; text-decoration-color: #7f7f7f\">                      </span>│              │ to good use, buying new planes with the  │                 │              │\n",
       "│<span style=\"color: #7f7f7f; text-decoration-color: #7f7f7f\">                      </span>│              │ latest in-flight entertainment systems,  │                 │              │\n",
       "│<span style=\"color: #7f7f7f; text-decoration-color: #7f7f7f\">                      </span>│              │ seats that maximize knee-room if not hip │                 │              │\n",
       "│<span style=\"color: #7f7f7f; text-decoration-color: #7f7f7f\">                      </span>│              │ room, and inflight connectivity.         │                 │              │\n",
       "│<span style=\"color: #7f7f7f; text-decoration-color: #7f7f7f\"> Bad Airline Service: </span>│ 0.653908431… │ Whether you want to congratulate or      │ 2012-12-18T00:… │ <a href=\"https://www.huffingtonpost.com/entry/bad-airline-service-when_us_5b9c9c68e4b03a1dcc804801\" target=\"_blank\">https://www…</a> │\n",
       "│<span style=\"color: #7f7f7f; text-decoration-color: #7f7f7f\"> When Is Enough       </span>│              │ lambast an airline you've recently       │                 │              │\n",
       "│<span style=\"color: #7f7f7f; text-decoration-color: #7f7f7f\"> Enough?              </span>│              │ flown, head on over to BadAirline and    │                 │              │\n",
       "│<span style=\"color: #7f7f7f; text-decoration-color: #7f7f7f\">                      </span>│              │ make an airline complaint on the         │                 │              │\n",
       "│<span style=\"color: #7f7f7f; text-decoration-color: #7f7f7f\">                      </span>│              │ airline's report card. Or, subscribe to  │                 │              │\n",
       "│<span style=\"color: #7f7f7f; text-decoration-color: #7f7f7f\">                      </span>│              │ our airline news blog and keep abreast   │                 │              │\n",
       "│<span style=\"color: #7f7f7f; text-decoration-color: #7f7f7f\">                      </span>│              │ of the latest airline developments.      │                 │              │\n",
       "└──────────────────────┴──────────────┴──────────────────────────────────────────┴─────────────────┴──────────────┘\n",
       "</pre>\n"
      ],
      "text/plain": [
       "┏━━━━━━━━━━━━━━━━━━━━━━┳━━━━━━━━━━━━━━┳━━━━━━━━━━━━━━━━━━━━━━━━━━━━━━━━━━━━━━━━━━┳━━━━━━━━━━━━━━━━━┳━━━━━━━━━━━━━━┓\n",
       "┃\u001b[1;35m \u001b[0m\u001b[1;35mHeadline            \u001b[0m\u001b[1;35m \u001b[0m┃\u001b[1;35m \u001b[0m\u001b[1;35mScore       \u001b[0m\u001b[1;35m \u001b[0m┃\u001b[1;35m \u001b[0m\u001b[1;35mDescription                             \u001b[0m\u001b[1;35m \u001b[0m┃\u001b[1;35m \u001b[0m\u001b[1;35mDate           \u001b[0m\u001b[1;35m \u001b[0m┃\u001b[1;35m \u001b[0m\u001b[1;35mLink        \u001b[0m\u001b[1;35m \u001b[0m┃\n",
       "┡━━━━━━━━━━━━━━━━━━━━━━╇━━━━━━━━━━━━━━╇━━━━━━━━━━━━━━━━━━━━━━━━━━━━━━━━━━━━━━━━━━╇━━━━━━━━━━━━━━━━━╇━━━━━━━━━━━━━━┩\n",
       "│\u001b[2m \u001b[0m\u001b[2mAlaska Airlines     \u001b[0m\u001b[2m \u001b[0m│ 2.092956304… │ More than 100 Alaska Airlines flights    │ 2022-04-01T00:… │ \u001b]8;id=463234;https://www.huffpost.com/entry/alaska-airlines-cancels-flights-pilot-strike_n_62477517e4b0e44de9c20d16\u001b\\https://www…\u001b]8;;\u001b\\ │\n",
       "│\u001b[2m \u001b[0m\u001b[2mCancels Dozens Of   \u001b[0m\u001b[2m \u001b[0m│              │ were canceled by the airline, including  │                 │              │\n",
       "│\u001b[2m \u001b[0m\u001b[2mFlights As Pilots   \u001b[0m\u001b[2m \u001b[0m│              │ 66 in Seattle, 20 in Portland, Oregon,   │                 │              │\n",
       "│\u001b[2m \u001b[0m\u001b[2mPicket              \u001b[0m\u001b[2m \u001b[0m│              │ 10 in Los Angeles and seven in San       │                 │              │\n",
       "│\u001b[2m                      \u001b[0m│              │ Francisco.                               │                 │              │\n",
       "│\u001b[2m \u001b[0m\u001b[2mAirfares Higher, But\u001b[0m\u001b[2m \u001b[0m│ 0.655324280… │ Airfares are higher than they've been in │ 2013-07-17T00:… │ \u001b]8;id=19583;https://www.huffingtonpost.com/entry/airfares-higher-but-new-p_us_5b9d5b7ee4b03a1dcc87097a\u001b\\https://www…\u001b]8;;\u001b\\ │\n",
       "│\u001b[2m \u001b[0m\u001b[2mNew Planes Take Out \u001b[0m\u001b[2m \u001b[0m│              │ years, but there's some good news:       │                 │              │\n",
       "│\u001b[2m \u001b[0m\u001b[2mSome Sting          \u001b[0m\u001b[2m \u001b[0m│              │ airlines are at least putting your money │                 │              │\n",
       "│\u001b[2m                      \u001b[0m│              │ to good use, buying new planes with the  │                 │              │\n",
       "│\u001b[2m                      \u001b[0m│              │ latest in-flight entertainment systems,  │                 │              │\n",
       "│\u001b[2m                      \u001b[0m│              │ seats that maximize knee-room if not hip │                 │              │\n",
       "│\u001b[2m                      \u001b[0m│              │ room, and inflight connectivity.         │                 │              │\n",
       "│\u001b[2m \u001b[0m\u001b[2mBad Airline Service:\u001b[0m\u001b[2m \u001b[0m│ 0.653908431… │ Whether you want to congratulate or      │ 2012-12-18T00:… │ \u001b]8;id=633277;https://www.huffingtonpost.com/entry/bad-airline-service-when_us_5b9c9c68e4b03a1dcc804801\u001b\\https://www…\u001b]8;;\u001b\\ │\n",
       "│\u001b[2m \u001b[0m\u001b[2mWhen Is Enough      \u001b[0m\u001b[2m \u001b[0m│              │ lambast an airline you've recently       │                 │              │\n",
       "│\u001b[2m \u001b[0m\u001b[2mEnough?             \u001b[0m\u001b[2m \u001b[0m│              │ flown, head on over to BadAirline and    │                 │              │\n",
       "│\u001b[2m                      \u001b[0m│              │ make an airline complaint on the         │                 │              │\n",
       "│\u001b[2m                      \u001b[0m│              │ airline's report card. Or, subscribe to  │                 │              │\n",
       "│\u001b[2m                      \u001b[0m│              │ our airline news blog and keep abreast   │                 │              │\n",
       "│\u001b[2m                      \u001b[0m│              │ of the latest airline developments.      │                 │              │\n",
       "└──────────────────────┴──────────────┴──────────────────────────────────────────┴─────────────────┴──────────────┘\n"
      ]
     },
     "metadata": {},
     "output_type": "display_data"
    }
   ],
   "source": [
    "from rich.console import Console\n",
    "from rich.table import Table\n",
    "from rich.text import Text\n",
    "from azure.search.documents.models import VectorizableTextQuery\n",
    "\n",
    "# Initialize a Rich console\n",
    "console = Console()\n",
    "\n",
    "def search_and_print_results(scoring_profile=None):\n",
    "    query = \"latest news on airlines\"\n",
    "    vector_query = VectorizableTextQuery(\n",
    "        text=query, k_nearest_neighbors=50, fields=\"vector\", exhaustive=True\n",
    "    )\n",
    "    results = search_client.search(\n",
    "        search_text=None,\n",
    "        vector_queries=[vector_query],\n",
    "        scoring_profile=scoring_profile,\n",
    "        top=3,\n",
    "    )\n",
    "\n",
    "    profile_name = scoring_profile if scoring_profile else 'Vanilla (No Scoring Profile)'\n",
    "    console.print(f\"\\nResults for {profile_name} Scoring Profile:\", style=\"bold blue\")\n",
    "\n",
    "    # Create a table for the results\n",
    "    table = Table(show_header=True, header_style=\"bold magenta\")\n",
    "    table.add_column(\"Headline\", style=\"dim\", width=20)\n",
    "    table.add_column(\"Score\")\n",
    "    table.add_column(\"Description\", width=40)\n",
    "    table.add_column(\"Date\", width=15)\n",
    "    table.add_column(\"Link\")\n",
    "\n",
    "    for result in results:\n",
    "        # Format the link as a clickable hyperlink\n",
    "        link_text = Text(result['link'], style=\"link\")\n",
    "        link_text.stylize(f\"link {result['link']}\")\n",
    "\n",
    "        table.add_row(\n",
    "            result['headline'],\n",
    "            str(result['@search.score']),\n",
    "            result['short_description'],\n",
    "            result['date'],\n",
    "            link_text  # Use the formatted link text here\n",
    "        )\n",
    "\n",
    "    # Print the table\n",
    "    console.print(table)\n",
    "\n",
    "# Perform searches with and without the freshness scoring profile\n",
    "search_and_print_results()  # Vanilla query without any scoring profile\n",
    "search_and_print_results(\"boostRecency\")\n"
   ]
  },
  {
   "cell_type": "markdown",
   "metadata": {},
   "source": [
    "When the `boostRecency` scoring profile is applied, it sets the time delta to `P1095D`, which boosts articles published within the past 1095 days (approximately 3 years) from the current date. As a result, the search prioritizes newer articles. For example, the Alaska Airlines article dated April 1, 2022, ranks higher. In contrast, a vanilla query without any scoring profile ranks results based on default relevance, where older articles from 2013 and 2012 are ranked higher. This demonstrates the effectiveness of the freshness scoring profile in promoting more recent content.\n",
    "#### Use Cases for Freshness Boosting\n",
    "\n",
    "- **News Websites:** Ensures that the latest news articles are prioritized, keeping users informed with up-to-date information.\n",
    "- **E-commerce:** Highlights the newest products, helping customers find the latest arrivals and trends.\n",
    "- **Social Media Platforms:** Promotes the most recent posts and updates, enhancing user engagement with current content.\n",
    "- **Job Portals:** Displays the latest job postings, providing job seekers with the most recent opportunities.\n",
    "- **Event Listings:** Prioritizes upcoming events, making it easier for users to find and attend future activities.\n",
    "- **Blogs and Content Platforms:** Surfaces the most recent blog posts and articles, keeping content fresh and engaging for readers.\n",
    "- **Customer Support:** Prioritizes the latest support documents and FAQs, ensuring users have access to the most current solutions and information.\n",
    "\n",
    "#### Why Customers Might Use Freshness Boosting\n",
    "\n",
    "- **Enhanced User Experience:** Users receive the most current and relevant information, improving satisfaction and engagement.\n",
    "- **Timely Information:** Ensures that time-sensitive information is readily available, crucial for news and event-related queries.\n",
    "- **Competitive Advantage:** Keeps the content dynamic and updated, which can be a key differentiator in competitive markets.\n",
    "- **Increased Engagement:** Fresh content is more likely to attract and retain users, driving higher interaction rates.\n",
    "- **Improved Relevance:** Aligns search results with user intent, especially for queries seeking the latest updates and trends.\n"
   ]
  },
  {
   "cell_type": "markdown",
   "metadata": {},
   "source": [
    "### Category Boosting\n",
    "Perform a hybrid search to apply category boosts."
   ]
  },
  {
   "cell_type": "code",
   "execution_count": 31,
   "metadata": {},
   "outputs": [
    {
     "data": {
      "text/html": [
       "<pre style=\"white-space:pre;overflow-x:auto;line-height:normal;font-family:Menlo,'DejaVu Sans Mono',consolas,'Courier New',monospace\">\n",
       "<span style=\"color: #000080; text-decoration-color: #000080; font-weight: bold\">Results for Vanilla (No Scoring Profile) Scoring Profile:</span>\n",
       "</pre>\n"
      ],
      "text/plain": [
       "\n",
       "\u001b[1;34mResults for Vanilla \u001b[0m\u001b[1;34m(\u001b[0m\u001b[1;34mNo Scoring Profile\u001b[0m\u001b[1;34m)\u001b[0m\u001b[1;34m Scoring Profile:\u001b[0m\n"
      ]
     },
     "metadata": {},
     "output_type": "display_data"
    },
    {
     "data": {
      "text/html": [
       "<pre style=\"white-space:pre;overflow-x:auto;line-height:normal;font-family:Menlo,'DejaVu Sans Mono',consolas,'Courier New',monospace\">┏━━━━━━━━━━━━━━━━━━━━━━┳━━━━━━━━━━━┳━━━━━━━━━━━━━━━━━━━━━━━━━━━━━━━━━━━━━━━━━━┳━━━━━━━━━━━┳━━━━━━━━━━━┳━━━━━━━━━━━┓\n",
       "┃<span style=\"color: #800080; text-decoration-color: #800080; font-weight: bold\"> Headline             </span>┃<span style=\"color: #800080; text-decoration-color: #800080; font-weight: bold\"> Score     </span>┃<span style=\"color: #800080; text-decoration-color: #800080; font-weight: bold\"> Description                              </span>┃<span style=\"color: #800080; text-decoration-color: #800080; font-weight: bold\"> Category  </span>┃<span style=\"color: #800080; text-decoration-color: #800080; font-weight: bold\"> Date      </span>┃<span style=\"color: #800080; text-decoration-color: #800080; font-weight: bold\"> Link      </span>┃\n",
       "┡━━━━━━━━━━━━━━━━━━━━━━╇━━━━━━━━━━━╇━━━━━━━━━━━━━━━━━━━━━━━━━━━━━━━━━━━━━━━━━━╇━━━━━━━━━━━╇━━━━━━━━━━━╇━━━━━━━━━━━┩\n",
       "│<span style=\"color: #7f7f7f; text-decoration-color: #7f7f7f\"> Hollywood &amp; Vine:    </span>│ 0.029012… │                                          │ ENTERTAI… │ 2014-12-… │ <a href=\"https://www.huffingtonpost.comhttp://www.newyorker.com/magazine/2014/12/15/hollywood-vine\" target=\"_blank\">https://…</a> │\n",
       "│<span style=\"color: #7f7f7f; text-decoration-color: #7f7f7f\"> The Entertainment    </span>│           │                                          │           │           │           │\n",
       "│<span style=\"color: #7f7f7f; text-decoration-color: #7f7f7f\"> Industry Seeks The   </span>│           │                                          │           │           │           │\n",
       "│<span style=\"color: #7f7f7f; text-decoration-color: #7f7f7f\"> Future In Viral      </span>│           │                                          │           │           │           │\n",
       "│<span style=\"color: #7f7f7f; text-decoration-color: #7f7f7f\"> Video                </span>│           │                                          │           │           │           │\n",
       "│<span style=\"color: #7f7f7f; text-decoration-color: #7f7f7f\"> The Truth About      </span>│ 0.028160… │ Like the fashion world, the wedding      │ WEDDINGS  │ 2014-01-… │ <a href=\"https://www.huffingtonpost.com/entry/the-truth-about-wedding-t_us_5b9dd1bbe4b03a1dcc8d48bd\" target=\"_blank\">https://…</a> │\n",
       "│<span style=\"color: #7f7f7f; text-decoration-color: #7f7f7f\"> Wedding Trends       </span>│           │ industry loves its trends. But should    │           │           │           │\n",
       "│<span style=\"color: #7f7f7f; text-decoration-color: #7f7f7f\">                      </span>│           │ we?                                      │           │           │           │\n",
       "│<span style=\"color: #7f7f7f; text-decoration-color: #7f7f7f\"> Is Music Dead?       </span>│ 0.026905… │ We live in an era when the music         │ ENTERTAI… │ 2015-04-… │ <a href=\"https://www.huffingtonpost.com/entry/is-music-dead-thoughts-on_b_7037212.html\" target=\"_blank\">https://…</a> │\n",
       "│<span style=\"color: #7f7f7f; text-decoration-color: #7f7f7f\"> (Thoughts on the     </span>│           │ industry changes track almost every six  │           │           │           │\n",
       "│<span style=\"color: #7f7f7f; text-decoration-color: #7f7f7f\"> Music Industry After </span>│           │ months. The reason is the grown of       │           │           │           │\n",
       "│<span style=\"color: #7f7f7f; text-decoration-color: #7f7f7f\"> SXSW 2015)           </span>│           │ digital marketing and social media. Many │           │           │           │\n",
       "│<span style=\"color: #7f7f7f; text-decoration-color: #7f7f7f\">                      </span>│           │ in the industry believe that this is     │           │           │           │\n",
       "│<span style=\"color: #7f7f7f; text-decoration-color: #7f7f7f\">                      </span>│           │ what new artists should target.          │           │           │           │\n",
       "└──────────────────────┴───────────┴──────────────────────────────────────────┴───────────┴───────────┴───────────┘\n",
       "</pre>\n"
      ],
      "text/plain": [
       "┏━━━━━━━━━━━━━━━━━━━━━━┳━━━━━━━━━━━┳━━━━━━━━━━━━━━━━━━━━━━━━━━━━━━━━━━━━━━━━━━┳━━━━━━━━━━━┳━━━━━━━━━━━┳━━━━━━━━━━━┓\n",
       "┃\u001b[1;35m \u001b[0m\u001b[1;35mHeadline            \u001b[0m\u001b[1;35m \u001b[0m┃\u001b[1;35m \u001b[0m\u001b[1;35mScore    \u001b[0m\u001b[1;35m \u001b[0m┃\u001b[1;35m \u001b[0m\u001b[1;35mDescription                             \u001b[0m\u001b[1;35m \u001b[0m┃\u001b[1;35m \u001b[0m\u001b[1;35mCategory \u001b[0m\u001b[1;35m \u001b[0m┃\u001b[1;35m \u001b[0m\u001b[1;35mDate     \u001b[0m\u001b[1;35m \u001b[0m┃\u001b[1;35m \u001b[0m\u001b[1;35mLink     \u001b[0m\u001b[1;35m \u001b[0m┃\n",
       "┡━━━━━━━━━━━━━━━━━━━━━━╇━━━━━━━━━━━╇━━━━━━━━━━━━━━━━━━━━━━━━━━━━━━━━━━━━━━━━━━╇━━━━━━━━━━━╇━━━━━━━━━━━╇━━━━━━━━━━━┩\n",
       "│\u001b[2m \u001b[0m\u001b[2mHollywood & Vine:   \u001b[0m\u001b[2m \u001b[0m│ 0.029012… │                                          │ ENTERTAI… │ 2014-12-… │ \u001b]8;id=344398;https://www.huffingtonpost.comhttp://www.newyorker.com/magazine/2014/12/15/hollywood-vine\u001b\\https://…\u001b]8;;\u001b\\ │\n",
       "│\u001b[2m \u001b[0m\u001b[2mThe Entertainment   \u001b[0m\u001b[2m \u001b[0m│           │                                          │           │           │           │\n",
       "│\u001b[2m \u001b[0m\u001b[2mIndustry Seeks The  \u001b[0m\u001b[2m \u001b[0m│           │                                          │           │           │           │\n",
       "│\u001b[2m \u001b[0m\u001b[2mFuture In Viral     \u001b[0m\u001b[2m \u001b[0m│           │                                          │           │           │           │\n",
       "│\u001b[2m \u001b[0m\u001b[2mVideo               \u001b[0m\u001b[2m \u001b[0m│           │                                          │           │           │           │\n",
       "│\u001b[2m \u001b[0m\u001b[2mThe Truth About     \u001b[0m\u001b[2m \u001b[0m│ 0.028160… │ Like the fashion world, the wedding      │ WEDDINGS  │ 2014-01-… │ \u001b]8;id=938410;https://www.huffingtonpost.com/entry/the-truth-about-wedding-t_us_5b9dd1bbe4b03a1dcc8d48bd\u001b\\https://…\u001b]8;;\u001b\\ │\n",
       "│\u001b[2m \u001b[0m\u001b[2mWedding Trends      \u001b[0m\u001b[2m \u001b[0m│           │ industry loves its trends. But should    │           │           │           │\n",
       "│\u001b[2m                      \u001b[0m│           │ we?                                      │           │           │           │\n",
       "│\u001b[2m \u001b[0m\u001b[2mIs Music Dead?      \u001b[0m\u001b[2m \u001b[0m│ 0.026905… │ We live in an era when the music         │ ENTERTAI… │ 2015-04-… │ \u001b]8;id=489960;https://www.huffingtonpost.com/entry/is-music-dead-thoughts-on_b_7037212.html\u001b\\https://…\u001b]8;;\u001b\\ │\n",
       "│\u001b[2m \u001b[0m\u001b[2m(Thoughts on the    \u001b[0m\u001b[2m \u001b[0m│           │ industry changes track almost every six  │           │           │           │\n",
       "│\u001b[2m \u001b[0m\u001b[2mMusic Industry After\u001b[0m\u001b[2m \u001b[0m│           │ months. The reason is the grown of       │           │           │           │\n",
       "│\u001b[2m \u001b[0m\u001b[2mSXSW 2015)          \u001b[0m\u001b[2m \u001b[0m│           │ digital marketing and social media. Many │           │           │           │\n",
       "│\u001b[2m                      \u001b[0m│           │ in the industry believe that this is     │           │           │           │\n",
       "│\u001b[2m                      \u001b[0m│           │ what new artists should target.          │           │           │           │\n",
       "└──────────────────────┴───────────┴──────────────────────────────────────────┴───────────┴───────────┴───────────┘\n"
      ]
     },
     "metadata": {},
     "output_type": "display_data"
    },
    {
     "data": {
      "text/html": [
       "<pre style=\"white-space:pre;overflow-x:auto;line-height:normal;font-family:Menlo,'DejaVu Sans Mono',consolas,'Courier New',monospace\">\n",
       "<span style=\"color: #000080; text-decoration-color: #000080; font-weight: bold\">Results for boostCategory Scoring Profile:</span>\n",
       "</pre>\n"
      ],
      "text/plain": [
       "\n",
       "\u001b[1;34mResults for boostCategory Scoring Profile:\u001b[0m\n"
      ]
     },
     "metadata": {},
     "output_type": "display_data"
    },
    {
     "data": {
      "text/html": [
       "<pre style=\"white-space:pre;overflow-x:auto;line-height:normal;font-family:Menlo,'DejaVu Sans Mono',consolas,'Courier New',monospace\">┏━━━━━━━━━━━━━━━━━━━━━━┳━━━━━━━━━━━┳━━━━━━━━━━━━━━━━━━━━━━━━━━━━━━━━━━━━━━━━━━┳━━━━━━━━━━━┳━━━━━━━━━━━┳━━━━━━━━━━━┓\n",
       "┃<span style=\"color: #800080; text-decoration-color: #800080; font-weight: bold\"> Headline             </span>┃<span style=\"color: #800080; text-decoration-color: #800080; font-weight: bold\"> Score     </span>┃<span style=\"color: #800080; text-decoration-color: #800080; font-weight: bold\"> Description                              </span>┃<span style=\"color: #800080; text-decoration-color: #800080; font-weight: bold\"> Category  </span>┃<span style=\"color: #800080; text-decoration-color: #800080; font-weight: bold\"> Date      </span>┃<span style=\"color: #800080; text-decoration-color: #800080; font-weight: bold\"> Link      </span>┃\n",
       "┡━━━━━━━━━━━━━━━━━━━━━━╇━━━━━━━━━━━╇━━━━━━━━━━━━━━━━━━━━━━━━━━━━━━━━━━━━━━━━━━╇━━━━━━━━━━━╇━━━━━━━━━━━╇━━━━━━━━━━━┩\n",
       "│<span style=\"color: #7f7f7f; text-decoration-color: #7f7f7f\"> Hollywood &amp; Vine:    </span>│ 0.032051… │                                          │ ENTERTAI… │ 2014-12-… │ <a href=\"https://www.huffingtonpost.comhttp://www.newyorker.com/magazine/2014/12/15/hollywood-vine\" target=\"_blank\">https://…</a> │\n",
       "│<span style=\"color: #7f7f7f; text-decoration-color: #7f7f7f\"> The Entertainment    </span>│           │                                          │           │           │           │\n",
       "│<span style=\"color: #7f7f7f; text-decoration-color: #7f7f7f\"> Industry Seeks The   </span>│           │                                          │           │           │           │\n",
       "│<span style=\"color: #7f7f7f; text-decoration-color: #7f7f7f\"> Future In Viral      </span>│           │                                          │           │           │           │\n",
       "│<span style=\"color: #7f7f7f; text-decoration-color: #7f7f7f\"> Video                </span>│           │                                          │           │           │           │\n",
       "│<span style=\"color: #7f7f7f; text-decoration-color: #7f7f7f\"> Is Music Dead?       </span>│ 0.029709… │ We live in an era when the music         │ ENTERTAI… │ 2015-04-… │ <a href=\"https://www.huffingtonpost.com/entry/is-music-dead-thoughts-on_b_7037212.html\" target=\"_blank\">https://…</a> │\n",
       "│<span style=\"color: #7f7f7f; text-decoration-color: #7f7f7f\"> (Thoughts on the     </span>│           │ industry changes track almost every six  │           │           │           │\n",
       "│<span style=\"color: #7f7f7f; text-decoration-color: #7f7f7f\"> Music Industry After </span>│           │ months. The reason is the grown of       │           │           │           │\n",
       "│<span style=\"color: #7f7f7f; text-decoration-color: #7f7f7f\"> SXSW 2015)           </span>│           │ digital marketing and social media. Many │           │           │           │\n",
       "│<span style=\"color: #7f7f7f; text-decoration-color: #7f7f7f\">                      </span>│           │ in the industry believe that this is     │           │           │           │\n",
       "│<span style=\"color: #7f7f7f; text-decoration-color: #7f7f7f\">                      </span>│           │ what new artists should target.          │           │           │           │\n",
       "│<span style=\"color: #7f7f7f; text-decoration-color: #7f7f7f\"> Maisie Williams      </span>│ 0.016666… │ Enough with \"the girlfriend\" roles.      │ ENTERTAI… │ 2015-08-… │ <a href=\"https://www.huffingtonpost.com/entry/maisie-williams-calls-out-sexism-in-the-entertainment-industry_us_55d8d313e4b08cd3359c54c7\" target=\"_blank\">https://…</a> │\n",
       "│<span style=\"color: #7f7f7f; text-decoration-color: #7f7f7f\"> Calls Out Sexism In  </span>│           │                                          │           │           │           │\n",
       "│<span style=\"color: #7f7f7f; text-decoration-color: #7f7f7f\"> The Entertainment    </span>│           │                                          │           │           │           │\n",
       "│<span style=\"color: #7f7f7f; text-decoration-color: #7f7f7f\"> Industry             </span>│           │                                          │           │           │           │\n",
       "└──────────────────────┴───────────┴──────────────────────────────────────────┴───────────┴───────────┴───────────┘\n",
       "</pre>\n"
      ],
      "text/plain": [
       "┏━━━━━━━━━━━━━━━━━━━━━━┳━━━━━━━━━━━┳━━━━━━━━━━━━━━━━━━━━━━━━━━━━━━━━━━━━━━━━━━┳━━━━━━━━━━━┳━━━━━━━━━━━┳━━━━━━━━━━━┓\n",
       "┃\u001b[1;35m \u001b[0m\u001b[1;35mHeadline            \u001b[0m\u001b[1;35m \u001b[0m┃\u001b[1;35m \u001b[0m\u001b[1;35mScore    \u001b[0m\u001b[1;35m \u001b[0m┃\u001b[1;35m \u001b[0m\u001b[1;35mDescription                             \u001b[0m\u001b[1;35m \u001b[0m┃\u001b[1;35m \u001b[0m\u001b[1;35mCategory \u001b[0m\u001b[1;35m \u001b[0m┃\u001b[1;35m \u001b[0m\u001b[1;35mDate     \u001b[0m\u001b[1;35m \u001b[0m┃\u001b[1;35m \u001b[0m\u001b[1;35mLink     \u001b[0m\u001b[1;35m \u001b[0m┃\n",
       "┡━━━━━━━━━━━━━━━━━━━━━━╇━━━━━━━━━━━╇━━━━━━━━━━━━━━━━━━━━━━━━━━━━━━━━━━━━━━━━━━╇━━━━━━━━━━━╇━━━━━━━━━━━╇━━━━━━━━━━━┩\n",
       "│\u001b[2m \u001b[0m\u001b[2mHollywood & Vine:   \u001b[0m\u001b[2m \u001b[0m│ 0.032051… │                                          │ ENTERTAI… │ 2014-12-… │ \u001b]8;id=887328;https://www.huffingtonpost.comhttp://www.newyorker.com/magazine/2014/12/15/hollywood-vine\u001b\\https://…\u001b]8;;\u001b\\ │\n",
       "│\u001b[2m \u001b[0m\u001b[2mThe Entertainment   \u001b[0m\u001b[2m \u001b[0m│           │                                          │           │           │           │\n",
       "│\u001b[2m \u001b[0m\u001b[2mIndustry Seeks The  \u001b[0m\u001b[2m \u001b[0m│           │                                          │           │           │           │\n",
       "│\u001b[2m \u001b[0m\u001b[2mFuture In Viral     \u001b[0m\u001b[2m \u001b[0m│           │                                          │           │           │           │\n",
       "│\u001b[2m \u001b[0m\u001b[2mVideo               \u001b[0m\u001b[2m \u001b[0m│           │                                          │           │           │           │\n",
       "│\u001b[2m \u001b[0m\u001b[2mIs Music Dead?      \u001b[0m\u001b[2m \u001b[0m│ 0.029709… │ We live in an era when the music         │ ENTERTAI… │ 2015-04-… │ \u001b]8;id=678041;https://www.huffingtonpost.com/entry/is-music-dead-thoughts-on_b_7037212.html\u001b\\https://…\u001b]8;;\u001b\\ │\n",
       "│\u001b[2m \u001b[0m\u001b[2m(Thoughts on the    \u001b[0m\u001b[2m \u001b[0m│           │ industry changes track almost every six  │           │           │           │\n",
       "│\u001b[2m \u001b[0m\u001b[2mMusic Industry After\u001b[0m\u001b[2m \u001b[0m│           │ months. The reason is the grown of       │           │           │           │\n",
       "│\u001b[2m \u001b[0m\u001b[2mSXSW 2015)          \u001b[0m\u001b[2m \u001b[0m│           │ digital marketing and social media. Many │           │           │           │\n",
       "│\u001b[2m                      \u001b[0m│           │ in the industry believe that this is     │           │           │           │\n",
       "│\u001b[2m                      \u001b[0m│           │ what new artists should target.          │           │           │           │\n",
       "│\u001b[2m \u001b[0m\u001b[2mMaisie Williams     \u001b[0m\u001b[2m \u001b[0m│ 0.016666… │ Enough with \"the girlfriend\" roles.      │ ENTERTAI… │ 2015-08-… │ \u001b]8;id=106337;https://www.huffingtonpost.com/entry/maisie-williams-calls-out-sexism-in-the-entertainment-industry_us_55d8d313e4b08cd3359c54c7\u001b\\https://…\u001b]8;;\u001b\\ │\n",
       "│\u001b[2m \u001b[0m\u001b[2mCalls Out Sexism In \u001b[0m\u001b[2m \u001b[0m│           │                                          │           │           │           │\n",
       "│\u001b[2m \u001b[0m\u001b[2mThe Entertainment   \u001b[0m\u001b[2m \u001b[0m│           │                                          │           │           │           │\n",
       "│\u001b[2m \u001b[0m\u001b[2mIndustry            \u001b[0m\u001b[2m \u001b[0m│           │                                          │           │           │           │\n",
       "└──────────────────────┴───────────┴──────────────────────────────────────────┴───────────┴───────────┴───────────┘\n"
      ]
     },
     "metadata": {},
     "output_type": "display_data"
    }
   ],
   "source": [
    "def search_and_print_results(scoring_profile=None):\n",
    "    query = \"Entertainment Industry Trends\"\n",
    "    vector_query = VectorizableTextQuery(\n",
    "        text=query, k_nearest_neighbors=50, fields=\"vector\", exhaustive=True\n",
    "    )\n",
    "    results = search_client.search(\n",
    "        search_text=query, # passing in text query for hybrid search\n",
    "        vector_queries=[vector_query],\n",
    "        scoring_profile=scoring_profile,\n",
    "        top=3,\n",
    "    )\n",
    "\n",
    "    profile_name = scoring_profile if scoring_profile else 'Vanilla (No Scoring Profile)'\n",
    "    console.print(f\"\\nResults for {profile_name} Scoring Profile:\", style=\"bold blue\")\n",
    "\n",
    "    # Create a table for the results\n",
    "    table = Table(show_header=True, header_style=\"bold magenta\")\n",
    "    table.add_column(\"Headline\", style=\"dim\", width=20)\n",
    "    table.add_column(\"Score\")\n",
    "    table.add_column(\"Description\", width=40)\n",
    "    table.add_column(\"Category\")\n",
    "    table.add_column(\"Date\")\n",
    "    table.add_column(\"Link\")\n",
    "\n",
    "    for result in results:\n",
    "        # Format the link as a clickable hyperlink\n",
    "        link_text = Text(result['link'], style=\"link\")\n",
    "        link_text.stylize(f\"link {result['link']}\")\n",
    "\n",
    "        table.add_row(\n",
    "            result['headline'],\n",
    "            str(result['@search.score']),\n",
    "            result['short_description'],\n",
    "            result['category'],\n",
    "            result['date'],\n",
    "            link_text  # Use the formatted link text here\n",
    "        )\n",
    "\n",
    "    # Print the table\n",
    "    console.print(table)\n",
    "\n",
    "# Perform searches with and without the freshness scoring profile\n",
    "search_and_print_results()  # Vanilla query without any scoring profile\n",
    "search_and_print_results(\"boostCategory\")"
   ]
  },
  {
   "cell_type": "markdown",
   "metadata": {},
   "source": [
    "When the `boostCategory` scoring profile is applied, the search results prioritize articles within the specified category, as demonstrated by the higher ranking of articles categorized under ENTERTAINMENT. For example, the top three results include articles like \"Hollywood & Vine: The Entertainment Industry Seeks The Future In Viral Video\" and \"Is Music Dead? (Thoughts on the Music Industry After SXSW 2015)\", which are directly related to the entertainment industry. In contrast, a vanilla query without any scoring profile returns results based on default relevance, where articles from unrelated categories like WEDDINGS also appear in the top results. This illustrates the effectiveness of the category boosting scoring profile in promoting content that is more relevant to the specified category.\n",
    "\n",
    "#### Use Cases for Category Boosting\n",
    "\n",
    "- **E-commerce Sites:** Highlight products within a specific category, helping customers find items relevant to their search more easily.\n",
    "- **News Websites:** Prioritize articles within the user's preferred news categories, such as sports, politics, or entertainment.\n",
    "- **Content Platforms:** Promote articles, blogs, or videos in a specific category, improving user engagement by showing content aligned with their interests.\n",
    "- **Library and Database Searches:** Enhance the relevance of search results by prioritizing documents, books, or papers within a specified academic or professional field.\n",
    "- **Streaming Services:** Surface movies, shows, or music within a specific genre or category, providing users with more tailored recommendations.\n",
    "- **Customer Support:** Prioritize support articles and FAQs related to a specific product or issue, helping users find relevant solutions faster.\n",
    "\n",
    "#### Why Customers Might Use Category Boosting\n",
    "\n",
    "- **Improved User Experience:** Users receive more relevant search results, improving satisfaction and engagement.\n",
    "- **Focused Content Delivery:** Ensures that users see content related to their interests or needs, enhancing relevance and usability.\n",
    "- **Enhanced Discoverability:** Makes it easier for users to discover content within their areas of interest, potentially increasing time spent on the platform.\n",
    "- **Targeted Marketing:** Allows businesses to highlight specific categories of products or services, driving targeted marketing efforts.\n",
    "- **Efficient Information Retrieval:** Helps users quickly find relevant information within large datasets, improving efficiency and satisfaction.\n",
    "- **Contextual Relevance:** Aligns search results with the user's context and preferences, ensuring a more personalized experience.\n"
   ]
  },
  {
   "cell_type": "markdown",
   "metadata": {},
   "source": [
    "### Tag Boosting\n",
    "Apply tag-based boosting to promote content aligned with specific tags."
   ]
  },
  {
   "cell_type": "code",
   "execution_count": 107,
   "metadata": {},
   "outputs": [
    {
     "data": {
      "text/html": [
       "<pre style=\"white-space:pre;overflow-x:auto;line-height:normal;font-family:Menlo,'DejaVu Sans Mono',consolas,'Courier New',monospace\">\n",
       "<span style=\"color: #000080; text-decoration-color: #000080; font-weight: bold\">Results for Vanilla (No Scoring Profile) Scoring Profile:</span>\n",
       "</pre>\n"
      ],
      "text/plain": [
       "\n",
       "\u001b[1;34mResults for Vanilla \u001b[0m\u001b[1;34m(\u001b[0m\u001b[1;34mNo Scoring Profile\u001b[0m\u001b[1;34m)\u001b[0m\u001b[1;34m Scoring Profile:\u001b[0m\n"
      ]
     },
     "metadata": {},
     "output_type": "display_data"
    },
    {
     "data": {
      "text/html": [
       "<pre style=\"white-space:pre;overflow-x:auto;line-height:normal;font-family:Menlo,'DejaVu Sans Mono',consolas,'Courier New',monospace\">┏━━━━━━━━━━━━━━━━━━━━━━┳━━━━━━━━━━━┳━━━━━━━━━━━━━━━━━━━━━━━━━━━━━━━━━━━━━━━━━━┳━━━━━━━━━━┳━━━━━━━━━━━━┳━━━━━━━━━━━┓\n",
       "┃<span style=\"color: #800080; text-decoration-color: #800080; font-weight: bold\"> Headline             </span>┃<span style=\"color: #800080; text-decoration-color: #800080; font-weight: bold\"> Score     </span>┃<span style=\"color: #800080; text-decoration-color: #800080; font-weight: bold\"> Description                              </span>┃<span style=\"color: #800080; text-decoration-color: #800080; font-weight: bold\"> Category </span>┃<span style=\"color: #800080; text-decoration-color: #800080; font-weight: bold\"> Date       </span>┃<span style=\"color: #800080; text-decoration-color: #800080; font-weight: bold\"> Link      </span>┃\n",
       "┡━━━━━━━━━━━━━━━━━━━━━━╇━━━━━━━━━━━╇━━━━━━━━━━━━━━━━━━━━━━━━━━━━━━━━━━━━━━━━━━╇━━━━━━━━━━╇━━━━━━━━━━━━╇━━━━━━━━━━━┩\n",
       "│<span style=\"color: #7f7f7f; text-decoration-color: #7f7f7f\"> Banking Outlook      </span>│ 0.670451… │ Thanks to two major X factors -- the     │ MONEY    │ 2012-12-1… │ <a href=\"https://www.huffingtonpost.com/entry/banking-outlook-2013-8-th_us_5b9c9dd2e4b03a1dcc80520f\" target=\"_blank\">https://…</a> │\n",
       "│<span style=\"color: #7f7f7f; text-decoration-color: #7f7f7f\"> 2013: 8 Things to    </span>│           │ fiscal cliff and new bank capitalization │          │            │           │\n",
       "│<span style=\"color: #7f7f7f; text-decoration-color: #7f7f7f\"> Watch                </span>│           │ standards -- 2013 could be the most      │          │            │           │\n",
       "│<span style=\"color: #7f7f7f; text-decoration-color: #7f7f7f\">                      </span>│           │ eventful period for the banking industry │          │            │           │\n",
       "│<span style=\"color: #7f7f7f; text-decoration-color: #7f7f7f\">                      </span>│           │ since the crisis years of 2008 and 2009. │          │            │           │\n",
       "│<span style=\"color: #7f7f7f; text-decoration-color: #7f7f7f\">                      </span>│           │ Here are eight key things to watch.      │          │            │           │\n",
       "│<span style=\"color: #7f7f7f; text-decoration-color: #7f7f7f\"> What's the Future of </span>│ 0.667789… │ With the rise in technology and the      │ BUSINESS │ 2013-05-0… │ <a href=\"https://www.huffingtonpost.com/entry/whats-the-future-of-retai_us_5bb2f2f4e4b0480ca65f4fab\" target=\"_blank\">https://…</a> │\n",
       "│<span style=\"color: #7f7f7f; text-decoration-color: #7f7f7f\"> Retail Banking?      </span>│           │ changing nature of how people shop for   │          │            │           │\n",
       "│<span style=\"color: #7f7f7f; text-decoration-color: #7f7f7f\">                      </span>│           │ financial products, has your local bank  │          │            │           │\n",
       "│<span style=\"color: #7f7f7f; text-decoration-color: #7f7f7f\">                      </span>│           │ branch become irrelevant?                │          │            │           │\n",
       "│<span style=\"color: #7f7f7f; text-decoration-color: #7f7f7f\"> Future Shock:        </span>│ 0.6523469 │ To the land of way beyond? Beyond        │ MONEY    │ 2014-03-2… │ <a href=\"https://www.huffingtonpost.com/entry/future-shockpersonal-fina_us_5b9df118e4b03a1dcc8f2e62\" target=\"_blank\">https://…</a> │\n",
       "│<span style=\"color: #7f7f7f; text-decoration-color: #7f7f7f\"> Personal Finance     </span>│           │ banking and beyond receipts, there is    │          │            │           │\n",
       "│<span style=\"color: #7f7f7f; text-decoration-color: #7f7f7f\"> Technology           </span>│           │ also a growing trend towards alternative │          │            │           │\n",
       "│<span style=\"color: #7f7f7f; text-decoration-color: #7f7f7f\">                      </span>│           │ payment                                  │          │            │           │\n",
       "└──────────────────────┴───────────┴──────────────────────────────────────────┴──────────┴────────────┴───────────┘\n",
       "</pre>\n"
      ],
      "text/plain": [
       "┏━━━━━━━━━━━━━━━━━━━━━━┳━━━━━━━━━━━┳━━━━━━━━━━━━━━━━━━━━━━━━━━━━━━━━━━━━━━━━━━┳━━━━━━━━━━┳━━━━━━━━━━━━┳━━━━━━━━━━━┓\n",
       "┃\u001b[1;35m \u001b[0m\u001b[1;35mHeadline            \u001b[0m\u001b[1;35m \u001b[0m┃\u001b[1;35m \u001b[0m\u001b[1;35mScore    \u001b[0m\u001b[1;35m \u001b[0m┃\u001b[1;35m \u001b[0m\u001b[1;35mDescription                             \u001b[0m\u001b[1;35m \u001b[0m┃\u001b[1;35m \u001b[0m\u001b[1;35mCategory\u001b[0m\u001b[1;35m \u001b[0m┃\u001b[1;35m \u001b[0m\u001b[1;35mDate      \u001b[0m\u001b[1;35m \u001b[0m┃\u001b[1;35m \u001b[0m\u001b[1;35mLink     \u001b[0m\u001b[1;35m \u001b[0m┃\n",
       "┡━━━━━━━━━━━━━━━━━━━━━━╇━━━━━━━━━━━╇━━━━━━━━━━━━━━━━━━━━━━━━━━━━━━━━━━━━━━━━━━╇━━━━━━━━━━╇━━━━━━━━━━━━╇━━━━━━━━━━━┩\n",
       "│\u001b[2m \u001b[0m\u001b[2mBanking Outlook     \u001b[0m\u001b[2m \u001b[0m│ 0.670451… │ Thanks to two major X factors -- the     │ MONEY    │ 2012-12-1… │ \u001b]8;id=390097;https://www.huffingtonpost.com/entry/banking-outlook-2013-8-th_us_5b9c9dd2e4b03a1dcc80520f\u001b\\https://…\u001b]8;;\u001b\\ │\n",
       "│\u001b[2m \u001b[0m\u001b[2m2013: 8 Things to   \u001b[0m\u001b[2m \u001b[0m│           │ fiscal cliff and new bank capitalization │          │            │           │\n",
       "│\u001b[2m \u001b[0m\u001b[2mWatch               \u001b[0m\u001b[2m \u001b[0m│           │ standards -- 2013 could be the most      │          │            │           │\n",
       "│\u001b[2m                      \u001b[0m│           │ eventful period for the banking industry │          │            │           │\n",
       "│\u001b[2m                      \u001b[0m│           │ since the crisis years of 2008 and 2009. │          │            │           │\n",
       "│\u001b[2m                      \u001b[0m│           │ Here are eight key things to watch.      │          │            │           │\n",
       "│\u001b[2m \u001b[0m\u001b[2mWhat's the Future of\u001b[0m\u001b[2m \u001b[0m│ 0.667789… │ With the rise in technology and the      │ BUSINESS │ 2013-05-0… │ \u001b]8;id=689918;https://www.huffingtonpost.com/entry/whats-the-future-of-retai_us_5bb2f2f4e4b0480ca65f4fab\u001b\\https://…\u001b]8;;\u001b\\ │\n",
       "│\u001b[2m \u001b[0m\u001b[2mRetail Banking?     \u001b[0m\u001b[2m \u001b[0m│           │ changing nature of how people shop for   │          │            │           │\n",
       "│\u001b[2m                      \u001b[0m│           │ financial products, has your local bank  │          │            │           │\n",
       "│\u001b[2m                      \u001b[0m│           │ branch become irrelevant?                │          │            │           │\n",
       "│\u001b[2m \u001b[0m\u001b[2mFuture Shock:       \u001b[0m\u001b[2m \u001b[0m│ 0.6523469 │ To the land of way beyond? Beyond        │ MONEY    │ 2014-03-2… │ \u001b]8;id=156879;https://www.huffingtonpost.com/entry/future-shockpersonal-fina_us_5b9df118e4b03a1dcc8f2e62\u001b\\https://…\u001b]8;;\u001b\\ │\n",
       "│\u001b[2m \u001b[0m\u001b[2mPersonal Finance    \u001b[0m\u001b[2m \u001b[0m│           │ banking and beyond receipts, there is    │          │            │           │\n",
       "│\u001b[2m \u001b[0m\u001b[2mTechnology          \u001b[0m\u001b[2m \u001b[0m│           │ also a growing trend towards alternative │          │            │           │\n",
       "│\u001b[2m                      \u001b[0m│           │ payment                                  │          │            │           │\n",
       "└──────────────────────┴───────────┴──────────────────────────────────────────┴──────────┴────────────┴───────────┘\n"
      ]
     },
     "metadata": {},
     "output_type": "display_data"
    },
    {
     "data": {
      "text/html": [
       "<pre style=\"white-space:pre;overflow-x:auto;line-height:normal;font-family:Menlo,'DejaVu Sans Mono',consolas,'Courier New',monospace\">\n",
       "<span style=\"color: #000080; text-decoration-color: #000080; font-weight: bold\">Results for boostByTag Scoring Profile:</span>\n",
       "</pre>\n"
      ],
      "text/plain": [
       "\n",
       "\u001b[1;34mResults for boostByTag Scoring Profile:\u001b[0m\n"
      ]
     },
     "metadata": {},
     "output_type": "display_data"
    },
    {
     "data": {
      "text/html": [
       "<pre style=\"white-space:pre;overflow-x:auto;line-height:normal;font-family:Menlo,'DejaVu Sans Mono',consolas,'Courier New',monospace\">┏━━━━━━━━━━━━━━━━━━━━━━┳━━━━━━━━━━━┳━━━━━━━━━━━━━━━━━━━━━━━━━━━━━━━━━━━━━━━━━━┳━━━━━━━━━━┳━━━━━━━━━━━━┳━━━━━━━━━━━┓\n",
       "┃<span style=\"color: #800080; text-decoration-color: #800080; font-weight: bold\"> Headline             </span>┃<span style=\"color: #800080; text-decoration-color: #800080; font-weight: bold\"> Score     </span>┃<span style=\"color: #800080; text-decoration-color: #800080; font-weight: bold\"> Description                              </span>┃<span style=\"color: #800080; text-decoration-color: #800080; font-weight: bold\"> Category </span>┃<span style=\"color: #800080; text-decoration-color: #800080; font-weight: bold\"> Date       </span>┃<span style=\"color: #800080; text-decoration-color: #800080; font-weight: bold\"> Link      </span>┃\n",
       "┡━━━━━━━━━━━━━━━━━━━━━━╇━━━━━━━━━━━╇━━━━━━━━━━━━━━━━━━━━━━━━━━━━━━━━━━━━━━━━━━╇━━━━━━━━━━╇━━━━━━━━━━━━╇━━━━━━━━━━━┩\n",
       "│<span style=\"color: #7f7f7f; text-decoration-color: #7f7f7f\"> What's the Future of </span>│ 1.335579… │ With the rise in technology and the      │ BUSINESS │ 2013-05-0… │ <a href=\"https://www.huffingtonpost.com/entry/whats-the-future-of-retai_us_5bb2f2f4e4b0480ca65f4fab\" target=\"_blank\">https://…</a> │\n",
       "│<span style=\"color: #7f7f7f; text-decoration-color: #7f7f7f\"> Retail Banking?      </span>│           │ changing nature of how people shop for   │          │            │           │\n",
       "│<span style=\"color: #7f7f7f; text-decoration-color: #7f7f7f\">                      </span>│           │ financial products, has your local bank  │          │            │           │\n",
       "│<span style=\"color: #7f7f7f; text-decoration-color: #7f7f7f\">                      </span>│           │ branch become irrelevant?                │          │            │           │\n",
       "│<span style=\"color: #7f7f7f; text-decoration-color: #7f7f7f\"> Banking Saves Health </span>│ 1.297899… │ The problem that confronts health care   │ BUSINESS │ 2014-11-0… │ <a href=\"https://www.huffingtonpost.com/entry/banking-saves-healthcare_b_6118578.html\" target=\"_blank\">https://…</a> │\n",
       "│<span style=\"color: #7f7f7f; text-decoration-color: #7f7f7f\"> Care                 </span>│           │ represents a lucrative business          │          │            │           │\n",
       "│<span style=\"color: #7f7f7f; text-decoration-color: #7f7f7f\">                      </span>│           │ opportunity for the industry that does   │          │            │           │\n",
       "│<span style=\"color: #7f7f7f; text-decoration-color: #7f7f7f\">                      </span>│           │ data transaction best: banking.          │          │            │           │\n",
       "│<span style=\"color: #7f7f7f; text-decoration-color: #7f7f7f\"> How The Payment      </span>│ 1.296100… │                                          │ BUSINESS │ 2016-07-0… │ <a href=\"https://www.huffingtonpost.com/entry/how-the-payment-industry_b_10904240.html\" target=\"_blank\">https://…</a> │\n",
       "│<span style=\"color: #7f7f7f; text-decoration-color: #7f7f7f\"> Industry Is          </span>│           │                                          │          │            │           │\n",
       "│<span style=\"color: #7f7f7f; text-decoration-color: #7f7f7f\"> Innovating In 2016   </span>│           │                                          │          │            │           │\n",
       "└──────────────────────┴───────────┴──────────────────────────────────────────┴──────────┴────────────┴───────────┘\n",
       "</pre>\n"
      ],
      "text/plain": [
       "┏━━━━━━━━━━━━━━━━━━━━━━┳━━━━━━━━━━━┳━━━━━━━━━━━━━━━━━━━━━━━━━━━━━━━━━━━━━━━━━━┳━━━━━━━━━━┳━━━━━━━━━━━━┳━━━━━━━━━━━┓\n",
       "┃\u001b[1;35m \u001b[0m\u001b[1;35mHeadline            \u001b[0m\u001b[1;35m \u001b[0m┃\u001b[1;35m \u001b[0m\u001b[1;35mScore    \u001b[0m\u001b[1;35m \u001b[0m┃\u001b[1;35m \u001b[0m\u001b[1;35mDescription                             \u001b[0m\u001b[1;35m \u001b[0m┃\u001b[1;35m \u001b[0m\u001b[1;35mCategory\u001b[0m\u001b[1;35m \u001b[0m┃\u001b[1;35m \u001b[0m\u001b[1;35mDate      \u001b[0m\u001b[1;35m \u001b[0m┃\u001b[1;35m \u001b[0m\u001b[1;35mLink     \u001b[0m\u001b[1;35m \u001b[0m┃\n",
       "┡━━━━━━━━━━━━━━━━━━━━━━╇━━━━━━━━━━━╇━━━━━━━━━━━━━━━━━━━━━━━━━━━━━━━━━━━━━━━━━━╇━━━━━━━━━━╇━━━━━━━━━━━━╇━━━━━━━━━━━┩\n",
       "│\u001b[2m \u001b[0m\u001b[2mWhat's the Future of\u001b[0m\u001b[2m \u001b[0m│ 1.335579… │ With the rise in technology and the      │ BUSINESS │ 2013-05-0… │ \u001b]8;id=507193;https://www.huffingtonpost.com/entry/whats-the-future-of-retai_us_5bb2f2f4e4b0480ca65f4fab\u001b\\https://…\u001b]8;;\u001b\\ │\n",
       "│\u001b[2m \u001b[0m\u001b[2mRetail Banking?     \u001b[0m\u001b[2m \u001b[0m│           │ changing nature of how people shop for   │          │            │           │\n",
       "│\u001b[2m                      \u001b[0m│           │ financial products, has your local bank  │          │            │           │\n",
       "│\u001b[2m                      \u001b[0m│           │ branch become irrelevant?                │          │            │           │\n",
       "│\u001b[2m \u001b[0m\u001b[2mBanking Saves Health\u001b[0m\u001b[2m \u001b[0m│ 1.297899… │ The problem that confronts health care   │ BUSINESS │ 2014-11-0… │ \u001b]8;id=703246;https://www.huffingtonpost.com/entry/banking-saves-healthcare_b_6118578.html\u001b\\https://…\u001b]8;;\u001b\\ │\n",
       "│\u001b[2m \u001b[0m\u001b[2mCare                \u001b[0m\u001b[2m \u001b[0m│           │ represents a lucrative business          │          │            │           │\n",
       "│\u001b[2m                      \u001b[0m│           │ opportunity for the industry that does   │          │            │           │\n",
       "│\u001b[2m                      \u001b[0m│           │ data transaction best: banking.          │          │            │           │\n",
       "│\u001b[2m \u001b[0m\u001b[2mHow The Payment     \u001b[0m\u001b[2m \u001b[0m│ 1.296100… │                                          │ BUSINESS │ 2016-07-0… │ \u001b]8;id=129435;https://www.huffingtonpost.com/entry/how-the-payment-industry_b_10904240.html\u001b\\https://…\u001b]8;;\u001b\\ │\n",
       "│\u001b[2m \u001b[0m\u001b[2mIndustry Is         \u001b[0m\u001b[2m \u001b[0m│           │                                          │          │            │           │\n",
       "│\u001b[2m \u001b[0m\u001b[2mInnovating In 2016  \u001b[0m\u001b[2m \u001b[0m│           │                                          │          │            │           │\n",
       "└──────────────────────┴───────────┴──────────────────────────────────────────┴──────────┴────────────┴───────────┘\n"
      ]
     },
     "metadata": {},
     "output_type": "display_data"
    }
   ],
   "source": [
    "def search_and_print_results(scoring_profile=None):\n",
    "    query = \"what are the hottest trends in the banking business industry\"\n",
    "    tags = \"BUSINESS\"  \n",
    "    vector_query = VectorizableTextQuery(\n",
    "        text=query, k_nearest_neighbors=50, fields=\"vector\", exhaustive=True\n",
    "    )\n",
    "\n",
    "    # Prepare the search parameters\n",
    "    search_params = {\n",
    "        \"search_text\": None,  \n",
    "        \"vector_queries\": [vector_query],\n",
    "        \"scoring_profile\": scoring_profile,\n",
    "        \"top\": 3,\n",
    "    }\n",
    "\n",
    "    # Conditionally add scoring_parameters if a scoring_profile is specified\n",
    "    if scoring_profile:\n",
    "        search_params[\"scoring_parameters\"] = {\"tags-BUSINESS\": tags}\n",
    "\n",
    "    results = search_client.search(**search_params)\n",
    "\n",
    "    profile_name = (\n",
    "        scoring_profile if scoring_profile else \"Vanilla (No Scoring Profile)\"\n",
    "    )\n",
    "    console.print(f\"\\nResults for {profile_name} Scoring Profile:\", style=\"bold blue\")\n",
    "\n",
    "    # Create a table for the results\n",
    "    table = Table(show_header=True, header_style=\"bold magenta\")\n",
    "    table.add_column(\"Headline\", style=\"dim\", width=20)\n",
    "    table.add_column(\"Score\")\n",
    "    table.add_column(\"Description\", width=40)\n",
    "    table.add_column(\"Category\")\n",
    "    table.add_column(\"Date\")\n",
    "    table.add_column(\"Link\")\n",
    "\n",
    "    for result in results:\n",
    "        # Format the link as a clickable hyperlink\n",
    "        link_text = Text(result[\"link\"], style=\"link\")\n",
    "        link_text.stylize(f\"link {result['link']}\")\n",
    "\n",
    "        table.add_row(\n",
    "            result[\"headline\"],\n",
    "            str(result[\"@search.score\"]),\n",
    "            result[\"short_description\"],\n",
    "            result[\"category\"],\n",
    "            result[\"date\"],\n",
    "            link_text,  # Use the formatted link text here\n",
    "        )\n",
    "\n",
    "    # Print the table\n",
    "    console.print(table)\n",
    "\n",
    "\n",
    "# Perform searches with and without the freshness scoring profile\n",
    "search_and_print_results()  # Vanilla query without any scoring profile\n",
    "search_and_print_results(\"boostByTag\")"
   ]
  },
  {
   "cell_type": "markdown",
   "metadata": {},
   "source": [
    "When the `boostByTag` scoring profile is applied with the tag \"BUSINESS,\" the search results prioritize articles related to the specified tag. For example, articles such as \"What's the Future of Retail Banking?\" and \"Banking Saves Health Care,\" which are directly related to the business category, rank higher. In contrast, a vanilla query without any scoring profile returns results based on default relevance, where articles from other categories like MONEY also appear in the top results. This demonstrates the effectiveness of the tag boosting scoring profile in promoting content that is more relevant to the specified tag.\n",
    "\n",
    "#### Use Cases for Tag Boosting\n",
    "\n",
    "- **E-commerce Sites:** Highlight products tagged with specific attributes, helping customers find items with desired features or characteristics.\n",
    "- **News Websites:** Prioritize articles within specific tags such as economy, politics, or technology, improving user engagement by showing relevant content.\n",
    "- **Content Platforms:** Promote content tagged with specific topics or keywords, ensuring users see articles, blogs, or videos that match their interests.\n",
    "- **Knowledge Bases:** Enhance search results by prioritizing documents tagged with relevant topics, helping users find the most pertinent information quickly.\n",
    "- **Streaming Services:** Surface media content tagged with specific genres or themes, providing users with tailored recommendations.\n",
    "- **Marketing Campaigns:** Focus on promoting content tagged with campaign-specific keywords, ensuring targeted marketing efforts are more effective.\n",
    "\n",
    "#### Why Customers Might Use Tag Boosting\n",
    "\n",
    "- **Improved User Experience:** Users receive more relevant search results based on specific tags, improving satisfaction and engagement.\n",
    "- **Focused Content Delivery:** Ensures that users see content related to their interests or needs, enhancing relevance and usability.\n",
    "- **Enhanced Discoverability:** Makes it easier for users to discover content within their areas of interest, potentially increasing time spent on the platform.\n",
    "- **Targeted Marketing:** Allows businesses to highlight specific categories of products or services, driving targeted marketing efforts.\n",
    "- **Efficient Information Retrieval:** Helps users quickly find relevant information within large datasets, improving efficiency and satisfaction.\n",
    "- **Contextual Relevance:** Aligns search results with the user's context and preferences, ensuring a more personalized experience.\n"
   ]
  },
  {
   "cell_type": "markdown",
   "metadata": {},
   "source": [
    "### Magnitude Boosting\n",
    "Apply magnitude boosting based on the view count field to promote popular content.\n"
   ]
  },
  {
   "cell_type": "code",
   "execution_count": 35,
   "metadata": {},
   "outputs": [
    {
     "data": {
      "text/html": [
       "<pre style=\"white-space:pre;overflow-x:auto;line-height:normal;font-family:Menlo,'DejaVu Sans Mono',consolas,'Courier New',monospace\">\n",
       "<span style=\"color: #000080; text-decoration-color: #000080; font-weight: bold\">Results for Vanilla (No Scoring Profile) Scoring Profile:</span>\n",
       "</pre>\n"
      ],
      "text/plain": [
       "\n",
       "\u001b[1;34mResults for Vanilla \u001b[0m\u001b[1;34m(\u001b[0m\u001b[1;34mNo Scoring Profile\u001b[0m\u001b[1;34m)\u001b[0m\u001b[1;34m Scoring Profile:\u001b[0m\n"
      ]
     },
     "metadata": {},
     "output_type": "display_data"
    },
    {
     "data": {
      "text/html": [
       "<pre style=\"white-space:pre;overflow-x:auto;line-height:normal;font-family:Menlo,'DejaVu Sans Mono',consolas,'Courier New',monospace\">┏━━━━━━━━━━━━━━━━━━━━━━┳━━━━━━━━━━━━┳━━━━━━━━━━━━━━━┳━━━━━━━━━━━━━━━━━━━━━━┳━━━━━━━━━━━━┳━━━━━━━━━━━━━━━━━━━━━━━━━┓\n",
       "┃<span style=\"color: #800080; text-decoration-color: #800080; font-weight: bold\"> Headline             </span>┃<span style=\"color: #800080; text-decoration-color: #800080; font-weight: bold\"> Score      </span>┃<span style=\"color: #800080; text-decoration-color: #800080; font-weight: bold\"> Category      </span>┃<span style=\"color: #800080; text-decoration-color: #800080; font-weight: bold\"> Date                 </span>┃<span style=\"color: #800080; text-decoration-color: #800080; font-weight: bold\"> View Count </span>┃<span style=\"color: #800080; text-decoration-color: #800080; font-weight: bold\"> Link                    </span>┃\n",
       "┡━━━━━━━━━━━━━━━━━━━━━━╇━━━━━━━━━━━━╇━━━━━━━━━━━━━━━╇━━━━━━━━━━━━━━━━━━━━━━╇━━━━━━━━━━━━╇━━━━━━━━━━━━━━━━━━━━━━━━━┩\n",
       "│<span style=\"color: #7f7f7f; text-decoration-color: #7f7f7f\"> Hollywood &amp; Vine:    </span>│ 0.69536763 │ ENTERTAINMENT │ 2014-12-12T00:00:00Z │ 12435      │ <a href=\"https://www.huffingtonpost.comhttp://www.newyorker.com/magazine/2014/12/15/hollywood-vine\" target=\"_blank\">https://www.huffington…</a> │\n",
       "│<span style=\"color: #7f7f7f; text-decoration-color: #7f7f7f\"> The Entertainment    </span>│            │               │                      │            │                         │\n",
       "│<span style=\"color: #7f7f7f; text-decoration-color: #7f7f7f\"> Industry Seeks The   </span>│            │               │                      │            │                         │\n",
       "│<span style=\"color: #7f7f7f; text-decoration-color: #7f7f7f\"> Future In Viral      </span>│            │               │                      │            │                         │\n",
       "│<span style=\"color: #7f7f7f; text-decoration-color: #7f7f7f\"> Video                </span>│            │               │                      │            │                         │\n",
       "│<span style=\"color: #7f7f7f; text-decoration-color: #7f7f7f\"> 5 Entertainment      </span>│ 0.66032064 │ BLACK VOICES  │ 2015-01-02T00:00:00Z │ 18008      │ <a href=\"https://www.huffingtonpost.com/entry/entertainment-events-2015_n_6357646.html\" target=\"_blank\">https://www.huffington…</a> │\n",
       "│<span style=\"color: #7f7f7f; text-decoration-color: #7f7f7f\"> Events We Want To    </span>│            │               │                      │            │                         │\n",
       "│<span style=\"color: #7f7f7f; text-decoration-color: #7f7f7f\"> See Happen In 2015   </span>│            │               │                      │            │                         │\n",
       "│<span style=\"color: #7f7f7f; text-decoration-color: #7f7f7f\"> The Rise Of India's  </span>│ 0.6529037  │ WORLDPOST     │ 2014-12-07T00:00:00Z │ 54084      │ <a href=\"https://www.huffingtonpost.com/entry/india-media-2014_n_6262080.html\" target=\"_blank\">https://www.huffington…</a> │\n",
       "│<span style=\"color: #7f7f7f; text-decoration-color: #7f7f7f\"> Booming Media        </span>│            │               │                      │            │                         │\n",
       "│<span style=\"color: #7f7f7f; text-decoration-color: #7f7f7f\"> Business             </span>│            │               │                      │            │                         │\n",
       "└──────────────────────┴────────────┴───────────────┴──────────────────────┴────────────┴─────────────────────────┘\n",
       "</pre>\n"
      ],
      "text/plain": [
       "┏━━━━━━━━━━━━━━━━━━━━━━┳━━━━━━━━━━━━┳━━━━━━━━━━━━━━━┳━━━━━━━━━━━━━━━━━━━━━━┳━━━━━━━━━━━━┳━━━━━━━━━━━━━━━━━━━━━━━━━┓\n",
       "┃\u001b[1;35m \u001b[0m\u001b[1;35mHeadline            \u001b[0m\u001b[1;35m \u001b[0m┃\u001b[1;35m \u001b[0m\u001b[1;35mScore     \u001b[0m\u001b[1;35m \u001b[0m┃\u001b[1;35m \u001b[0m\u001b[1;35mCategory     \u001b[0m\u001b[1;35m \u001b[0m┃\u001b[1;35m \u001b[0m\u001b[1;35mDate                \u001b[0m\u001b[1;35m \u001b[0m┃\u001b[1;35m \u001b[0m\u001b[1;35mView Count\u001b[0m\u001b[1;35m \u001b[0m┃\u001b[1;35m \u001b[0m\u001b[1;35mLink                   \u001b[0m\u001b[1;35m \u001b[0m┃\n",
       "┡━━━━━━━━━━━━━━━━━━━━━━╇━━━━━━━━━━━━╇━━━━━━━━━━━━━━━╇━━━━━━━━━━━━━━━━━━━━━━╇━━━━━━━━━━━━╇━━━━━━━━━━━━━━━━━━━━━━━━━┩\n",
       "│\u001b[2m \u001b[0m\u001b[2mHollywood & Vine:   \u001b[0m\u001b[2m \u001b[0m│ 0.69536763 │ ENTERTAINMENT │ 2014-12-12T00:00:00Z │ 12435      │ \u001b]8;id=353112;https://www.huffingtonpost.comhttp://www.newyorker.com/magazine/2014/12/15/hollywood-vine\u001b\\https://www.huffington…\u001b]8;;\u001b\\ │\n",
       "│\u001b[2m \u001b[0m\u001b[2mThe Entertainment   \u001b[0m\u001b[2m \u001b[0m│            │               │                      │            │                         │\n",
       "│\u001b[2m \u001b[0m\u001b[2mIndustry Seeks The  \u001b[0m\u001b[2m \u001b[0m│            │               │                      │            │                         │\n",
       "│\u001b[2m \u001b[0m\u001b[2mFuture In Viral     \u001b[0m\u001b[2m \u001b[0m│            │               │                      │            │                         │\n",
       "│\u001b[2m \u001b[0m\u001b[2mVideo               \u001b[0m\u001b[2m \u001b[0m│            │               │                      │            │                         │\n",
       "│\u001b[2m \u001b[0m\u001b[2m5 Entertainment     \u001b[0m\u001b[2m \u001b[0m│ 0.66032064 │ BLACK VOICES  │ 2015-01-02T00:00:00Z │ 18008      │ \u001b]8;id=222199;https://www.huffingtonpost.com/entry/entertainment-events-2015_n_6357646.html\u001b\\https://www.huffington…\u001b]8;;\u001b\\ │\n",
       "│\u001b[2m \u001b[0m\u001b[2mEvents We Want To   \u001b[0m\u001b[2m \u001b[0m│            │               │                      │            │                         │\n",
       "│\u001b[2m \u001b[0m\u001b[2mSee Happen In 2015  \u001b[0m\u001b[2m \u001b[0m│            │               │                      │            │                         │\n",
       "│\u001b[2m \u001b[0m\u001b[2mThe Rise Of India's \u001b[0m\u001b[2m \u001b[0m│ 0.6529037  │ WORLDPOST     │ 2014-12-07T00:00:00Z │ 54084      │ \u001b]8;id=710213;https://www.huffingtonpost.com/entry/india-media-2014_n_6262080.html\u001b\\https://www.huffington…\u001b]8;;\u001b\\ │\n",
       "│\u001b[2m \u001b[0m\u001b[2mBooming Media       \u001b[0m\u001b[2m \u001b[0m│            │               │                      │            │                         │\n",
       "│\u001b[2m \u001b[0m\u001b[2mBusiness            \u001b[0m\u001b[2m \u001b[0m│            │               │                      │            │                         │\n",
       "└──────────────────────┴────────────┴───────────────┴──────────────────────┴────────────┴─────────────────────────┘\n"
      ]
     },
     "metadata": {},
     "output_type": "display_data"
    },
    {
     "data": {
      "text/html": [
       "<pre style=\"white-space:pre;overflow-x:auto;line-height:normal;font-family:Menlo,'DejaVu Sans Mono',consolas,'Courier New',monospace\">\n",
       "<span style=\"color: #000080; text-decoration-color: #000080; font-weight: bold\">Results for boostViewCount Scoring Profile:</span>\n",
       "</pre>\n"
      ],
      "text/plain": [
       "\n",
       "\u001b[1;34mResults for boostViewCount Scoring Profile:\u001b[0m\n"
      ]
     },
     "metadata": {},
     "output_type": "display_data"
    },
    {
     "data": {
      "text/html": [
       "<pre style=\"white-space:pre;overflow-x:auto;line-height:normal;font-family:Menlo,'DejaVu Sans Mono',consolas,'Courier New',monospace\">┏━━━━━━━━━━━━━━━━━━━━━━┳━━━━━━━━━━━━━━━━━━━━┳━━━━━━━━━━┳━━━━━━━━━━━━━━━━━━━━━━┳━━━━━━━━━━━━┳━━━━━━━━━━━━━━━━━━━━━━┓\n",
       "┃<span style=\"color: #800080; text-decoration-color: #800080; font-weight: bold\"> Headline             </span>┃<span style=\"color: #800080; text-decoration-color: #800080; font-weight: bold\"> Score              </span>┃<span style=\"color: #800080; text-decoration-color: #800080; font-weight: bold\"> Category </span>┃<span style=\"color: #800080; text-decoration-color: #800080; font-weight: bold\"> Date                 </span>┃<span style=\"color: #800080; text-decoration-color: #800080; font-weight: bold\"> View Count </span>┃<span style=\"color: #800080; text-decoration-color: #800080; font-weight: bold\"> Link                 </span>┃\n",
       "┡━━━━━━━━━━━━━━━━━━━━━━╇━━━━━━━━━━━━━━━━━━━━╇━━━━━━━━━━╇━━━━━━━━━━━━━━━━━━━━━━╇━━━━━━━━━━━━╇━━━━━━━━━━━━━━━━━━━━━━┩\n",
       "│<span style=\"color: #7f7f7f; text-decoration-color: #7f7f7f\"> Millennials &amp; The    </span>│ 5.3695807456970215 │ BUSINESS │ 2014-10-16T00:00:00Z │ 8110       │ <a href=\"https://www.huffingtonpost.com/entry/millennials-the-music-bus_b_5990126.html\" target=\"_blank\">https://www.huffing…</a> │\n",
       "│<span style=\"color: #7f7f7f; text-decoration-color: #7f7f7f\"> Music Business:      </span>│                    │          │                      │            │                      │\n",
       "│<span style=\"color: #7f7f7f; text-decoration-color: #7f7f7f\"> Inverting the        </span>│                    │          │                      │            │                      │\n",
       "│<span style=\"color: #7f7f7f; text-decoration-color: #7f7f7f\"> Hierarchy            </span>│                    │          │                      │            │                      │\n",
       "│<span style=\"color: #7f7f7f; text-decoration-color: #7f7f7f\"> The Biggest Food     </span>│ 4.715937614440918  │ TASTE    │ 2014-12-01T00:00:00Z │ 7338       │ <a href=\"https://www.huffingtonpost.com/entry/2014-food-trends_n_5792598.html\" target=\"_blank\">https://www.huffing…</a> │\n",
       "│<span style=\"color: #7f7f7f; text-decoration-color: #7f7f7f\"> Trends Of 2015       </span>│                    │          │                      │            │                      │\n",
       "│<span style=\"color: #7f7f7f; text-decoration-color: #7f7f7f\"> The Content Brief:   </span>│ 4.106094837188721  │ TECH     │ 2013-05-18T00:00:00Z │ 6263       │ <a href=\"https://www.huffingtonpost.com/entry/upfronts-nbc_us_5bb36578e4b0fa920b97a9ce\" target=\"_blank\">https://www.huffing…</a> │\n",
       "│<span style=\"color: #7f7f7f; text-decoration-color: #7f7f7f\"> TV Goes              </span>│                    │          │                      │            │                      │\n",
       "│<span style=\"color: #7f7f7f; text-decoration-color: #7f7f7f\"> Multiplatform at the </span>│                    │          │                      │            │                      │\n",
       "│<span style=\"color: #7f7f7f; text-decoration-color: #7f7f7f\"> Upfronts [WATCH]     </span>│                    │          │                      │            │                      │\n",
       "└──────────────────────┴────────────────────┴──────────┴──────────────────────┴────────────┴──────────────────────┘\n",
       "</pre>\n"
      ],
      "text/plain": [
       "┏━━━━━━━━━━━━━━━━━━━━━━┳━━━━━━━━━━━━━━━━━━━━┳━━━━━━━━━━┳━━━━━━━━━━━━━━━━━━━━━━┳━━━━━━━━━━━━┳━━━━━━━━━━━━━━━━━━━━━━┓\n",
       "┃\u001b[1;35m \u001b[0m\u001b[1;35mHeadline            \u001b[0m\u001b[1;35m \u001b[0m┃\u001b[1;35m \u001b[0m\u001b[1;35mScore             \u001b[0m\u001b[1;35m \u001b[0m┃\u001b[1;35m \u001b[0m\u001b[1;35mCategory\u001b[0m\u001b[1;35m \u001b[0m┃\u001b[1;35m \u001b[0m\u001b[1;35mDate                \u001b[0m\u001b[1;35m \u001b[0m┃\u001b[1;35m \u001b[0m\u001b[1;35mView Count\u001b[0m\u001b[1;35m \u001b[0m┃\u001b[1;35m \u001b[0m\u001b[1;35mLink                \u001b[0m\u001b[1;35m \u001b[0m┃\n",
       "┡━━━━━━━━━━━━━━━━━━━━━━╇━━━━━━━━━━━━━━━━━━━━╇━━━━━━━━━━╇━━━━━━━━━━━━━━━━━━━━━━╇━━━━━━━━━━━━╇━━━━━━━━━━━━━━━━━━━━━━┩\n",
       "│\u001b[2m \u001b[0m\u001b[2mMillennials & The   \u001b[0m\u001b[2m \u001b[0m│ 5.3695807456970215 │ BUSINESS │ 2014-10-16T00:00:00Z │ 8110       │ \u001b]8;id=179040;https://www.huffingtonpost.com/entry/millennials-the-music-bus_b_5990126.html\u001b\\https://www.huffing…\u001b]8;;\u001b\\ │\n",
       "│\u001b[2m \u001b[0m\u001b[2mMusic Business:     \u001b[0m\u001b[2m \u001b[0m│                    │          │                      │            │                      │\n",
       "│\u001b[2m \u001b[0m\u001b[2mInverting the       \u001b[0m\u001b[2m \u001b[0m│                    │          │                      │            │                      │\n",
       "│\u001b[2m \u001b[0m\u001b[2mHierarchy           \u001b[0m\u001b[2m \u001b[0m│                    │          │                      │            │                      │\n",
       "│\u001b[2m \u001b[0m\u001b[2mThe Biggest Food    \u001b[0m\u001b[2m \u001b[0m│ 4.715937614440918  │ TASTE    │ 2014-12-01T00:00:00Z │ 7338       │ \u001b]8;id=420207;https://www.huffingtonpost.com/entry/2014-food-trends_n_5792598.html\u001b\\https://www.huffing…\u001b]8;;\u001b\\ │\n",
       "│\u001b[2m \u001b[0m\u001b[2mTrends Of 2015      \u001b[0m\u001b[2m \u001b[0m│                    │          │                      │            │                      │\n",
       "│\u001b[2m \u001b[0m\u001b[2mThe Content Brief:  \u001b[0m\u001b[2m \u001b[0m│ 4.106094837188721  │ TECH     │ 2013-05-18T00:00:00Z │ 6263       │ \u001b]8;id=561168;https://www.huffingtonpost.com/entry/upfronts-nbc_us_5bb36578e4b0fa920b97a9ce\u001b\\https://www.huffing…\u001b]8;;\u001b\\ │\n",
       "│\u001b[2m \u001b[0m\u001b[2mTV Goes             \u001b[0m\u001b[2m \u001b[0m│                    │          │                      │            │                      │\n",
       "│\u001b[2m \u001b[0m\u001b[2mMultiplatform at the\u001b[0m\u001b[2m \u001b[0m│                    │          │                      │            │                      │\n",
       "│\u001b[2m \u001b[0m\u001b[2mUpfronts [WATCH]    \u001b[0m\u001b[2m \u001b[0m│                    │          │                      │            │                      │\n",
       "└──────────────────────┴────────────────────┴──────────┴──────────────────────┴────────────┴──────────────────────┘\n"
      ]
     },
     "metadata": {},
     "output_type": "display_data"
    }
   ],
   "source": [
    "def search_and_print_results(scoring_profile=None):\n",
    "    query = \"Entertainment Industry Trends\"\n",
    "    vector_query = VectorizableTextQuery(\n",
    "        text=query, k_nearest_neighbors=50, fields=\"vector\", exhaustive=True\n",
    "    )\n",
    "    results = search_client.search(\n",
    "        search_text=None,\n",
    "        vector_queries=[vector_query],\n",
    "        scoring_profile=scoring_profile,\n",
    "        top=3,\n",
    "    )\n",
    "\n",
    "    profile_name = scoring_profile if scoring_profile else 'Vanilla (No Scoring Profile)'\n",
    "    console.print(f\"\\nResults for {profile_name} Scoring Profile:\", style=\"bold blue\")\n",
    "\n",
    "    # Create a table for the results\n",
    "    table = Table(show_header=True, header_style=\"bold magenta\")\n",
    "    table.add_column(\"Headline\", style=\"dim\", width=20)\n",
    "    table.add_column(\"Score\")\n",
    "    table.add_column(\"Category\")\n",
    "    table.add_column(\"Date\")\n",
    "    table.add_column(\"View Count\")  \n",
    "    table.add_column(\"Link\")\n",
    "\n",
    "    for result in results:\n",
    "        # Format the link as a clickable hyperlink\n",
    "        link_text = Text(result['link'], style=\"link\")\n",
    "        link_text.stylize(f\"link {result['link']}\")\n",
    "\n",
    "        table.add_row(\n",
    "            result['headline'],\n",
    "            str(result['@search.score']),\n",
    "            result['category'],\n",
    "            result['date'],\n",
    "            str(result['view_count']),  \n",
    "            link_text  \n",
    "        )\n",
    "\n",
    "    # Print the table\n",
    "    console.print(table)\n",
    "\n",
    "# Perform searches with and without the freshness scoring profile\n",
    "search_and_print_results()  # Vanilla query without any scoring profile\n",
    "search_and_print_results(\"boostViewCount\")"
   ]
  },
  {
   "cell_type": "markdown",
   "metadata": {},
   "source": [
    "When the `boostViewCount` scoring profile is applied, the search results prioritize articles with higher view counts, even if they are not the most topically relevant or recent. For example, articles such as \"Millennials & The Music Business: Inverting the Hierarchy\" and \"The Biggest Food Trends Of 2015\" with significant views rank higher despite not being directly related to entertainment industry trends. In contrast, a vanilla query without any scoring profile returns results based on default relevance, where more topically relevant articles like \"Hollywood & Vine: The Entertainment Industry Seeks The Future In Viral Video\" and \"5 Entertainment Events We Want To See Happen In 2015\" are ranked higher regardless of their view counts. This illustrates the effectiveness of the magnitude boosting scoring profile in promoting more popular content based on view count.\n",
    "\n",
    "#### Use Cases for Magnitude Boosting\n",
    "\n",
    "- **Content Platforms:** Highlight the most viewed articles, videos, or posts, ensuring popular content is prominently displayed.\n",
    "- **E-commerce:** Promote best-selling products, helping customers find popular items that others have purchased.\n",
    "- **Social Media:** Surface posts with the highest engagement, increasing visibility for popular content.\n",
    "- **News Websites:** Prioritize widely-read news articles, ensuring significant stories are highlighted.\n",
    "- **Educational Platforms:** Feature courses or tutorials with the most enrollments, guiding users to popular learning resources.\n",
    "- **Review Sites:** Emphasize products or services with the most reviews, helping users make informed decisions based on popular opinion.\n",
    "\n",
    "#### Why Customers Might Use Magnitude Boosting\n",
    "\n",
    "- **Increased Engagement:** Promoting popular content can drive higher user engagement as users tend to trust and follow the crowd.\n",
    "- **Enhanced Discoverability:** Helps users find content that is widely recognized and appreciated, improving user satisfaction.\n",
    "- **Social Proof:** Showcasing high-view content leverages social proof, influencing new users to explore and trust the platform.\n",
    "- **Prioritizing Proven Content:** Ensures that well-received and validated content is easily accessible, enhancing content quality perception.\n",
    "- **Driving Traffic:** Popular items or articles are likely to attract more traffic, leading to increased views and potential conversions.\n",
    "- **Boosting Sales:** Highlighting best-selling products can encourage more purchases, leveraging the popularity of items to drive sales.\n"
   ]
  }
 ],
 "metadata": {
  "kernelspec": {
   "display_name": ".venv",
   "language": "python",
   "name": "python3"
  },
  "language_info": {
   "codemirror_mode": {
    "name": "ipython",
    "version": 3
   },
   "file_extension": ".py",
   "mimetype": "text/x-python",
   "name": "python",
   "nbconvert_exporter": "python",
   "pygments_lexer": "ipython3",
   "version": "3.11.9"
  }
 },
 "nbformat": 4,
 "nbformat_minor": 2
}
