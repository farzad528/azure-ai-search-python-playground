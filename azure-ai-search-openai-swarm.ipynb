{
 "cells": [
  {
   "cell_type": "markdown",
   "metadata": {},
   "source": [
    "# Customer Support Bot Using OpenAI Swarm with Azure AI Search and Azure OpenAI\n",
    "[Farzad S.](https://www.linkedin.com/in/farzadsunavala/)\n",
    "\n",
    "This notebook demonstrates how to create a customer support bot using OpenAI's Swarm framework and Azure AI Search as a tool for function calling along with Azure OpenAI. The bot consists of two agents:\n",
    "\n",
    "1. **User Interface Agent**: Handles initial user interactions and transfers users to the Help Center Agent.\n",
    "2. **Help Center Agent**: Provides detailed help using Azure AI Search and can perform actions like submitting tickets and sending emails."
   ]
  },
  {
   "cell_type": "markdown",
   "metadata": {},
   "source": [
    "### Prerequisites\n",
    "\n",
    "1. **Python 3.1** or higher\n",
    "2. **OpenAI Swarm** library installed\n",
    "3. **Azure OpenAI** or **OpenAI** access with appropriate models deployed\n",
    "4. **Azure AI Search index** index named `azure-search-docs` populated with the Azure AI Search documentation\n",
    "5. **Azure OpenAI API key**\n",
    "6. **Azure AI Search service endpoint and API key**\n",
    "---"
   ]
  },
  {
   "cell_type": "markdown",
   "metadata": {},
   "source": [
    "## Setup\n",
    "### 1. Install Required Packages"
   ]
  },
  {
   "cell_type": "code",
   "execution_count": null,
   "metadata": {},
   "outputs": [],
   "source": [
    "# Install OpenAI Swarm and Azure Search SDK\n",
    "!pip install git+https://github.com/openai/swarm.git\n",
    "!pip install azure-search-documents==11.6.0b6"
   ]
  },
  {
   "cell_type": "markdown",
   "metadata": {},
   "source": [
    "### 2. Import Libraries"
   ]
  },
  {
   "cell_type": "code",
   "execution_count": 3,
   "metadata": {},
   "outputs": [],
   "source": [
    "from swarm import Swarm, Agent\n",
    "from azure.search.documents import SearchClient\n",
    "from azure.core.credentials import AzureKeyCredential\n",
    "from openai import AzureOpenAI\n",
    "import json\n",
    "import re\n",
    "import os"
   ]
  },
  {
   "cell_type": "markdown",
   "metadata": {},
   "source": [
    "### 3. Configure API Credentials"
   ]
  },
  {
   "cell_type": "code",
   "execution_count": 4,
   "metadata": {},
   "outputs": [],
   "source": [
    "# Azure OpenAI API configuration\n",
    "aoai_client = AzureOpenAI(\n",
    "    api_key=os.getenv(\"AZURE_OPENAI_API_KEY\"),  \n",
    "    api_version=\"2024-09-01-preview\",\n",
    "    azure_endpoint=os.getenv(\"AZURE_OPENAI_ENDPOINT\")\n",
    ")\n",
    "\n",
    "# Azure AI Search configuration\n",
    "search_endpoint = os.getenv(\"AZURE_SEARCH_SERVICE_ENDPOINT\")    # Replace with your Azure AI Search endpoint\n",
    "search_api_key = os.getenv(\"AZURE_SEARCH_ADMIN_KEY\")      # Replace with your Azure AI Search API key\n",
    "index_name = \"azure-search-docs\"            # Replace with your Azure AI Search index name"
   ]
  },
  {
   "cell_type": "markdown",
   "metadata": {},
   "source": [
    "### 4. Initialize Azure AI Search Client"
   ]
  },
  {
   "cell_type": "code",
   "execution_count": 5,
   "metadata": {},
   "outputs": [],
   "source": [
    "# Initialize the Azure AI Search client\n",
    "credential = AzureKeyCredential(search_api_key)\n",
    "search_client = SearchClient(\n",
    "    endpoint=search_endpoint,\n",
    "    index_name=index_name,\n",
    "    credential=credential\n",
    ")"
   ]
  },
  {
   "cell_type": "markdown",
   "metadata": {},
   "source": [
    "### 5. Initialize Swarm Client"
   ]
  },
  {
   "cell_type": "code",
   "execution_count": 6,
   "metadata": {},
   "outputs": [],
   "source": [
    "# Initialize Swarm client with Azure OpenAI client\n",
    "swarm_client = Swarm(client=aoai_client)\n"
   ]
  },
  {
   "cell_type": "markdown",
   "metadata": {},
   "source": [
    "---"
   ]
  },
  {
   "cell_type": "markdown",
   "metadata": {},
   "source": [
    "## Define Functions with Print Statements for Logging\n",
    "### 1. `query_docs` Function\n",
    "This function searches the Azure AI Search index for relevant documents using the Hybrid + Semantic Reranking retrieval mode."
   ]
  },
  {
   "cell_type": "code",
   "execution_count": 56,
   "metadata": {},
   "outputs": [],
   "source": [
    "import re\n",
    "from azure.search.documents import SearchClient\n",
    "from azure.search.documents.models import (\n",
    "    QueryLanguage,\n",
    "    QueryType,\n",
    "    VectorizableTextQuery,\n",
    ")\n",
    "from azure.core.credentials import AzureKeyCredential\n",
    "\n",
    "def query_docs(query: str):\n",
    "    \"\"\"\n",
    "    Query the knowledge base for relevant articles using vector search.\n",
    "    Returns all relevant chunks without truncation.\n",
    "    \"\"\"\n",
    "    print(f\"[Function Call] query_docs called with query: '{query}'\")\n",
    "    \n",
    "    # Create a vectorizable text query\n",
    "    vector_query = VectorizableTextQuery(\n",
    "        text=query,\n",
    "        k_nearest_neighbors=3,\n",
    "        fields=\"text_vector\"  # Ensure this field matches your index's vector field\n",
    "    )\n",
    "    \n",
    "    # Perform the search with semantic ranking\n",
    "    results = search_client.search(\n",
    "        search_text=query,\n",
    "        vector_queries=[vector_query],\n",
    "        query_type=QueryType.SEMANTIC,\n",
    "        query_language=QueryLanguage.EN_US,\n",
    "        semantic_configuration_name=\"azure-search-docs-semantic-configuration\",  # Ensure this matches your configuration\n",
    "        top=3,  # Number of results to retrieve\n",
    "    )\n",
    "    \n",
    "    output = []\n",
    "    \n",
    "    for result in results:\n",
    "        # Adjust 'Title', 'chunk', and 'url' to match your index's field names\n",
    "        title = result.get(\"title\", \"No Title\")\n",
    "        content = result.get(\"chunk\", \"No Content\")\n",
    "        url = result.get(\"url\", \"No URL\")\n",
    "        output.append((title, content, url))\n",
    "    \n",
    "    if output:\n",
    "        response_parts = []\n",
    "        for idx, (title, content, url) in enumerate(output, start=1):\n",
    "            part = f\"**Result {idx}:**\\n**Title:** {title}\\n**Content:** {content}\\n**URL:** {url}\\n\"\n",
    "            response_parts.append(part)\n",
    "            print(f\"[Function Output] Result {idx} processed.\")\n",
    "        \n",
    "        response = \"\\n\".join(response_parts)\n",
    "        print(f\"[Function Return] query_docs returning response with {len(output)} results.\")\n",
    "        return {\"response\": response}\n",
    "    else:\n",
    "        print(\"[Function Output] No results found in the knowledge base.\")\n",
    "        print(\"[Function Return] query_docs returning 'No results found.'\")\n",
    "        return {\n",
    "            \"response\": \"I'm sorry, but I couldn't find any information on that topic in our knowledge base.\"\n",
    "        }\n"
   ]
  },
  {
   "cell_type": "markdown",
   "metadata": {},
   "source": [
    "### 2. `submit_ticket` Function\n",
    "Simulates submitting a support ticket."
   ]
  },
  {
   "cell_type": "code",
   "execution_count": 50,
   "metadata": {},
   "outputs": [],
   "source": [
    "def submit_ticket(description: str):\n",
    "    \"\"\"\n",
    "    Submit a ticket for the user.\n",
    "    \"\"\"\n",
    "    print(f\"[Function Call] submit_ticket called with description: '{description}'\")\n",
    "    # Simulate ticket submission logic here\n",
    "    print(f\"[Function Output] Ticket created with description: '{description}'\")\n",
    "    print(f\"[Function Return] submit_ticket returning response.\")\n",
    "    return {\"response\": f\"Your ticket has been created with the description: '{description}'.\"}\n"
   ]
  },
  {
   "cell_type": "markdown",
   "metadata": {},
   "source": [
    "### 3. `send_email` Function\n",
    "Simulates sending an email to the user."
   ]
  },
  {
   "cell_type": "code",
   "execution_count": 51,
   "metadata": {},
   "outputs": [],
   "source": [
    "def send_email(email_address: str = None, message: str = \"Your support ticket has been submitted.\", context_variables: dict = {}):\n",
    "    \"\"\"\n",
    "    Send an email to the user.\n",
    "    \"\"\"\n",
    "    if not email_address:\n",
    "        email_address = context_variables.get(\"email_address\", None)\n",
    "        if not email_address:\n",
    "            print(\"[Function Output] Email address not provided.\")\n",
    "            print(\"[Function Return] send_email returning 'Email address not provided.'\")\n",
    "            return {\"response\": \"Email address not provided.\"}\n",
    "    # Simulate sending an email\n",
    "    print(f\"[Function Call] send_email called with email_address: '{email_address}' and message: '{message}'\")\n",
    "    print(f\"[Function Output] Email sent to: {email_address} with message: {message}\")\n",
    "    print(f\"[Function Return] send_email returning response.\")\n",
    "    return {\"response\": f\"The email has been sent to {email_address}.\"}\n"
   ]
  },
  {
   "cell_type": "markdown",
   "metadata": {},
   "source": [
    "### 4. `transfer_to_help_center` Function\n",
    "Transfers the user to the Help Center Agent."
   ]
  },
  {
   "cell_type": "code",
   "execution_count": 53,
   "metadata": {},
   "outputs": [],
   "source": [
    "def transfer_to_help_center():\n",
    "    \"\"\"\n",
    "    Transfer the user to the help center agent.\n",
    "    \"\"\"\n",
    "    print(\"[Function Call] transfer_to_help_center called.\")\n",
    "    print(\"[Function Output] Transferring to Help Center Agent.\")\n",
    "    print(\"[Function Return] transfer_to_help_center returning Help Center Agent.\")\n",
    "    return help_center_agent\n"
   ]
  },
  {
   "cell_type": "markdown",
   "metadata": {},
   "source": [
    "---\n",
    "## Define Agents\n",
    "### 1. Help Center Agent"
   ]
  },
  {
   "cell_type": "code",
   "execution_count": 52,
   "metadata": {},
   "outputs": [],
   "source": [
    "help_center_agent = Agent(\n",
    "    name=\"Help Center Agent\",\n",
    "    instructions=\"\"\"\n",
    "You are a help center agent who assists users with questions about our products and services.\n",
    "Use the provided functions to help the user:\n",
    "\n",
    "- Use `query_docs` to search for information.\n",
    "- Use `submit_ticket` to create a support ticket for the user.\n",
    "- Use `send_email` to send an email to the user.\n",
    "\n",
    "**Important:** Before performing any action, ensure you fully understand the user's request. If needed, ask clarifying questions to gather all necessary details.\n",
    "\n",
    "When you need to use a function, call it directly.\n",
    "\"\"\",\n",
    "    functions=[query_docs, submit_ticket, send_email],\n",
    "    model='gpt-4o-mini'  # Replace with your Azure OpenAI deployment ID\n",
    ")\n"
   ]
  },
  {
   "cell_type": "markdown",
   "metadata": {},
   "source": [
    "### 2. User Interface Agent"
   ]
  },
  {
   "cell_type": "code",
   "execution_count": 54,
   "metadata": {},
   "outputs": [],
   "source": [
    "user_interface_agent = Agent(\n",
    "    name=\"User Interface Agent\",\n",
    "    instructions=\"\"\"\n",
    "You are a user interface agent that handles all interactions with the user.\n",
    "For detailed help, transfer the user to the Help Center Agent using the transfer_to_help_center function.\n",
    "\"\"\",\n",
    "    functions=[transfer_to_help_center],\n",
    "    model='gpt-4o-mini'  # Replace with your Azure OpenAI deployment ID\n",
    ")"
   ]
  },
  {
   "cell_type": "markdown",
   "metadata": {},
   "source": [
    "---\n",
    "## Multi Agent Interaction Loop "
   ]
  },
  {
   "cell_type": "code",
   "execution_count": 55,
   "metadata": {},
   "outputs": [
    {
     "name": "stdout",
     "output_type": "stream",
     "text": [
      "You can start chatting with the assistant. Type 'exit' or 'quit' to end the conversation.\n",
      "User Input: need help with azure search\n",
      "[Function Call] transfer_to_help_center called.\n",
      "[Function Output] Transferring to Help Center Agent.\n",
      "[Function Return] transfer_to_help_center returning Help Center Agent.\n",
      "Tool: {\"assistant\": \"Help Center Agent\"}\n",
      "Help center agent: Could you please provide more details about what specific assistance you need with Azure Search? Are you looking for setup guidance, troubleshooting, or something else?\n",
      "User Input: semantic ranker availability in mexico central\n",
      "[Function Call] query_docs called with query: 'semantic ranker availability in Mexico Central'\n",
      "[Function Output] Result 1 processed.\n",
      "[Function Output] Result 2 processed.\n",
      "[Function Output] Result 3 processed.\n",
      "[Function Return] query_docs returning response with 3 results.\n",
      "Tool: {'response': '**Result 1:**\\n**Title:** azure-search.pdf\\n**Content:** that\\'s billed by usage. By default, semantic ranker\\nis turned off on a new search service, but it can be enabled by anyone with Contributor\\npermissions. If you don\\'t want anyone enabling it inadvertently, you can disable it using\\nthe REST API.\\n\\nCheck the regions list to see if your region is listed.\\n\\nFollow these steps to enable semantic ranker at the service level. Once enabled, it\\'s\\navailable to all indexes. You can\\'t turn it on or off for specific indexes.\\n\\n1. Open the Azure portal .\\n\\n2. Navigate to your search service. On the Overview page, make sure the service\\nis a billable tier, Basic or higher.\\n\\n3. On the left-nav pane, select Settings > Semantic ranking.\\n\\n4. Select either the Free plan or the Standard plan. You can switch between the\\nfree plan and the standard plan at any time.\\n\\nCheck availability\\n\\nEnable semantic ranker\\n\\nAzure portal\\n\\nhttps://portal.azure.com/\\nhttps://portal.azure.com/\\n\\n\\nThe free plan is capped at 1,000 queries per month. After the first 1,000 queries in\\nthe free plan, an error message indicates you\\'ve exhausted your quota on the next\\nsemantic query. When quota is exhausted, you should upgrade to the standard plan\\nto continue using semantic ranking.\\n\\nTo reverse feature enablement, or for full protection against accidental usage and\\ncharges, you can disable semantic ranker using the Create or Update Service API on\\nyour search service. After the feature is disabled, any requests that include the semantic\\nquery type will be rejected.\\n\\nManagement REST API calls are authenticated through Microsoft Entra ID. See Manage\\nyour Azure AI Search service with REST APIs for instructions on how to authenticate.\\n\\nHTTP\\n\\nDisable semantic ranker using the REST API\\n\\nPATCH \\nhttps://management.azure.com/subscriptions/{{subscriptionId}}/resourcegroups\\n/{{resource-group}}/providers/Microsoft.Search/searchServices/{{search-\\nservice-name}}?api-version=2023-11-01\\n    {\\n      \"properties\": {\\n        \"semanticSearch\": \"disabled\"\\n      }\\n    }\\n**URL:** No URL\\n\\n**Result 2:**\\n**Title:** azure-search.pdf\\n**Content:** https://learn.microsoft.com/en-us/azure/search/search-performance-optimization#back-up-and-restore-alternatives\\nhttps://learn.microsoft.com/en-us/azure/search/search-performance-optimization#back-up-and-restore-alternatives\\nhttps://learn.microsoft.com/en-us/security/benchmark/azure/overview\\nhttps://learn.microsoft.com/en-us/security/benchmark/azure/security-baselines-overview\\n\\n\\nCreate an Azure AI Search service in the\\nportal\\nArticle • 09/19/2024\\n\\nAzure AI Search is an information retrieval platform for the enterprise. It supports\\ntraditional search and conversational AI-driven search for \"chat with your data\"\\nexperiences over your proprietary content.\\n\\nThe easiest way to create a service is using the Azure portal , which is covered in this\\narticle.\\n\\nYou can also use Azure PowerShell, Azure CLI, the Management REST API, an Azure\\nResource Manager service template, a Bicep file, or Terraform.\\n\\nA few service properties are fixed for the lifetime of the service. Before creating the\\nservice, decide on a name, region, and tier.\\n\\nService name becomes part of the URL endpoint. The name must be unique and it\\nmust conform to naming rules.\\n\\nRegion determines data residency and the availability of certain features. Semantic\\nranker and Azure AI integration come with region requirements. Make sure your\\nregion of choice supports the features you need.\\n\\n\\uf80a\\n\\nBefore you start\\n\\nhttps://portal.azure.com/\\nhttps://portal.azure.com/\\nhttps://learn.microsoft.com/en-us/azure/search/media/search-create-service-portal/animatedgif-azuresearch.gif#lightbox\\nhttps://learn.microsoft.com/en-us/azure/search/media/search-create-service-portal/animatedgif-azuresearch.gif#lightbox\\n\\n\\nService tier determines infrastructure, service limits, and billing. Some features\\naren\\'t available on lower or specialized tiers.\\n**URL:** No URL\\n\\n**Result 3:**\\n**Title:** azure-search.pdf\\n**Content:** Management REST API calls are authenticated through Microsoft Entra ID. See Manage\\nyour Azure AI Search service with REST APIs for instructions on how to authenticate.\\n\\nHTTP\\n\\nDisable semantic ranker using the REST API\\n\\nPATCH \\nhttps://management.azure.com/subscriptions/{{subscriptionId}}/resourcegroups\\n/{{resource-group}}/providers/Microsoft.Search/searchServices/{{search-\\nservice-name}}?api-version=2023-11-01\\n    {\\n      \"properties\": {\\n        \"semanticSearch\": \"disabled\"\\n      }\\n    }\\n\\nhttps://learn.microsoft.com/en-us/rest/api/searchmanagement/services/create-or-update#searchsemanticsearch\\n\\n\\nFeedback\\n\\nWas this page helpful?\\n\\nProvide product feedback | Get help at Microsoft Q&A\\n\\nTo re-enable semantic ranker, rerun the previous request, setting \"semanticSearch\" to\\neither \"free\" (default) or \"standard\".\\n\\nConfigure semantic ranker so that you can test out semantic ranking on your content.\\n\\nNext steps\\n\\n\\ue8e1 Yes \\ue8e0 No\\n\\nhttps://feedback.azure.com/d365community/forum/9325d19e-0225-ec11-b6e6-000d3a4f07b8\\nhttps://feedback.azure.com/d365community/forum/9325d19e-0225-ec11-b6e6-000d3a4f07b8\\nhttps://learn.microsoft.com/en-us/answers/tags/109/azure-cognitive-search\\n\\n\\nConfigure semantic ranker and return\\ncaptions in search results\\nArticle • 09/24/2024\\n\\nSemantic ranking iterates over an initial result set, applying an L2 ranking methodology\\nthat promotes the most semantically relevant results to the top of the stack. You can\\nalso get semantic captions, with highlights over the most relevant terms and phrases,\\nand semantic answers.\\n\\nThis article explains how to configure a search index for semantic reranking.\\n\\nA search service on a Basic tier or higher, subject to region availability.\\n\\nSemantic ranker enabled on your search service.\\n\\nAn existing search index with rich text content. Semantic ranking applies to strings\\n(nonvector) fields and works best on content that is informational or descriptive.\\n**URL:** No URL\\n'}\n",
      "Help center agent: The semantic ranker in Azure Search is generally available when:\n",
      "\n",
      "1. **Service Tier**: The search service must be on a billable tier, such as Basic or higher.\n",
      "2. **Region Availability**: Availability may depend on the specific Azure region you're using. You need to check if Mexico Central supports the semantic ranker feature.\n",
      "\n",
      "To enable semantic ranking, you would typically go through the Azure portal, but ensure your region choice supports this feature.\n",
      "\n",
      "If you need me to create a support ticket for further assistance or if you have more specific questions, please let me know!\n",
      "User Input: yes please create a support ticket as i'd like to have an ETA on when this will be live to go to production for my RAG use case\n",
      "[Function Call] submit_ticket called with description: 'Request for ETA on the availability of the semantic ranker feature in Azure Search for the Mexico Central region. This is needed to proceed with production for a RAG (Retrieval-Augmented Generation) use case.'\n",
      "[Function Output] Ticket created with description: 'Request for ETA on the availability of the semantic ranker feature in Azure Search for the Mexico Central region. This is needed to proceed with production for a RAG (Retrieval-Augmented Generation) use case.'\n",
      "[Function Return] submit_ticket returning response.\n",
      "Tool: {'response': \"Your ticket has been created with the description: 'Request for ETA on the availability of the semantic ranker feature in Azure Search for the Mexico Central region. This is needed to proceed with production for a RAG (Retrieval-Augmented Generation) use case.'.\"}\n",
      "Help center agent: Your support ticket has been successfully created. It states that you are requesting an ETA on the availability of the semantic ranker feature in Azure Search for the Mexico Central region, which is crucial for your RAG (Retrieval-Augmented Generation) use case.\n",
      "\n",
      "If you have any further questions or need assistance with anything else, feel free to ask!\n",
      "User Input: can you send me a confirmation email please\n",
      "[Function Output] Email address not provided.\n",
      "[Function Return] send_email returning 'Email address not provided.'\n",
      "Tool: {'response': 'Email address not provided.'}\n",
      "Help center agent: Could you please provide your email address so I can send you the confirmation email?\n",
      "User Input: user123@outlook.com\n",
      "[Function Call] send_email called with email_address: 'user123@outlook.com' and message: 'Your support ticket has been successfully created regarding the availability of the semantic ranker feature in Azure Search for the Mexico Central region, needed for your RAG (Retrieval-Augmented Generation) use case. We will notify you as soon as we have an update on this issue.'\n",
      "[Function Output] Email sent to: user123@outlook.com with message: Your support ticket has been successfully created regarding the availability of the semantic ranker feature in Azure Search for the Mexico Central region, needed for your RAG (Retrieval-Augmented Generation) use case. We will notify you as soon as we have an update on this issue.\n",
      "[Function Return] send_email returning response.\n",
      "Tool: {'response': 'The email has been sent to user123@outlook.com.'}\n",
      "Help center agent: The confirmation email has been successfully sent to user123@outlook.com. If you need any further assistance, feel free to ask!\n",
      "User Input: thank you so much! \n",
      "Help center agent: You're welcome! If you have any more questions in the future or need assistance, feel free to reach out. Have a great day!\n",
      "User Input: quit\n",
      "Assistant: Goodbye!\n"
     ]
    }
   ],
   "source": [
    "# Initialize context variables\n",
    "context_variables = {\"name\": \"Farzad\", \"user_id\": 12345}\n",
    "\n",
    "# Initialize messages and set the starting agent\n",
    "messages = []\n",
    "agent = user_interface_agent  # Start with the User Interface Agent\n",
    "\n",
    "def pretty_print_messages(messages):\n",
    "    for message in messages:\n",
    "        if message.get(\"content\") is None:\n",
    "            continue\n",
    "        sender = message.get(\"sender\", message.get(\"role\", \"assistant\"))\n",
    "        print(f\"{sender.capitalize()}: {message['content']}\")\n",
    "\n",
    "def is_valid_email(email: str) -> bool:\n",
    "    pattern = r\"[^@]+@[^@]+\\.[^@]+\"\n",
    "    return re.match(pattern, email) is not None\n",
    "\n",
    "# Interaction loop with print-based logging\n",
    "print(\"You can start chatting with the assistant. Type 'exit' or 'quit' to end the conversation.\")\n",
    "try:\n",
    "    while True:\n",
    "        user_input = input(\"> \")\n",
    "        print(f\"User Input: {user_input}\")  # Logging user input\n",
    "        if user_input.lower() in [\"exit\", \"quit\"]:\n",
    "            print(\"Assistant: Goodbye!\")\n",
    "            break\n",
    "\n",
    "        messages.append({\"role\": \"user\", \"content\": user_input})\n",
    "\n",
    "        # Check if the user provided an email address\n",
    "        if is_valid_email(user_input):\n",
    "            context_variables[\"email_address\"] = user_input.strip()\n",
    "            # Inform the assistant that the email address has been provided\n",
    "            messages.append({\"role\": \"system\", \"content\": f\"User email address is {user_input.strip()}\"})\n",
    "\n",
    "        response = swarm_client.run(\n",
    "            agent=agent,\n",
    "            messages=messages,\n",
    "            context_variables=context_variables\n",
    "        )\n",
    "        # Update messages with the new messages from the response\n",
    "        messages.extend(response.messages)\n",
    "        # Update agent if there's a handoff\n",
    "        agent = response.agent\n",
    "        # Update context variables if they have changed\n",
    "        context_variables.update(response.context_variables)\n",
    "        # Print the assistant's response\n",
    "        pretty_print_messages(response.messages[-len(response.messages):])\n",
    "except KeyboardInterrupt:\n",
    "    print(\"\\nAssistant: Goodbye!\")"
   ]
  }
 ],
 "metadata": {
  "kernelspec": {
   "display_name": ".venv",
   "language": "python",
   "name": "python3"
  },
  "language_info": {
   "codemirror_mode": {
    "name": "ipython",
    "version": 3
   },
   "file_extension": ".py",
   "mimetype": "text/x-python",
   "name": "python",
   "nbconvert_exporter": "python",
   "pygments_lexer": "ipython3",
   "version": "3.11.9"
  }
 },
 "nbformat": 4,
 "nbformat_minor": 2
}
